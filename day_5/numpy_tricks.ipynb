{
 "cells": [
  {
   "cell_type": "code",
   "execution_count": 2,
   "id": "91294790-8374-42cc-bf8d-6d62612036ae",
   "metadata": {},
   "outputs": [
    {
     "data": {
      "text/plain": [
       "array([60, 29, 40, 58, 32, 16, 44, 85, 40, 18, 42, 60, 53,  8, 92],\n",
       "      dtype=int32)"
      ]
     },
     "execution_count": 2,
     "metadata": {},
     "output_type": "execute_result"
    }
   ],
   "source": [
    "import numpy as np\n",
    "a=np.random.randint(1,100,15)\n",
    "a"
   ]
  },
  {
   "cell_type": "markdown",
   "id": "bafe16b4-6c05-4e12-b7b5-896c75ce8f46",
   "metadata": {},
   "source": [
    "# np.sort()"
   ]
  },
  {
   "cell_type": "code",
   "execution_count": 3,
   "id": "509eb783-58f0-4211-b0d8-c4ac70fd50c8",
   "metadata": {},
   "outputs": [
    {
     "data": {
      "text/plain": [
       "array([ 8, 16, 18, 29, 32, 40, 40, 42, 44, 53, 58, 60, 60, 85, 92],\n",
       "      dtype=int32)"
      ]
     },
     "execution_count": 3,
     "metadata": {},
     "output_type": "execute_result"
    }
   ],
   "source": [
    "#np.sort() : sorts array asc or desc\n",
    "np.sort(a) #asc"
   ]
  },
  {
   "cell_type": "code",
   "execution_count": 4,
   "id": "cc28e1fa-b15e-480f-8d95-74aa740a679f",
   "metadata": {},
   "outputs": [
    {
     "data": {
      "text/plain": [
       "array([92, 85, 60, 60, 58, 53, 44, 42, 40, 40, 32, 29, 18, 16,  8],\n",
       "      dtype=int32)"
      ]
     },
     "execution_count": 4,
     "metadata": {},
     "output_type": "execute_result"
    }
   ],
   "source": [
    "np.sort(a)[::-1]#desc"
   ]
  },
  {
   "cell_type": "code",
   "execution_count": 5,
   "id": "7dbcf641-5612-4343-b9b2-843998da7735",
   "metadata": {},
   "outputs": [
    {
     "data": {
      "text/plain": [
       "array([[34, 46, 81, 97],\n",
       "       [84, 16, 31, 56],\n",
       "       [22, 83, 27, 75],\n",
       "       [33, 16, 66, 31],\n",
       "       [21, 22, 70, 85],\n",
       "       [92, 64, 34, 66]], dtype=int32)"
      ]
     },
     "execution_count": 5,
     "metadata": {},
     "output_type": "execute_result"
    }
   ],
   "source": [
    "b=np.random.randint(1,100,24).reshape(6,4)\n",
    "b"
   ]
  },
  {
   "cell_type": "code",
   "execution_count": 6,
   "id": "1adc931b-4792-44ec-b883-e18fb6b8ef3b",
   "metadata": {},
   "outputs": [
    {
     "data": {
      "text/plain": [
       "array([[21, 16, 27, 31],\n",
       "       [22, 16, 31, 56],\n",
       "       [33, 22, 34, 66],\n",
       "       [34, 46, 66, 75],\n",
       "       [84, 64, 70, 85],\n",
       "       [92, 83, 81, 97]], dtype=int32)"
      ]
     },
     "execution_count": 6,
     "metadata": {},
     "output_type": "execute_result"
    }
   ],
   "source": [
    "#sorting row wise and column wise\n",
    "np.sort(b,axis=0)#column wise"
   ]
  },
  {
   "cell_type": "code",
   "execution_count": 7,
   "id": "bda5ff50-b613-497b-bcdf-b840359b6c22",
   "metadata": {},
   "outputs": [
    {
     "data": {
      "text/plain": [
       "array([[34, 46, 81, 97],\n",
       "       [16, 31, 56, 84],\n",
       "       [22, 27, 75, 83],\n",
       "       [16, 31, 33, 66],\n",
       "       [21, 22, 70, 85],\n",
       "       [34, 64, 66, 92]], dtype=int32)"
      ]
     },
     "execution_count": 7,
     "metadata": {},
     "output_type": "execute_result"
    }
   ],
   "source": [
    "np.sort(b,axis=1) #row wise"
   ]
  },
  {
   "cell_type": "markdown",
   "id": "1a37df01-09d3-4134-9b39-62c4c695f3df",
   "metadata": {},
   "source": [
    "# flatten and revel"
   ]
  },
  {
   "cell_type": "code",
   "execution_count": 8,
   "id": "ed22ffac-74b0-497f-9efe-52337a55b63f",
   "metadata": {},
   "outputs": [
    {
     "data": {
      "text/plain": [
       "array([34, 46, 81, 97, 84, 16, 31, 56, 22, 83, 27, 75, 33, 16, 66, 31, 21,\n",
       "       22, 70, 85, 92, 64, 34, 66], dtype=int32)"
      ]
     },
     "execution_count": 8,
     "metadata": {},
     "output_type": "execute_result"
    }
   ],
   "source": [
    "b.ravel() #1D banxa"
   ]
  },
  {
   "cell_type": "code",
   "execution_count": 9,
   "id": "3ba1c12f-16bb-41a3-95d1-e49b949e539d",
   "metadata": {},
   "outputs": [
    {
     "data": {
      "text/plain": [
       "array([34, 46, 81, 97, 84, 16, 31, 56, 22, 83, 27, 75, 33, 16, 66, 31, 21,\n",
       "       22, 70, 85, 92, 64, 34, 66], dtype=int32)"
      ]
     },
     "execution_count": 9,
     "metadata": {},
     "output_type": "execute_result"
    }
   ],
   "source": [
    "b.flatten() #1D banxa"
   ]
  },
  {
   "cell_type": "markdown",
   "id": "4c13b0e9-0f9e-488b-ad9a-a4ab2f0b431a",
   "metadata": {},
   "source": [
    "# append"
   ]
  },
  {
   "cell_type": "code",
   "execution_count": 10,
   "id": "797a9227-85f0-4f3a-9c96-e8f3811bbba5",
   "metadata": {},
   "outputs": [
    {
     "data": {
      "text/plain": [
       "array([60, 29, 40, 58, 32, 16, 44, 85, 40, 18, 42, 60, 53,  8, 92],\n",
       "      dtype=int32)"
      ]
     },
     "execution_count": 10,
     "metadata": {},
     "output_type": "execute_result"
    }
   ],
   "source": [
    "a"
   ]
  },
  {
   "cell_type": "code",
   "execution_count": 11,
   "id": "6ca8d57f-c633-496c-862a-013cb86919d1",
   "metadata": {},
   "outputs": [
    {
     "data": {
      "text/plain": [
       "array([60, 29, 40, 58, 32, 16, 44, 85, 40, 18, 42, 60, 53,  8, 92, 10])"
      ]
     },
     "execution_count": 11,
     "metadata": {},
     "output_type": "execute_result"
    }
   ],
   "source": [
    "#adding 10 to the array\n",
    "np.append(a,10) #last ma add hunxa,temporarily add hunxa\n",
    "#original array ma add hunna"
   ]
  },
  {
   "cell_type": "code",
   "execution_count": 13,
   "id": "64abf073-54dd-4635-b003-1608400d1364",
   "metadata": {},
   "outputs": [
    {
     "data": {
      "text/plain": [
       "array([60, 29, 40, 58, 32, 16, 44, 85, 40, 18, 42, 60, 53,  8, 92, 10, 10])"
      ]
     },
     "execution_count": 13,
     "metadata": {},
     "output_type": "execute_result"
    }
   ],
   "source": [
    "#permanent banauna lai:\n",
    "a=np.append(a,10)\n",
    "a"
   ]
  },
  {
   "cell_type": "markdown",
   "id": "9ca975a4-afdf-4cba-a39d-55ca40de18fe",
   "metadata": {},
   "source": [
    "# Concatenate"
   ]
  },
  {
   "cell_type": "code",
   "execution_count": 17,
   "id": "e1988733-62d9-4e7c-9582-ed40f2286b21",
   "metadata": {},
   "outputs": [
    {
     "data": {
      "text/plain": [
       "array([[ 6,  7,  8],\n",
       "       [ 9, 10, 11]])"
      ]
     },
     "execution_count": 17,
     "metadata": {},
     "output_type": "execute_result"
    }
   ],
   "source": [
    "c=np.arange(1,7).reshape(2,3)\n",
    "d=np.arange(6,12).reshape(2,3)\n",
    "d"
   ]
  },
  {
   "cell_type": "code",
   "execution_count": 18,
   "id": "a8e87c16-ac6f-4bc3-ab7d-9de67e8d5824",
   "metadata": {},
   "outputs": [
    {
     "data": {
      "text/plain": [
       "array([[1, 2, 3],\n",
       "       [4, 5, 6]])"
      ]
     },
     "execution_count": 18,
     "metadata": {},
     "output_type": "execute_result"
    }
   ],
   "source": [
    "c"
   ]
  },
  {
   "cell_type": "code",
   "execution_count": 19,
   "id": "557b5406-ac03-4571-91ad-c94c9ead0fb4",
   "metadata": {},
   "outputs": [
    {
     "data": {
      "text/plain": [
       "array([[ 1,  2,  3],\n",
       "       [ 4,  5,  6],\n",
       "       [ 6,  7,  8],\n",
       "       [ 9, 10, 11]])"
      ]
     },
     "execution_count": 19,
     "metadata": {},
     "output_type": "execute_result"
    }
   ],
   "source": [
    "np.concatenate((c,d))"
   ]
  },
  {
   "cell_type": "code",
   "execution_count": 20,
   "id": "a88bd9f0-fe76-4721-b554-ee366fc00104",
   "metadata": {},
   "outputs": [
    {
     "data": {
      "text/plain": [
       "array([[ 1,  2,  3],\n",
       "       [ 4,  5,  6],\n",
       "       [ 6,  7,  8],\n",
       "       [ 9, 10, 11],\n",
       "       [ 1,  2,  3],\n",
       "       [ 4,  5,  6],\n",
       "       [ 6,  7,  8],\n",
       "       [ 9, 10, 11],\n",
       "       [ 1,  2,  3],\n",
       "       [ 4,  5,  6]])"
      ]
     },
     "execution_count": 20,
     "metadata": {},
     "output_type": "execute_result"
    }
   ],
   "source": [
    "np.concatenate((c,d,c,d,c))"
   ]
  },
  {
   "cell_type": "code",
   "execution_count": 21,
   "id": "6c110ad2-bc32-4eea-8b4e-8c5779d6a8f4",
   "metadata": {},
   "outputs": [
    {
     "data": {
      "text/plain": [
       "array([[ 1,  2,  3,  6,  7,  8],\n",
       "       [ 4,  5,  6,  9, 10, 11]])"
      ]
     },
     "execution_count": 21,
     "metadata": {},
     "output_type": "execute_result"
    }
   ],
   "source": [
    "np.concatenate((c,d),axis=1) "
   ]
  },
  {
   "cell_type": "code",
   "execution_count": 22,
   "id": "4bbe0727-e55c-46ec-baab-4d2c1303d021",
   "metadata": {},
   "outputs": [
    {
     "data": {
      "text/plain": [
       "array([[ 1,  2,  3],\n",
       "       [ 4,  5,  6],\n",
       "       [ 6,  7,  8],\n",
       "       [ 9, 10, 11]])"
      ]
     },
     "execution_count": 22,
     "metadata": {},
     "output_type": "execute_result"
    }
   ],
   "source": [
    "merged_array=np.concatenate((c,d))\n",
    "merged_array"
   ]
  },
  {
   "cell_type": "markdown",
   "id": "6221324f-d711-4309-9ae9-ca63f2b1c700",
   "metadata": {},
   "source": [
    "# unique"
   ]
  },
  {
   "cell_type": "code",
   "execution_count": 24,
   "id": "b67f4489-b711-473f-99ea-45a13cba1da9",
   "metadata": {},
   "outputs": [
    {
     "data": {
      "text/plain": [
       "array([10, 20, 10, 30, 20, 10, 10, 50, 60, 90, 90])"
      ]
     },
     "execution_count": 24,
     "metadata": {},
     "output_type": "execute_result"
    }
   ],
   "source": [
    "arr=np.array([10,20,10,30,20,10,10,50,60,90,90])\n",
    "arr"
   ]
  },
  {
   "cell_type": "code",
   "execution_count": 25,
   "id": "999138a6-717e-4fa2-84d8-e88281b4b240",
   "metadata": {},
   "outputs": [
    {
     "data": {
      "text/plain": [
       "array([10, 20, 30, 50, 60, 90])"
      ]
     },
     "execution_count": 25,
     "metadata": {},
     "output_type": "execute_result"
    }
   ],
   "source": [
    "np.unique(arr) #gives unique element without repetition"
   ]
  },
  {
   "cell_type": "code",
   "execution_count": 26,
   "id": "654d8f2f-a4f1-4715-9cca-5b42ecdb6c00",
   "metadata": {},
   "outputs": [
    {
     "data": {
      "text/plain": [
       "(11,)"
      ]
     },
     "execution_count": 26,
     "metadata": {},
     "output_type": "execute_result"
    }
   ],
   "source": [
    "arr.shape"
   ]
  },
  {
   "cell_type": "markdown",
   "id": "9e719b91-da8a-493c-a622-9d70f608d081",
   "metadata": {},
   "source": [
    "# expand dimension"
   ]
  },
  {
   "cell_type": "code",
   "execution_count": 27,
   "id": "7f9a13bd-d617-4e34-8423-967de657c2eb",
   "metadata": {},
   "outputs": [
    {
     "data": {
      "text/plain": [
       "array([[10, 20, 10, 30, 20, 10, 10, 50, 60, 90, 90]])"
      ]
     },
     "execution_count": 27,
     "metadata": {},
     "output_type": "execute_result"
    }
   ],
   "source": [
    "np.expand_dims(arr,axis=0)"
   ]
  },
  {
   "cell_type": "code",
   "execution_count": 28,
   "id": "4fb334e6-b560-4322-ac33-67463f1c5ce7",
   "metadata": {},
   "outputs": [
    {
     "data": {
      "text/plain": [
       "array([[10],\n",
       "       [20],\n",
       "       [10],\n",
       "       [30],\n",
       "       [20],\n",
       "       [10],\n",
       "       [10],\n",
       "       [50],\n",
       "       [60],\n",
       "       [90],\n",
       "       [90]])"
      ]
     },
     "execution_count": 28,
     "metadata": {},
     "output_type": "execute_result"
    }
   ],
   "source": [
    "np.expand_dims(arr,axis=1)"
   ]
  },
  {
   "cell_type": "markdown",
   "id": "a1105d32-c578-4c52-ab6d-365d624ff35f",
   "metadata": {},
   "source": [
    "# where"
   ]
  },
  {
   "cell_type": "code",
   "execution_count": 29,
   "id": "d10982eb-4d56-40bc-8c8a-923d477047b2",
   "metadata": {},
   "outputs": [
    {
     "data": {
      "text/plain": [
       "array([60, 29, 40, 58, 32, 16, 44, 85, 40, 18, 42, 60, 53,  8, 92, 10, 10])"
      ]
     },
     "execution_count": 29,
     "metadata": {},
     "output_type": "execute_result"
    }
   ],
   "source": [
    "a"
   ]
  },
  {
   "cell_type": "code",
   "execution_count": 30,
   "id": "34c315ae-9086-4091-a80c-a5eb974d9a79",
   "metadata": {},
   "outputs": [
    {
     "data": {
      "text/plain": [
       "17"
      ]
     },
     "execution_count": 30,
     "metadata": {},
     "output_type": "execute_result"
    }
   ],
   "source": [
    "a.size"
   ]
  },
  {
   "cell_type": "code",
   "execution_count": 31,
   "id": "396d8f39-c95a-4cf4-9424-8fd038aebd12",
   "metadata": {},
   "outputs": [
    {
     "data": {
      "text/plain": [
       "(array([ 0,  3,  7, 11, 12, 14]),)"
      ]
     },
     "execution_count": 31,
     "metadata": {},
     "output_type": "execute_result"
    }
   ],
   "source": [
    "#>50 extracting\n",
    "#np.where(condition,true,false)\n",
    "np.where(a>50) #gives index postion of >50 elements"
   ]
  },
  {
   "cell_type": "code",
   "execution_count": 32,
   "id": "60e57480-7543-48d8-81e1-e97d1b0e99ed",
   "metadata": {},
   "outputs": [
    {
     "data": {
      "text/plain": [
       "tuple"
      ]
     },
     "execution_count": 32,
     "metadata": {},
     "output_type": "execute_result"
    }
   ],
   "source": [
    "type(np.where(a>50))"
   ]
  },
  {
   "cell_type": "code",
   "execution_count": 33,
   "id": "1536c0c4-5dba-41d8-b7ea-4acdbe7bb5cb",
   "metadata": {},
   "outputs": [
    {
     "data": {
      "text/plain": [
       "array([60, 29, 40, 58, 32, 16, 44, 85, 40, 18, 42, 60, 53,  8, 92, 10, 10])"
      ]
     },
     "execution_count": 33,
     "metadata": {},
     "output_type": "execute_result"
    }
   ],
   "source": [
    "a"
   ]
  },
  {
   "cell_type": "code",
   "execution_count": 34,
   "id": "9098f782-38d5-4569-b83b-d0aad60c44c6",
   "metadata": {},
   "outputs": [
    {
     "data": {
      "text/plain": [
       "(array([ 0,  2,  3,  4,  5,  6,  8,  9, 10, 11, 13, 14, 15, 16]),)"
      ]
     },
     "execution_count": 34,
     "metadata": {},
     "output_type": "execute_result"
    }
   ],
   "source": [
    "#odd numbers ko index pos\n",
    "np.where(a%2==0)"
   ]
  },
  {
   "cell_type": "code",
   "execution_count": 35,
   "id": "e286e5bf-0449-457d-bb43-83781f846ffd",
   "metadata": {},
   "outputs": [
    {
     "data": {
      "text/plain": [
       "array(['even', 'odd', 'even', 'even', 'even', 'even', 'even', 'odd',\n",
       "       'even', 'even', 'even', 'even', 'odd', 'even', 'even', 'even',\n",
       "       'even'], dtype='<U4')"
      ]
     },
     "execution_count": 35,
     "metadata": {},
     "output_type": "execute_result"
    }
   ],
   "source": [
    "#replacing even with 'even' and odd with 'odd'\n",
    "np.where(a%2==0,'even','odd')#np.where(condition,true,false)"
   ]
  },
  {
   "cell_type": "code",
   "execution_count": 36,
   "id": "67d3c59c-77f5-4011-99c3-8640df07472b",
   "metadata": {},
   "outputs": [
    {
     "data": {
      "text/plain": [
       "array([ 70,  29,  50,  68,  42,  26,  54,  85,  50,  28,  52,  70,  53,\n",
       "        18, 102,  20,  20])"
      ]
     },
     "execution_count": 36,
     "metadata": {},
     "output_type": "execute_result"
    }
   ],
   "source": [
    "np.where(a%2==0,a+10,a) #even vaye 10 add natra same"
   ]
  },
  {
   "cell_type": "code",
   "execution_count": 37,
   "id": "d5f71f01-6284-4427-8874-1582bb1d9065",
   "metadata": {},
   "outputs": [
    {
     "data": {
      "text/plain": [
       "array([60, 29, 40, 58, 32, 16, 44, 85, 40, 18, 42, 60, 53,  8, 92, 10, 10])"
      ]
     },
     "execution_count": 37,
     "metadata": {},
     "output_type": "execute_result"
    }
   ],
   "source": [
    "a"
   ]
  },
  {
   "cell_type": "markdown",
   "id": "e1088b03-124c-4a21-bf80-9612150fbb34",
   "metadata": {},
   "source": [
    "# transpose"
   ]
  },
  {
   "cell_type": "code",
   "execution_count": 38,
   "id": "2cdf2c5f-f496-4ca1-8154-c04d13c753a0",
   "metadata": {},
   "outputs": [
    {
     "data": {
      "text/plain": [
       "array([[ 1, 46, 75, 21],\n",
       "       [77, 45,  9, 28],\n",
       "       [73, 18, 27, 96]], dtype=int32)"
      ]
     },
     "execution_count": 38,
     "metadata": {},
     "output_type": "execute_result"
    }
   ],
   "source": [
    "arr2d=np.random.randint(1,100,size=(3,4))\n",
    "arr2d"
   ]
  },
  {
   "cell_type": "code",
   "execution_count": 39,
   "id": "df91a7f7-dc65-40fb-bfe3-669fa9151d6d",
   "metadata": {},
   "outputs": [
    {
     "data": {
      "text/plain": [
       "array([[ 1, 77, 73],\n",
       "       [46, 45, 18],\n",
       "       [75,  9, 27],\n",
       "       [21, 28, 96]], dtype=int32)"
      ]
     },
     "execution_count": 39,
     "metadata": {},
     "output_type": "execute_result"
    }
   ],
   "source": [
    "#row change to column and viceverse\n",
    "np.transpose(arr2d)"
   ]
  },
  {
   "cell_type": "code",
   "execution_count": 40,
   "id": "505b0c06-d6eb-4219-9d64-22d53547bd76",
   "metadata": {},
   "outputs": [
    {
     "data": {
      "text/plain": [
       "array([[ 1, 77, 73],\n",
       "       [46, 45, 18],\n",
       "       [75,  9, 27],\n",
       "       [21, 28, 96]], dtype=int32)"
      ]
     },
     "execution_count": 40,
     "metadata": {},
     "output_type": "execute_result"
    }
   ],
   "source": [
    "arr2d.T #next method"
   ]
  },
  {
   "cell_type": "markdown",
   "id": "2c2b6c1f-3f5b-4684-944c-3ae9457635e7",
   "metadata": {},
   "source": [
    "# argmax,argmin"
   ]
  },
  {
   "cell_type": "code",
   "execution_count": 42,
   "id": "d1d7024a-2a96-44c6-96a8-c61e1243371f",
   "metadata": {},
   "outputs": [
    {
     "data": {
      "text/plain": [
       "array([[ 1, 46, 75, 21],\n",
       "       [77, 45,  9, 28],\n",
       "       [73, 18, 27, 96]], dtype=int32)"
      ]
     },
     "execution_count": 42,
     "metadata": {},
     "output_type": "execute_result"
    }
   ],
   "source": [
    "arr2d"
   ]
  },
  {
   "cell_type": "code",
   "execution_count": 44,
   "id": "e160bcec-b78c-4146-a948-f11eeaa1ddeb",
   "metadata": {},
   "outputs": [
    {
     "data": {
      "text/plain": [
       "array([0, 2, 1, 0])"
      ]
     },
     "execution_count": 44,
     "metadata": {},
     "output_type": "execute_result"
    }
   ],
   "source": [
    "np.argmin(arr2d,axis=0) #column wise min index position"
   ]
  },
  {
   "cell_type": "code",
   "execution_count": 45,
   "id": "aab9234c-0077-46ba-88b1-9ff156baaa74",
   "metadata": {},
   "outputs": [
    {
     "data": {
      "text/plain": [
       "array([0, 2, 1])"
      ]
     },
     "execution_count": 45,
     "metadata": {},
     "output_type": "execute_result"
    }
   ],
   "source": [
    "np.argmin(arr2d,axis=1) #row wise"
   ]
  },
  {
   "cell_type": "code",
   "execution_count": null,
   "id": "fdbd1b78-19e8-4718-b443-bf1bc02248f8",
   "metadata": {},
   "outputs": [],
   "source": [
    "#same for minimum"
   ]
  },
  {
   "cell_type": "markdown",
   "id": "712b4588-f6fb-41c6-a2b8-e0821094e71e",
   "metadata": {},
   "source": [
    "# cumulative sum"
   ]
  },
  {
   "cell_type": "code",
   "execution_count": 46,
   "id": "be1fb26a-268f-49d1-9188-32721f6d3989",
   "metadata": {},
   "outputs": [
    {
     "data": {
      "text/plain": [
       "array([60, 29, 40, 58, 32, 16, 44, 85, 40, 18, 42, 60, 53,  8, 92, 10, 10])"
      ]
     },
     "execution_count": 46,
     "metadata": {},
     "output_type": "execute_result"
    }
   ],
   "source": [
    "a"
   ]
  },
  {
   "cell_type": "code",
   "execution_count": null,
   "id": "b6481c77-c7b3-4c10-a6d2-3b95b14ec5ae",
   "metadata": {},
   "outputs": [],
   "source": [
    "#cumulative addition\n",
    "# 20-20\n",
    "# 30-50\n",
    "# 40-90"
   ]
  },
  {
   "cell_type": "code",
   "execution_count": 47,
   "id": "f9afb7e0-0a58-450b-bb7c-92d9b1944fd2",
   "metadata": {},
   "outputs": [
    {
     "data": {
      "text/plain": [
       "array([ 60,  89, 129, 187, 219, 235, 279, 364, 404, 422, 464, 524, 577,\n",
       "       585, 677, 687, 697])"
      ]
     },
     "execution_count": 47,
     "metadata": {},
     "output_type": "execute_result"
    }
   ],
   "source": [
    "np.cumsum(a)"
   ]
  },
  {
   "cell_type": "code",
   "execution_count": 48,
   "id": "206ce292-11d0-41aa-b692-00b99a106061",
   "metadata": {},
   "outputs": [
    {
     "data": {
      "text/plain": [
       "array([10, 20, 10, 30, 20, 10, 10, 50, 60, 90, 90])"
      ]
     },
     "execution_count": 48,
     "metadata": {},
     "output_type": "execute_result"
    }
   ],
   "source": [
    "arr"
   ]
  },
  {
   "cell_type": "code",
   "execution_count": 49,
   "id": "8b23a68f-5be7-4d95-8269-90551b812795",
   "metadata": {},
   "outputs": [
    {
     "data": {
      "text/plain": [
       "array([ 60,  89, 129, 187, 219, 235, 279, 364, 404, 422, 464, 524, 577,\n",
       "       585, 677, 687, 697])"
      ]
     },
     "execution_count": 49,
     "metadata": {},
     "output_type": "execute_result"
    }
   ],
   "source": [
    "arr=np.cumsum(a)\n",
    "arr"
   ]
  },
  {
   "cell_type": "code",
   "execution_count": 50,
   "id": "496e8713-f56b-467d-bbee-800e0c64822f",
   "metadata": {},
   "outputs": [
    {
     "data": {
      "text/plain": [
       "(array([11, 12, 13, 14, 15, 16]),)"
      ]
     },
     "execution_count": 50,
     "metadata": {},
     "output_type": "execute_result"
    }
   ],
   "source": [
    "np.where(arr>500) #gives indexing"
   ]
  },
  {
   "cell_type": "code",
   "execution_count": 51,
   "id": "afe2ad3d-35b5-44a1-894f-af9e2cae4da8",
   "metadata": {},
   "outputs": [
    {
     "data": {
      "text/plain": [
       "array([11, 12, 13, 14, 15, 16])"
      ]
     },
     "execution_count": 51,
     "metadata": {},
     "output_type": "execute_result"
    }
   ],
   "source": [
    "np.where(arr>500)[0]"
   ]
  },
  {
   "cell_type": "code",
   "execution_count": 52,
   "id": "e0611f52-b031-4ebc-ab9c-c6f60976c261",
   "metadata": {},
   "outputs": [
    {
     "data": {
      "text/plain": [
       "11"
      ]
     },
     "execution_count": 52,
     "metadata": {},
     "output_type": "execute_result"
    }
   ],
   "source": [
    "int(np.where(arr>500)[0][0]) #11th day ma greater than 500 vako raixa"
   ]
  },
  {
   "cell_type": "code",
   "execution_count": 53,
   "id": "e6540588-9e0b-4a33-aed9-930a99f1e4ab",
   "metadata": {},
   "outputs": [
    {
     "data": {
      "text/plain": [
       "array([[ 1, 46, 75, 21],\n",
       "       [77, 45,  9, 28],\n",
       "       [73, 18, 27, 96]], dtype=int32)"
      ]
     },
     "execution_count": 53,
     "metadata": {},
     "output_type": "execute_result"
    }
   ],
   "source": [
    "arr2d"
   ]
  },
  {
   "cell_type": "code",
   "execution_count": 54,
   "id": "f152016d-63aa-42b2-a49b-54c16740bd80",
   "metadata": {},
   "outputs": [
    {
     "data": {
      "text/plain": [
       "array([[  1,  46,  75,  21],\n",
       "       [ 78,  91,  84,  49],\n",
       "       [151, 109, 111, 145]])"
      ]
     },
     "execution_count": 54,
     "metadata": {},
     "output_type": "execute_result"
    }
   ],
   "source": [
    "np.cumsum(arr2d,axis=0) #columnwise"
   ]
  },
  {
   "cell_type": "code",
   "execution_count": 55,
   "id": "e64e61fd-30e2-4634-a8f2-0676416a47b2",
   "metadata": {},
   "outputs": [
    {
     "data": {
      "text/plain": [
       "array([[  1,  47, 122, 143],\n",
       "       [ 77, 122, 131, 159],\n",
       "       [ 73,  91, 118, 214]])"
      ]
     },
     "execution_count": 55,
     "metadata": {},
     "output_type": "execute_result"
    }
   ],
   "source": [
    "np.cumsum(arr2d,axis=1) #row wise"
   ]
  },
  {
   "cell_type": "code",
   "execution_count": 56,
   "id": "87c32ab7-05c7-433b-953c-4fb9d6096b17",
   "metadata": {},
   "outputs": [
    {
     "data": {
      "text/plain": [
       "array([                  60,                 1740,                69600,\n",
       "                    4036800,            129177600,           2066841600,\n",
       "                90941030400,        7729987584000,      309199503360000,\n",
       "           5565591060480000,   233754824540160000, -4421454601299951616,\n",
       "        5470579089326735360,  6871144567194779648,  4956001675794972672,\n",
       "       -5780215463178928128, -2461922410660626432])"
      ]
     },
     "execution_count": 56,
     "metadata": {},
     "output_type": "execute_result"
    }
   ],
   "source": [
    "np.cumprod(a) #64 bit vanda dherai vara -minus ma random num aako"
   ]
  },
  {
   "cell_type": "markdown",
   "id": "19040b95-d043-4598-b06e-bfedca0fb05e",
   "metadata": {},
   "source": [
    "# percentiles"
   ]
  },
  {
   "cell_type": "code",
   "execution_count": 57,
   "id": "f81c652a-fa14-4331-a7da-14b5e7d46039",
   "metadata": {},
   "outputs": [
    {
     "data": {
      "text/plain": [
       "array([60, 29, 40, 58, 32, 16, 44, 85, 40, 18, 42, 60, 53,  8, 92, 10, 10])"
      ]
     },
     "execution_count": 57,
     "metadata": {},
     "output_type": "execute_result"
    }
   ],
   "source": [
    "a"
   ]
  },
  {
   "cell_type": "code",
   "execution_count": 58,
   "id": "6eec8cc2-7f08-4823-ad8f-06f5f885b1b8",
   "metadata": {},
   "outputs": [
    {
     "data": {
      "text/plain": [
       "np.float64(10.0)"
      ]
     },
     "execution_count": 58,
     "metadata": {},
     "output_type": "execute_result"
    }
   ],
   "source": [
    "np.percentile(a,10)"
   ]
  },
  {
   "cell_type": "code",
   "execution_count": 59,
   "id": "f5820548-b6d5-46a3-913a-7c2bb8d8385f",
   "metadata": {},
   "outputs": [
    {
     "data": {
      "text/plain": [
       "array([ 8, 10, 10, 16, 18, 29, 32, 40, 40, 42, 44, 53, 58, 60, 60, 85, 92])"
      ]
     },
     "execution_count": 59,
     "metadata": {},
     "output_type": "execute_result"
    }
   ],
   "source": [
    "np.sort(a)"
   ]
  },
  {
   "cell_type": "code",
   "execution_count": 60,
   "id": "e98defce-3eb2-4423-9cfd-da8c0ca6fef7",
   "metadata": {},
   "outputs": [
    {
     "data": {
      "text/plain": [
       "np.float64(10.0)"
      ]
     },
     "execution_count": 60,
     "metadata": {},
     "output_type": "execute_result"
    }
   ],
   "source": [
    "np.percentile(a,10) #10% data k vanda tala xa?\n",
    "#10 aayo so 10 vanda tala 10% data xa"
   ]
  },
  {
   "cell_type": "code",
   "execution_count": 61,
   "id": "36b7f79e-9fde-41cd-abde-9ad43ccd4c8f",
   "metadata": {},
   "outputs": [
    {
     "data": {
      "text/plain": [
       "np.float64(40.0)"
      ]
     },
     "execution_count": 61,
     "metadata": {},
     "output_type": "execute_result"
    }
   ],
   "source": [
    "np.percentile(a,50)"
   ]
  },
  {
   "cell_type": "code",
   "execution_count": 62,
   "id": "aa9fb4e6-5b7a-416e-8170-b6ca8d61a683",
   "metadata": {},
   "outputs": [
    {
     "data": {
      "text/plain": [
       "np.float64(40.0)"
      ]
     },
     "execution_count": 62,
     "metadata": {},
     "output_type": "execute_result"
    }
   ],
   "source": [
    "np.median(a) #same as 50 percentile"
   ]
  },
  {
   "cell_type": "markdown",
   "id": "42099afc-0eea-42be-bbc1-ff1e8ed21577",
   "metadata": {},
   "source": [
    "# histograms"
   ]
  },
  {
   "cell_type": "code",
   "execution_count": 63,
   "id": "c745a1f2-8b97-4ca4-a715-dbf16fb9e4ef",
   "metadata": {},
   "outputs": [
    {
     "data": {
      "text/plain": [
       "array([60, 29, 40, 58, 32, 16, 44, 85, 40, 18, 42, 60, 53,  8, 92, 10, 10])"
      ]
     },
     "execution_count": 63,
     "metadata": {},
     "output_type": "execute_result"
    }
   ],
   "source": [
    "a"
   ]
  },
  {
   "cell_type": "code",
   "execution_count": null,
   "id": "25fc903c-b047-4d69-83c6-870b7acb880e",
   "metadata": {},
   "outputs": [],
   "source": [
    "#let those are ages\n",
    "#0-10(kid),11-20(children),21-30(adult)>>bins"
   ]
  },
  {
   "cell_type": "code",
   "execution_count": 65,
   "id": "84331b50-b807-4be8-bbf7-744af8bec19d",
   "metadata": {},
   "outputs": [
    {
     "data": {
      "text/plain": [
       "(array([1, 5, 3]), array([ 0, 10, 30, 40]))"
      ]
     },
     "execution_count": 65,
     "metadata": {},
     "output_type": "execute_result"
    }
   ],
   "source": [
    "np.histogram(a,[0,10,30,40])"
   ]
  },
  {
   "cell_type": "markdown",
   "id": "2be3d592-2c83-4eca-a058-8187debb1e7b",
   "metadata": {},
   "source": [
    "# np.isin()"
   ]
  },
  {
   "cell_type": "code",
   "execution_count": 68,
   "id": "b659063a-d8d6-484d-b1a4-a25d3ec91799",
   "metadata": {},
   "outputs": [],
   "source": [
    "item=[10,20,30,12]"
   ]
  },
  {
   "cell_type": "code",
   "execution_count": 69,
   "id": "905f1549-eae3-4b66-8235-f95902964a80",
   "metadata": {},
   "outputs": [
    {
     "data": {
      "text/plain": [
       "array([60, 29, 40, 58, 32, 16, 44, 85, 40, 18, 42, 60, 53,  8, 92, 10, 10])"
      ]
     },
     "execution_count": 69,
     "metadata": {},
     "output_type": "execute_result"
    }
   ],
   "source": [
    "a"
   ]
  },
  {
   "cell_type": "code",
   "execution_count": 70,
   "id": "784d7501-5121-4518-a47f-086ceb59abba",
   "metadata": {},
   "outputs": [
    {
     "data": {
      "text/plain": [
       "array([False, False, False, False, False, False, False, False, False,\n",
       "       False, False, False, False, False, False,  True,  True])"
      ]
     },
     "execution_count": 70,
     "metadata": {},
     "output_type": "execute_result"
    }
   ],
   "source": [
    "np.isin(a,item)"
   ]
  },
  {
   "cell_type": "code",
   "execution_count": 71,
   "id": "40638054-df3c-4e58-b8e0-6e95cac2e905",
   "metadata": {},
   "outputs": [
    {
     "data": {
      "text/plain": [
       "array([10, 10])"
      ]
     },
     "execution_count": 71,
     "metadata": {},
     "output_type": "execute_result"
    }
   ],
   "source": [
    "a[np.isin(a,item)]"
   ]
  },
  {
   "cell_type": "code",
   "execution_count": 72,
   "id": "81a7fe11-83c3-49b6-a76f-3779e29f9aa6",
   "metadata": {},
   "outputs": [
    {
     "data": {
      "text/plain": [
       "array([10, 10, 92,  8, 53, 60, 42, 18, 40, 85, 44, 16, 32, 58, 40, 29, 60])"
      ]
     },
     "execution_count": 72,
     "metadata": {},
     "output_type": "execute_result"
    }
   ],
   "source": [
    "np.flip(a) #reverse"
   ]
  },
  {
   "cell_type": "markdown",
   "id": "0548102d-356c-4e85-b2ba-d2608b6bf43f",
   "metadata": {},
   "source": [
    "# put()"
   ]
  },
  {
   "cell_type": "code",
   "execution_count": 74,
   "id": "7019dcfd-af8e-4672-bbe4-db525e181426",
   "metadata": {},
   "outputs": [],
   "source": [
    "np.put(a,[0,1,4],[100,200,300]) #(kun array, kun index, tyo inex ma k)"
   ]
  },
  {
   "cell_type": "code",
   "execution_count": 75,
   "id": "22d24c60-4554-4dec-87c9-c8d5c8fbfc4d",
   "metadata": {},
   "outputs": [
    {
     "data": {
      "text/plain": [
       "array([100, 200,  40,  58, 300,  16,  44,  85,  40,  18,  42,  60,  53,\n",
       "         8,  92,  10,  10])"
      ]
     },
     "execution_count": 75,
     "metadata": {},
     "output_type": "execute_result"
    }
   ],
   "source": [
    "a #put does permanent change in original array"
   ]
  },
  {
   "cell_type": "markdown",
   "id": "3909ef54-a95b-4db0-ba2e-3d0d66dbffab",
   "metadata": {},
   "source": [
    "# delete()"
   ]
  },
  {
   "cell_type": "code",
   "execution_count": 76,
   "id": "4dbc3112-7af4-4857-aef4-d73e8a55a4ee",
   "metadata": {},
   "outputs": [
    {
     "data": {
      "text/plain": [
       "array([ 40, 300,  16,  44,  85,  40,  18,  42,  60,  53,   8,  92,  10,\n",
       "        10])"
      ]
     },
     "execution_count": 76,
     "metadata": {},
     "output_type": "execute_result"
    }
   ],
   "source": [
    "np.delete(a,[0,1,3]) #original bata faldena , falna ko lagi reassign"
   ]
  },
  {
   "cell_type": "markdown",
   "id": "9ef794b2-09f2-4ca0-a603-400f00fcfacc",
   "metadata": {},
   "source": [
    "# tolist()"
   ]
  },
  {
   "cell_type": "code",
   "execution_count": 77,
   "id": "eccda4bd-4a8c-4d04-9940-b3082a6bcff0",
   "metadata": {},
   "outputs": [
    {
     "data": {
      "text/plain": [
       "[100, 200, 40, 58, 300, 16, 44, 85, 40, 18, 42, 60, 53, 8, 92, 10, 10]"
      ]
     },
     "execution_count": 77,
     "metadata": {},
     "output_type": "execute_result"
    }
   ],
   "source": [
    "a.tolist() #array to list"
   ]
  },
  {
   "cell_type": "code",
   "execution_count": 78,
   "id": "72c4da7c-f992-4e9a-8b4e-94d71c165370",
   "metadata": {},
   "outputs": [
    {
     "data": {
      "text/plain": [
       "array([100, 200,  40,  58, 300,  16,  44,  85,  40,  18,  42,  60,  53,\n",
       "         8,  92,  10,  10])"
      ]
     },
     "execution_count": 78,
     "metadata": {},
     "output_type": "execute_result"
    }
   ],
   "source": [
    "np.array(a.tolist())"
   ]
  },
  {
   "cell_type": "code",
   "execution_count": null,
   "id": "e6b920ff-6829-4667-b245-dfb94bb42e98",
   "metadata": {},
   "outputs": [],
   "source": []
  }
 ],
 "metadata": {
  "kernelspec": {
   "display_name": "Python 3 (ipykernel)",
   "language": "python",
   "name": "python3"
  },
  "language_info": {
   "codemirror_mode": {
    "name": "ipython",
    "version": 3
   },
   "file_extension": ".py",
   "mimetype": "text/x-python",
   "name": "python",
   "nbconvert_exporter": "python",
   "pygments_lexer": "ipython3",
   "version": "3.13.1"
  }
 },
 "nbformat": 4,
 "nbformat_minor": 5
}
