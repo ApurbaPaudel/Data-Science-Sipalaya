{
 "cells": [
  {
   "cell_type": "markdown",
   "id": "fb623c51-5425-4862-a869-2c0fa01967a3",
   "metadata": {},
   "source": [
    "### Create a 1D NumPy array"
   ]
  },
  {
   "cell_type": "code",
   "execution_count": 2,
   "id": "aec99aad-32c0-46a4-a1ca-3a96e8c4f816",
   "metadata": {},
   "outputs": [],
   "source": [
    "import numpy as np"
   ]
  },
  {
   "cell_type": "code",
   "execution_count": 4,
   "id": "e05fae65-da0f-426a-97a7-689de87132a2",
   "metadata": {},
   "outputs": [
    {
     "data": {
      "text/plain": [
       "array([2, 3, 3, 2, 6], dtype=int32)"
      ]
     },
     "execution_count": 4,
     "metadata": {},
     "output_type": "execute_result"
    }
   ],
   "source": [
    "arr1d=np.random.randint(1,10,5)\n",
    "arr1d"
   ]
  },
  {
   "cell_type": "code",
   "execution_count": 8,
   "id": "8d20b77d-f741-4078-a52d-f935516df6f1",
   "metadata": {},
   "outputs": [
    {
     "data": {
      "text/plain": [
       "1"
      ]
     },
     "execution_count": 8,
     "metadata": {},
     "output_type": "execute_result"
    }
   ],
   "source": [
    "arr1d.ndim"
   ]
  },
  {
   "cell_type": "markdown",
   "id": "467cbe37-5f54-4372-ad87-9ccb0f43c61d",
   "metadata": {},
   "source": [
    "### Create a 2D numpy array"
   ]
  },
  {
   "cell_type": "code",
   "execution_count": 6,
   "id": "75840c1e-f839-4367-8714-dce5ad2bc04f",
   "metadata": {},
   "outputs": [
    {
     "data": {
      "text/plain": [
       "array([[ 7,  5,  8,  1],\n",
       "       [ 2,  1,  8,  4],\n",
       "       [11,  5,  3,  6]], dtype=int32)"
      ]
     },
     "execution_count": 6,
     "metadata": {},
     "output_type": "execute_result"
    }
   ],
   "source": [
    "arr2d=np.random.randint(12,size=(3,4))\n",
    "arr2d"
   ]
  },
  {
   "cell_type": "code",
   "execution_count": 7,
   "id": "47493f99-be2a-4670-8fd3-8241738429a4",
   "metadata": {},
   "outputs": [
    {
     "data": {
      "text/plain": [
       "2"
      ]
     },
     "execution_count": 7,
     "metadata": {},
     "output_type": "execute_result"
    }
   ],
   "source": [
    "arr2d.ndim"
   ]
  },
  {
   "cell_type": "markdown",
   "id": "98e9c68b-32cd-45ca-a25a-585a4386442b",
   "metadata": {},
   "source": [
    "### Create a 3D numpy array"
   ]
  },
  {
   "cell_type": "code",
   "execution_count": 9,
   "id": "dd17fc1a-222a-41ed-a578-167796bd5002",
   "metadata": {},
   "outputs": [
    {
     "data": {
      "text/plain": [
       "array([[[ 2,  2,  6],\n",
       "        [11,  4,  7]],\n",
       "\n",
       "       [[ 3,  8,  5],\n",
       "        [ 4,  4, 11]]], dtype=int32)"
      ]
     },
     "execution_count": 9,
     "metadata": {},
     "output_type": "execute_result"
    }
   ],
   "source": [
    "arr3d=np.random.randint(12,size=(2,2,3))\n",
    "arr3d"
   ]
  },
  {
   "cell_type": "code",
   "execution_count": 10,
   "id": "0ff5efef-9327-4efa-9a3d-4ab203a45f78",
   "metadata": {},
   "outputs": [
    {
     "data": {
      "text/plain": [
       "3"
      ]
     },
     "execution_count": 10,
     "metadata": {},
     "output_type": "execute_result"
    }
   ],
   "source": [
    "arr3d.ndim"
   ]
  },
  {
   "cell_type": "markdown",
   "id": "8d19b553-66cc-4eb3-b010-a9f31dcb572e",
   "metadata": {},
   "source": [
    "### Find the dimension of those arrays"
   ]
  },
  {
   "cell_type": "code",
   "execution_count": 11,
   "id": "ad81d8a9-b705-4995-a4b1-acc88a272317",
   "metadata": {},
   "outputs": [
    {
     "data": {
      "text/plain": [
       "1"
      ]
     },
     "execution_count": 11,
     "metadata": {},
     "output_type": "execute_result"
    }
   ],
   "source": [
    "arr1d.ndim"
   ]
  },
  {
   "cell_type": "code",
   "execution_count": 12,
   "id": "01da8ea1-f1e5-4a6d-b071-739dd1136cb5",
   "metadata": {},
   "outputs": [
    {
     "data": {
      "text/plain": [
       "2"
      ]
     },
     "execution_count": 12,
     "metadata": {},
     "output_type": "execute_result"
    }
   ],
   "source": [
    "arr2d.ndim"
   ]
  },
  {
   "cell_type": "code",
   "execution_count": 13,
   "id": "a7bdfa9a-aae8-48f1-af6e-63657c61e32e",
   "metadata": {},
   "outputs": [
    {
     "data": {
      "text/plain": [
       "3"
      ]
     },
     "execution_count": 13,
     "metadata": {},
     "output_type": "execute_result"
    }
   ],
   "source": [
    "arr3d.ndim"
   ]
  },
  {
   "cell_type": "markdown",
   "id": "5c13e273-be3e-4101-af02-94611e3d4785",
   "metadata": {},
   "source": [
    "### Find total numbers of elements in a NumPy array"
   ]
  },
  {
   "cell_type": "code",
   "execution_count": 23,
   "id": "870f4cf3-464f-4433-b837-11d2b43fcef0",
   "metadata": {},
   "outputs": [
    {
     "data": {
      "text/plain": [
       "5"
      ]
     },
     "execution_count": 23,
     "metadata": {},
     "output_type": "execute_result"
    }
   ],
   "source": [
    "arr1d.size"
   ]
  },
  {
   "cell_type": "code",
   "execution_count": 15,
   "id": "d8332b04-3e0b-4990-8d6d-7738f9d36392",
   "metadata": {},
   "outputs": [
    {
     "data": {
      "text/plain": [
       "5"
      ]
     },
     "execution_count": 15,
     "metadata": {},
     "output_type": "execute_result"
    }
   ],
   "source": [
    "len(arr1d)"
   ]
  },
  {
   "cell_type": "code",
   "execution_count": 22,
   "id": "81ab63b4-dc64-4bdb-8352-3a95c7cc0e1e",
   "metadata": {},
   "outputs": [
    {
     "data": {
      "text/plain": [
       "12"
      ]
     },
     "execution_count": 22,
     "metadata": {},
     "output_type": "execute_result"
    }
   ],
   "source": [
    "arr2d.size"
   ]
  },
  {
   "cell_type": "code",
   "execution_count": 21,
   "id": "ed27c259-22ee-4c47-bec8-071e65cb6d81",
   "metadata": {},
   "outputs": [
    {
     "data": {
      "text/plain": [
       "12"
      ]
     },
     "execution_count": 21,
     "metadata": {},
     "output_type": "execute_result"
    }
   ],
   "source": [
    "arr3d.size"
   ]
  },
  {
   "cell_type": "markdown",
   "id": "8778c7f1-9c54-459a-960b-5207296be2f6",
   "metadata": {},
   "source": [
    "### Change the data type of a numpy array"
   ]
  },
  {
   "cell_type": "code",
   "execution_count": 24,
   "id": "b4cea778-0802-41af-a257-02b77c5ac351",
   "metadata": {},
   "outputs": [
    {
     "data": {
      "text/plain": [
       "array([1.5, 5.4, 2.5, 3.6, 4.5, 5.9])"
      ]
     },
     "execution_count": 24,
     "metadata": {},
     "output_type": "execute_result"
    }
   ],
   "source": [
    "lst=[1.5,5.4,2.5,3.6,4.5,5.9]\n",
    "arr=np.array(lst)\n",
    "arr"
   ]
  },
  {
   "cell_type": "code",
   "execution_count": 25,
   "id": "fc56c8f8-4fcc-490f-9581-acbf75ccbd1a",
   "metadata": {},
   "outputs": [
    {
     "data": {
      "text/plain": [
       "array([1, 5, 2, 3, 4, 5])"
      ]
     },
     "execution_count": 25,
     "metadata": {},
     "output_type": "execute_result"
    }
   ],
   "source": [
    "arri=np.array(arr,dtype=int)\n",
    "arri"
   ]
  },
  {
   "cell_type": "markdown",
   "id": "111ea135-ae8b-46a2-b410-5b0ee648c417",
   "metadata": {},
   "source": [
    "### Create a 4*4 identity matrix with a boolean data type in NumPy"
   ]
  },
  {
   "cell_type": "code",
   "execution_count": 29,
   "id": "163adea8-14a4-4ef4-bf75-5e1a34611e73",
   "metadata": {},
   "outputs": [
    {
     "data": {
      "text/plain": [
       "array([[ True, False, False, False],\n",
       "       [False,  True, False, False],\n",
       "       [False, False,  True, False],\n",
       "       [False, False, False,  True]])"
      ]
     },
     "execution_count": 29,
     "metadata": {},
     "output_type": "execute_result"
    }
   ],
   "source": [
    "arr4=np.identity(4,dtype=bool)\n",
    "arr4"
   ]
  },
  {
   "cell_type": "markdown",
   "id": "5c3c8d5d-b4a0-45e4-8764-62e899617500",
   "metadata": {},
   "source": [
    "### Generate a 4*5 matrix of ones in NumPy"
   ]
  },
  {
   "cell_type": "code",
   "execution_count": 32,
   "id": "e271cf1c-2543-4415-a16d-c06353b2c67b",
   "metadata": {},
   "outputs": [
    {
     "data": {
      "text/plain": [
       "array([[1, 1, 1, 1, 1],\n",
       "       [1, 1, 1, 1, 1],\n",
       "       [1, 1, 1, 1, 1],\n",
       "       [1, 1, 1, 1, 1]])"
      ]
     },
     "execution_count": 32,
     "metadata": {},
     "output_type": "execute_result"
    }
   ],
   "source": [
    "arr5=np.ones((4,5),dtype=int)\n",
    "arr5"
   ]
  },
  {
   "cell_type": "markdown",
   "id": "05d0c520-5427-4783-af21-2b23d4ff74d4",
   "metadata": {},
   "source": [
    "### Generate a 4*5 matrix of zeros in NumPy"
   ]
  },
  {
   "cell_type": "code",
   "execution_count": 33,
   "id": "07c22422-66e3-47e9-8f90-0f6062f2713f",
   "metadata": {},
   "outputs": [
    {
     "data": {
      "text/plain": [
       "array([[0, 0, 0, 0, 0],\n",
       "       [0, 0, 0, 0, 0],\n",
       "       [0, 0, 0, 0, 0],\n",
       "       [0, 0, 0, 0, 0]])"
      ]
     },
     "execution_count": 33,
     "metadata": {},
     "output_type": "execute_result"
    }
   ],
   "source": [
    "arr5=np.zeros((4,5),dtype=int)\n",
    "arr5"
   ]
  },
  {
   "cell_type": "markdown",
   "id": "e196e79a-92c8-4ae9-8092-86c17bc5c2e4",
   "metadata": {},
   "source": [
    "### Generate a random numpy array between 1 to 500 of size 4*5"
   ]
  },
  {
   "cell_type": "code",
   "execution_count": 36,
   "id": "1662afd3-ede5-47f4-bfa8-47f71ed772c8",
   "metadata": {},
   "outputs": [
    {
     "data": {
      "text/plain": [
       "array([ 34.3245989 , 295.5145268 ,  26.6177256 , 473.1492195 ,\n",
       "       131.45842207, 273.27054355, 415.10319906, 430.82125014,\n",
       "       171.1714662 , 467.97412226, 217.93395928, 263.31708259,\n",
       "       105.178112  , 244.6967637 ,  28.03686475, 385.36465059,\n",
       "       152.60109635, 230.52957322, 474.11815047, 167.8914646 ])"
      ]
     },
     "execution_count": 36,
     "metadata": {},
     "output_type": "execute_result"
    }
   ],
   "source": [
    "array=np.random.random(4*5)*500\n",
    "array"
   ]
  },
  {
   "cell_type": "code",
   "execution_count": null,
   "id": "2f6389fc-4ce9-4f74-9ac6-675a62db0681",
   "metadata": {},
   "outputs": [],
   "source": []
  }
 ],
 "metadata": {
  "kernelspec": {
   "display_name": "Python 3 (ipykernel)",
   "language": "python",
   "name": "python3"
  },
  "language_info": {
   "codemirror_mode": {
    "name": "ipython",
    "version": 3
   },
   "file_extension": ".py",
   "mimetype": "text/x-python",
   "name": "python",
   "nbconvert_exporter": "python",
   "pygments_lexer": "ipython3",
   "version": "3.13.1"
  }
 },
 "nbformat": 4,
 "nbformat_minor": 5
}
