{
 "cells": [
  {
   "cell_type": "code",
   "execution_count": 1,
   "id": "127c4c43-328d-4994-a5d0-b3131dcf897a",
   "metadata": {},
   "outputs": [],
   "source": [
    "import numpy as np"
   ]
  },
  {
   "cell_type": "code",
   "execution_count": 2,
   "id": "71b5dd26-6a3c-47fb-9376-9f003ae436ca",
   "metadata": {},
   "outputs": [
    {
     "data": {
      "text/plain": [
       "array([10, 20, 30, 40])"
      ]
     },
     "execution_count": 2,
     "metadata": {},
     "output_type": "execute_result"
    }
   ],
   "source": [
    "lst=[10,20,30,40]\n",
    "arr=np.array(lst)\n",
    "arr"
   ]
  },
  {
   "cell_type": "code",
   "execution_count": 3,
   "id": "3e7882b2-b517-4cc0-82cf-702c7bd215b2",
   "metadata": {},
   "outputs": [],
   "source": [
    "lst=[1.5,5.4,2.5,3.6,4.5,5.9]\n",
    "arr1=np.array(lst)"
   ]
  },
  {
   "cell_type": "code",
   "execution_count": 4,
   "id": "8c0709ea-8cdb-4215-90b4-011f6d60bf1e",
   "metadata": {},
   "outputs": [
    {
     "data": {
      "text/plain": [
       "dtype('float64')"
      ]
     },
     "execution_count": 4,
     "metadata": {},
     "output_type": "execute_result"
    }
   ],
   "source": [
    "arr1.dtype"
   ]
  },
  {
   "cell_type": "code",
   "execution_count": 5,
   "id": "99a080fe-1aad-4f48-ad38-5d40907a8494",
   "metadata": {},
   "outputs": [
    {
     "data": {
      "text/plain": [
       "array([10., 20., 30.])"
      ]
     },
     "execution_count": 5,
     "metadata": {},
     "output_type": "execute_result"
    }
   ],
   "source": [
    "arr1=np.array([10,20,30],dtype=float) #int lai float ma change\n",
    "arr1"
   ]
  },
  {
   "cell_type": "code",
   "execution_count": 6,
   "id": "7683b7ef-7d56-4864-b172-989aad9e2180",
   "metadata": {},
   "outputs": [
    {
     "data": {
      "text/plain": [
       "dtype('float64')"
      ]
     },
     "execution_count": 6,
     "metadata": {},
     "output_type": "execute_result"
    }
   ],
   "source": [
    "arr1.dtype"
   ]
  },
  {
   "cell_type": "code",
   "execution_count": 7,
   "id": "411beeb1-3459-4142-9c89-0efb657c32d8",
   "metadata": {},
   "outputs": [
    {
     "data": {
      "text/plain": [
       "array([ True,  True,  True,  True,  True, False, False])"
      ]
     },
     "execution_count": 7,
     "metadata": {},
     "output_type": "execute_result"
    }
   ],
   "source": [
    "arr1=np.array([10,20,30,-10,-20,0,0],dtype=bool) \n",
    "arr1"
   ]
  },
  {
   "cell_type": "code",
   "execution_count": 8,
   "id": "e90907cf-8732-4923-96b5-8156e1187542",
   "metadata": {},
   "outputs": [
    {
     "name": "stdout",
     "output_type": "stream",
     "text": [
      "1\n",
      "2\n",
      "3\n",
      "4\n",
      "5\n",
      "6\n",
      "7\n",
      "8\n",
      "9\n",
      "10\n",
      "11\n",
      "12\n",
      "13\n",
      "14\n",
      "15\n",
      "16\n",
      "17\n",
      "18\n",
      "19\n"
     ]
    }
   ],
   "source": [
    "for i in range(1,20):\n",
    "    print(i)"
   ]
  },
  {
   "cell_type": "code",
   "execution_count": 9,
   "id": "9f6888e3-bb36-4974-8020-379cc917e9ee",
   "metadata": {},
   "outputs": [
    {
     "data": {
      "text/plain": [
       "array([ 1,  2,  3,  4,  5,  6,  7,  8,  9, 10])"
      ]
     },
     "execution_count": 9,
     "metadata": {},
     "output_type": "execute_result"
    }
   ],
   "source": [
    "np.arange(1,11) #1 to 10 samma array banara dinxa"
   ]
  },
  {
   "cell_type": "code",
   "execution_count": 10,
   "id": "ed66bbad-5172-43bb-8e1d-93918de31715",
   "metadata": {},
   "outputs": [
    {
     "data": {
      "text/plain": [
       "array([ 1,  3,  5,  7,  9, 11, 13, 15, 17, 19, 21, 23, 25, 27, 29, 31, 33,\n",
       "       35, 37, 39, 41, 43, 45, 47, 49, 51, 53, 55, 57, 59, 61, 63, 65, 67,\n",
       "       69, 71, 73, 75, 77, 79, 81, 83, 85, 87, 89, 91, 93, 95, 97, 99])"
      ]
     },
     "execution_count": 10,
     "metadata": {},
     "output_type": "execute_result"
    }
   ],
   "source": [
    "np.arange(1,100,2) #1 1 step skip gardai"
   ]
  },
  {
   "cell_type": "markdown",
   "id": "2607c27a-5906-4e10-a85c-6ae69d33a356",
   "metadata": {},
   "source": [
    "# sum of elements in the list"
   ]
  },
  {
   "cell_type": "code",
   "execution_count": 11,
   "id": "ddcd906a-5903-499c-ad6b-52a28d80341d",
   "metadata": {},
   "outputs": [],
   "source": [
    "l1=[10,20,30,40,50]\n",
    "total=0 #product ma chai 1 rakhne\n",
    "for element in l1:\n",
    "    total=total+element\n",
    "    "
   ]
  },
  {
   "cell_type": "code",
   "execution_count": 12,
   "id": "4300d29d-4c2d-439b-9f5b-82606d755ff9",
   "metadata": {},
   "outputs": [
    {
     "data": {
      "text/plain": [
       "150"
      ]
     },
     "execution_count": 12,
     "metadata": {},
     "output_type": "execute_result"
    }
   ],
   "source": [
    "total"
   ]
  },
  {
   "cell_type": "markdown",
   "id": "62adbc0c-4507-4521-a1d8-41f11cad8a92",
   "metadata": {},
   "source": [
    "# Numpy ones and zeros"
   ]
  },
  {
   "cell_type": "code",
   "execution_count": 13,
   "id": "0d4c8899-8496-451d-a00c-c5dbe2de7526",
   "metadata": {},
   "outputs": [
    {
     "data": {
      "text/plain": [
       "array([1, 1, 1, 1])"
      ]
     },
     "execution_count": 13,
     "metadata": {},
     "output_type": "execute_result"
    }
   ],
   "source": [
    "np.ones(4,dtype=int) #1d array 4 elements"
   ]
  },
  {
   "cell_type": "code",
   "execution_count": 14,
   "id": "b069c77d-dba0-4d2c-8780-f48da66ccc09",
   "metadata": {},
   "outputs": [
    {
     "data": {
      "text/plain": [
       "array([0, 0, 0, 0, 0, 0, 0, 0, 0, 0])"
      ]
     },
     "execution_count": 14,
     "metadata": {},
     "output_type": "execute_result"
    }
   ],
   "source": [
    "np.zeros(10,dtype=int)"
   ]
  },
  {
   "cell_type": "code",
   "execution_count": 15,
   "id": "958d3133-4a3b-4eb0-990a-190de362d79e",
   "metadata": {},
   "outputs": [
    {
     "data": {
      "text/plain": [
       "array([[False, False, False, False],\n",
       "       [False, False, False, False],\n",
       "       [False, False, False, False]])"
      ]
     },
     "execution_count": 15,
     "metadata": {},
     "output_type": "execute_result"
    }
   ],
   "source": [
    "np.zeros((3,4),dtype=bool)"
   ]
  },
  {
   "cell_type": "code",
   "execution_count": 16,
   "id": "e57cba18-d3de-49d0-a629-d3983987d373",
   "metadata": {},
   "outputs": [
    {
     "data": {
      "text/plain": [
       "array([[[1, 1, 1],\n",
       "        [1, 1, 1],\n",
       "        [1, 1, 1]],\n",
       "\n",
       "       [[1, 1, 1],\n",
       "        [1, 1, 1],\n",
       "        [1, 1, 1]]])"
      ]
     },
     "execution_count": 16,
     "metadata": {},
     "output_type": "execute_result"
    }
   ],
   "source": [
    "np.ones((2,3,3),dtype=int)"
   ]
  },
  {
   "cell_type": "code",
   "execution_count": 18,
   "id": "d0f36be7-0e64-44d9-a975-0eca7f95ac71",
   "metadata": {},
   "outputs": [
    {
     "data": {
      "text/plain": [
       "array([[[[1, 1, 1],\n",
       "         [1, 1, 1],\n",
       "         [1, 1, 1],\n",
       "         [1, 1, 1]],\n",
       "\n",
       "        [[1, 1, 1],\n",
       "         [1, 1, 1],\n",
       "         [1, 1, 1],\n",
       "         [1, 1, 1]]],\n",
       "\n",
       "\n",
       "       [[[1, 1, 1],\n",
       "         [1, 1, 1],\n",
       "         [1, 1, 1],\n",
       "         [1, 1, 1]],\n",
       "\n",
       "        [[1, 1, 1],\n",
       "         [1, 1, 1],\n",
       "         [1, 1, 1],\n",
       "         [1, 1, 1]]]])"
      ]
     },
     "execution_count": 18,
     "metadata": {},
     "output_type": "execute_result"
    }
   ],
   "source": [
    "np.ones((2,2,4,3),dtype=int)"
   ]
  },
  {
   "cell_type": "markdown",
   "id": "d5a07185-495c-4dc3-b3ea-8056bb877115",
   "metadata": {},
   "source": [
    "# numpy random arrays"
   ]
  },
  {
   "cell_type": "code",
   "execution_count": 19,
   "id": "0a04e47b-a828-4354-87ec-49e6e2a0514a",
   "metadata": {},
   "outputs": [
    {
     "data": {
      "text/plain": [
       "array([0.532748  , 0.47775389])"
      ]
     },
     "execution_count": 19,
     "metadata": {},
     "output_type": "execute_result"
    }
   ],
   "source": [
    "np.random.random(2)  #2 ota random number generate, 0 to 1 ko bich ma dinxa"
   ]
  },
  {
   "cell_type": "code",
   "execution_count": null,
   "id": "45caa885-62ca-47b7-929a-dfbb34dc6c07",
   "metadata": {},
   "outputs": [],
   "source": [
    "np.random.random(2)*100 \n",
    "#0 to 100 samma ko random dinxa, jati samma chaiyo teti le multiply"
   ]
  },
  {
   "cell_type": "code",
   "execution_count": 21,
   "id": "5dc52c4d-d7bc-44a8-a596-e6f8c542a74b",
   "metadata": {},
   "outputs": [
    {
     "data": {
      "text/plain": [
       "array([[44.60372987, 43.34629569, 11.43085615, 32.8708842 ],\n",
       "       [ 5.08619211, 36.78379306, 33.09428788, 28.97805751],\n",
       "       [28.7993313 , 24.19514855, 26.86227237,  8.7246941 ]])"
      ]
     },
     "execution_count": 21,
     "metadata": {},
     "output_type": "execute_result"
    }
   ],
   "source": [
    "np.random.random((3,4))*50"
   ]
  },
  {
   "cell_type": "code",
   "execution_count": 23,
   "id": "acb9d106-eeae-4eea-9449-32af0750bde1",
   "metadata": {},
   "outputs": [
    {
     "data": {
      "text/plain": [
       "array([[[[36.84071905, 28.0067252 , 18.25294312, 34.36657445],\n",
       "         [ 4.80152185, 16.00945518, 45.48335935, 23.50103409],\n",
       "         [11.37563004, 47.38951291, 14.35183255,  9.79019289]],\n",
       "\n",
       "        [[31.41437732,  2.90380759, 12.71965123, 21.93692257],\n",
       "         [39.90558124, 42.37594598, 18.10801938, 43.05541517],\n",
       "         [48.22529818, 32.1574143 ,  0.34566679, 36.58307294]],\n",
       "\n",
       "        [[38.83629508, 35.23541323, 33.2308281 ,  1.97571975],\n",
       "         [28.92825621, 43.59731925, 35.28668833,  6.90524484],\n",
       "         [13.16979682, 34.7751452 , 22.28486614, 12.13479322]],\n",
       "\n",
       "        [[ 5.18376123, 27.68411982, 35.04794604,  3.52494877],\n",
       "         [21.01782737,  1.30534351, 48.41738394, 16.97355347],\n",
       "         [ 0.26391898, 24.82762051, 46.21391707,  6.85990157]]],\n",
       "\n",
       "\n",
       "       [[[12.71811629, 30.09742798, 27.84173551, 26.92142681],\n",
       "         [ 4.07884802, 42.59463692, 30.93101375, 36.44467299],\n",
       "         [24.6111053 , 19.24639331, 13.17306847,  0.1746864 ]],\n",
       "\n",
       "        [[41.37324572, 39.98496368, 24.88233326, 24.3794622 ],\n",
       "         [25.35692141, 12.73252889, 19.24808534, 20.43623868],\n",
       "         [36.08170375, 32.15452048, 26.1686622 , 49.87360168]],\n",
       "\n",
       "        [[29.45578202, 34.40010507, 45.99140155, 32.95314188],\n",
       "         [ 5.90431521,  7.21763348, 19.41527128, 47.44800755],\n",
       "         [25.99471967, 36.09859801,  4.84551366, 46.16308381]],\n",
       "\n",
       "        [[33.55834303, 42.05352546, 28.71353081, 49.81274561],\n",
       "         [32.62894133,  6.20602886, 17.28205809,  5.9233756 ],\n",
       "         [23.3337927 , 14.96562613, 21.69377008, 33.90414859]]]])"
      ]
     },
     "execution_count": 23,
     "metadata": {},
     "output_type": "execute_result"
    }
   ],
   "source": [
    "arr_4d=np.random.random((2,4,3,4))*50\n",
    "arr_4d"
   ]
  },
  {
   "cell_type": "code",
   "execution_count": 24,
   "id": "26446765-2541-4054-b6a8-cc7cf6d3c7bd",
   "metadata": {},
   "outputs": [
    {
     "data": {
      "text/plain": [
       "array([[[[36.841, 28.007, 18.253, 34.367],\n",
       "         [ 4.802, 16.009, 45.483, 23.501],\n",
       "         [11.376, 47.39 , 14.352,  9.79 ]],\n",
       "\n",
       "        [[31.414,  2.904, 12.72 , 21.937],\n",
       "         [39.906, 42.376, 18.108, 43.055],\n",
       "         [48.225, 32.157,  0.346, 36.583]],\n",
       "\n",
       "        [[38.836, 35.235, 33.231,  1.976],\n",
       "         [28.928, 43.597, 35.287,  6.905],\n",
       "         [13.17 , 34.775, 22.285, 12.135]],\n",
       "\n",
       "        [[ 5.184, 27.684, 35.048,  3.525],\n",
       "         [21.018,  1.305, 48.417, 16.974],\n",
       "         [ 0.264, 24.828, 46.214,  6.86 ]]],\n",
       "\n",
       "\n",
       "       [[[12.718, 30.097, 27.842, 26.921],\n",
       "         [ 4.079, 42.595, 30.931, 36.445],\n",
       "         [24.611, 19.246, 13.173,  0.175]],\n",
       "\n",
       "        [[41.373, 39.985, 24.882, 24.379],\n",
       "         [25.357, 12.733, 19.248, 20.436],\n",
       "         [36.082, 32.155, 26.169, 49.874]],\n",
       "\n",
       "        [[29.456, 34.4  , 45.991, 32.953],\n",
       "         [ 5.904,  7.218, 19.415, 47.448],\n",
       "         [25.995, 36.099,  4.846, 46.163]],\n",
       "\n",
       "        [[33.558, 42.054, 28.714, 49.813],\n",
       "         [32.629,  6.206, 17.282,  5.923],\n",
       "         [23.334, 14.966, 21.694, 33.904]]]])"
      ]
     },
     "execution_count": 24,
     "metadata": {},
     "output_type": "execute_result"
    }
   ],
   "source": [
    "np.round(arr_4d,3) #round off to 3 digits after decimal"
   ]
  },
  {
   "cell_type": "code",
   "execution_count": 25,
   "id": "dec3c523-9456-40c3-9497-652d2614f414",
   "metadata": {},
   "outputs": [
    {
     "data": {
      "text/plain": [
       "array([46, 25, 38, 25, 23, 20, 45, 43, 26, 38], dtype=int32)"
      ]
     },
     "execution_count": 25,
     "metadata": {},
     "output_type": "execute_result"
    }
   ],
   "source": [
    "#20 to 30 samma ko random number\n",
    "np.random.randint(20,50,10) #(start,end,katiota) #yo chai 1d ko lagi"
   ]
  },
  {
   "cell_type": "code",
   "execution_count": 26,
   "id": "88d1d0cd-e63a-4b74-9138-a245d427e7ea",
   "metadata": {},
   "outputs": [
    {
     "data": {
      "text/plain": [
       "array([[48, 36, 49, 39],\n",
       "       [22, 33, 34, 34],\n",
       "       [36, 36, 20, 31]], dtype=int32)"
      ]
     },
     "execution_count": 26,
     "metadata": {},
     "output_type": "execute_result"
    }
   ],
   "source": [
    "np.random.randint(20,50,size=(3,4)) #3*4 ko 2d chaiyeko vara"
   ]
  },
  {
   "cell_type": "code",
   "execution_count": 27,
   "id": "addaaa22-cb18-42cc-9639-8a353c8b557f",
   "metadata": {},
   "outputs": [
    {
     "data": {
      "text/plain": [
       "array([[[47, 43, 35, 31],\n",
       "        [30, 39, 35, 24],\n",
       "        [29, 31, 44, 49]],\n",
       "\n",
       "       [[23, 43, 46, 20],\n",
       "        [25, 36, 21, 40],\n",
       "        [48, 22, 30, 40]],\n",
       "\n",
       "       [[37, 38, 40, 35],\n",
       "        [43, 34, 27, 28],\n",
       "        [27, 31, 26, 34]]], dtype=int32)"
      ]
     },
     "execution_count": 27,
     "metadata": {},
     "output_type": "execute_result"
    }
   ],
   "source": [
    "np.random.randint(20,50,size=(3,3,4)) #3 ota 2d array"
   ]
  },
  {
   "cell_type": "markdown",
   "id": "29dc96ce-6c5c-49f3-882d-c973a479cc79",
   "metadata": {},
   "source": [
    "# Reshape function in numpy"
   ]
  },
  {
   "cell_type": "code",
   "execution_count": 28,
   "id": "3261c456-551d-48da-8bac-78049c95197d",
   "metadata": {},
   "outputs": [
    {
     "data": {
      "text/plain": [
       "array([0, 1, 2, 3, 4, 5, 6, 7, 8, 9])"
      ]
     },
     "execution_count": 28,
     "metadata": {},
     "output_type": "execute_result"
    }
   ],
   "source": [
    "np.arange(10) #0 to 9, 10=total num of elements"
   ]
  },
  {
   "cell_type": "code",
   "execution_count": 29,
   "id": "ef4b7601-cbcf-4c0d-a9b6-70b0157a2408",
   "metadata": {},
   "outputs": [
    {
     "data": {
      "text/plain": [
       "1"
      ]
     },
     "execution_count": 29,
     "metadata": {},
     "output_type": "execute_result"
    }
   ],
   "source": [
    "np.arange(10).ndim"
   ]
  },
  {
   "cell_type": "code",
   "execution_count": 30,
   "id": "f7aaa329-cccd-4dd1-b08f-3b07814e961a",
   "metadata": {},
   "outputs": [
    {
     "data": {
      "text/plain": [
       "array([0, 1, 2, 3, 4, 5, 6, 7, 8, 9])"
      ]
     },
     "execution_count": 30,
     "metadata": {},
     "output_type": "execute_result"
    }
   ],
   "source": [
    "#convert to 2d\n",
    "#5*2 and 2*5 possible for 10 elements\n",
    "arr=np.arange(10)\n",
    "arr"
   ]
  },
  {
   "cell_type": "code",
   "execution_count": 31,
   "id": "007970fa-555d-4985-af6b-72e763f46e9d",
   "metadata": {},
   "outputs": [
    {
     "data": {
      "text/plain": [
       "array([[0, 1, 2, 3, 4],\n",
       "       [5, 6, 7, 8, 9]])"
      ]
     },
     "execution_count": 31,
     "metadata": {},
     "output_type": "execute_result"
    }
   ],
   "source": [
    "arr.reshape(2,5) #2 row 5 column, can be also (5,2)"
   ]
  },
  {
   "cell_type": "code",
   "execution_count": 35,
   "id": "cd5a56f5-62e0-418c-a427-c3dc5a8ada86",
   "metadata": {},
   "outputs": [
    {
     "data": {
      "text/plain": [
       "array([ 0,  1,  2,  3,  4,  5,  6,  7,  8,  9, 10, 11, 12, 13, 14, 15])"
      ]
     },
     "execution_count": 35,
     "metadata": {},
     "output_type": "execute_result"
    }
   ],
   "source": [
    "np.arange(16)\n",
    "#2*4*2,4*2*2,2*2*4"
   ]
  },
  {
   "cell_type": "code",
   "execution_count": 37,
   "id": "363cd5bf-6a65-4319-9122-3eeb650115b7",
   "metadata": {},
   "outputs": [
    {
     "data": {
      "text/plain": [
       "array([[[ 0,  1],\n",
       "        [ 2,  3],\n",
       "        [ 4,  5],\n",
       "        [ 6,  7]],\n",
       "\n",
       "       [[ 8,  9],\n",
       "        [10, 11],\n",
       "        [12, 13],\n",
       "        [14, 15]]])"
      ]
     },
     "execution_count": 37,
     "metadata": {},
     "output_type": "execute_result"
    }
   ],
   "source": [
    "np.arange(16).reshape(2,4,2) #(4,2) ko duita"
   ]
  },
  {
   "cell_type": "markdown",
   "id": "683b6460-d9b8-4177-a0bb-38804e0c5f73",
   "metadata": {},
   "source": [
    "# np.identity"
   ]
  },
  {
   "cell_type": "code",
   "execution_count": 39,
   "id": "2b8dd4d1-f927-444e-8304-806e28f5bfe2",
   "metadata": {},
   "outputs": [
    {
     "data": {
      "text/plain": [
       "array([[1, 0, 0],\n",
       "       [0, 1, 0],\n",
       "       [0, 0, 1]])"
      ]
     },
     "execution_count": 39,
     "metadata": {},
     "output_type": "execute_result"
    }
   ],
   "source": [
    "np.identity(3,dtype=int) #3*3 ko identity matrix banauxa\n",
    "#default datatype is float"
   ]
  },
  {
   "cell_type": "code",
   "execution_count": 40,
   "id": "e26dee5b-501a-49fa-9acc-d97653189332",
   "metadata": {},
   "outputs": [
    {
     "data": {
      "text/plain": [
       "array([[ True, False, False, False, False],\n",
       "       [False,  True, False, False, False],\n",
       "       [False, False,  True, False, False],\n",
       "       [False, False, False,  True, False],\n",
       "       [False, False, False, False,  True]])"
      ]
     },
     "execution_count": 40,
     "metadata": {},
     "output_type": "execute_result"
    }
   ],
   "source": [
    "np.identity(5,dtype=bool)"
   ]
  },
  {
   "cell_type": "markdown",
   "id": "52d94323-b1e6-4b94-a4e0-4c03abacad5e",
   "metadata": {},
   "source": [
    "# Multidimension array into 1d array ravel() and flatten()"
   ]
  },
  {
   "cell_type": "code",
   "execution_count": 42,
   "id": "2f9473e6-e59e-4902-ba33-4e4bdf3b93f0",
   "metadata": {},
   "outputs": [
    {
     "data": {
      "text/plain": [
       "array([[[ 0,  1],\n",
       "        [ 2,  3]],\n",
       "\n",
       "       [[ 4,  5],\n",
       "        [ 6,  7]],\n",
       "\n",
       "       [[ 8,  9],\n",
       "        [10, 11]],\n",
       "\n",
       "       [[12, 13],\n",
       "        [14, 15]]])"
      ]
     },
     "execution_count": 42,
     "metadata": {},
     "output_type": "execute_result"
    }
   ],
   "source": [
    "np.arange(16).reshape(4,2,2)"
   ]
  },
  {
   "cell_type": "code",
   "execution_count": 43,
   "id": "b917d6b3-c907-4620-9db2-0968e9755075",
   "metadata": {},
   "outputs": [
    {
     "data": {
      "text/plain": [
       "array([[[ 0,  1],\n",
       "        [ 2,  3]],\n",
       "\n",
       "       [[ 4,  5],\n",
       "        [ 6,  7]],\n",
       "\n",
       "       [[ 8,  9],\n",
       "        [10, 11]],\n",
       "\n",
       "       [[12, 13],\n",
       "        [14, 15]]])"
      ]
     },
     "execution_count": 43,
     "metadata": {},
     "output_type": "execute_result"
    }
   ],
   "source": [
    "mul_dim_arr=np.arange(16).reshape(4,2,2)\n",
    "mul_dim_arr"
   ]
  },
  {
   "cell_type": "code",
   "execution_count": 44,
   "id": "d30be93b-6a77-4af8-8923-c7f03041baa6",
   "metadata": {},
   "outputs": [
    {
     "data": {
      "text/plain": [
       "array([ 0,  1,  2,  3,  4,  5,  6,  7,  8,  9, 10, 11, 12, 13, 14, 15])"
      ]
     },
     "execution_count": 44,
     "metadata": {},
     "output_type": "execute_result"
    }
   ],
   "source": [
    "mul_dim_arr.flatten() #1d array ma lanxa"
   ]
  },
  {
   "cell_type": "code",
   "execution_count": 45,
   "id": "d35e77f2-4f26-465a-8539-5b8d568d4c04",
   "metadata": {},
   "outputs": [
    {
     "data": {
      "text/plain": [
       "array([ 0,  1,  2,  3,  4,  5,  6,  7,  8,  9, 10, 11, 12, 13, 14, 15])"
      ]
     },
     "execution_count": 45,
     "metadata": {},
     "output_type": "execute_result"
    }
   ],
   "source": [
    "mul_dim_arr.ravel() #1d ma lanxa"
   ]
  },
  {
   "cell_type": "code",
   "execution_count": 47,
   "id": "54563de5-15c9-4a9b-b14b-08d132c51fe9",
   "metadata": {},
   "outputs": [
    {
     "data": {
      "text/plain": [
       "array([[[ 0,  1],\n",
       "        [ 2,  3],\n",
       "        [ 4,  5],\n",
       "        [ 6,  7]],\n",
       "\n",
       "       [[ 8,  9],\n",
       "        [10, 11],\n",
       "        [12, 13],\n",
       "        [14, 15]]])"
      ]
     },
     "execution_count": 47,
     "metadata": {},
     "output_type": "execute_result"
    }
   ],
   "source": [
    "mul_dim_arr.ravel().reshape(2,4,2)"
   ]
  },
  {
   "cell_type": "code",
   "execution_count": null,
   "id": "ba40e585-217b-4856-9f03-f605aeffceac",
   "metadata": {},
   "outputs": [],
   "source": []
  }
 ],
 "metadata": {
  "kernelspec": {
   "display_name": "Python 3 (ipykernel)",
   "language": "python",
   "name": "python3"
  },
  "language_info": {
   "codemirror_mode": {
    "name": "ipython",
    "version": 3
   },
   "file_extension": ".py",
   "mimetype": "text/x-python",
   "name": "python",
   "nbconvert_exporter": "python",
   "pygments_lexer": "ipython3",
   "version": "3.13.1"
  }
 },
 "nbformat": 4,
 "nbformat_minor": 5
}
