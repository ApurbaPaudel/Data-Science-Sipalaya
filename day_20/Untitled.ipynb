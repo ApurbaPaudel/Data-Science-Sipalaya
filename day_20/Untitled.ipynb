{
 "cells": [
  {
   "cell_type": "code",
   "execution_count": 1,
   "id": "ae97c51e-056f-4a85-ae07-f4bd0fba0915",
   "metadata": {},
   "outputs": [],
   "source": [
    "from selenium import webdriver\n",
    "from selenium.webdriver.common.by import By\n",
    "import time"
   ]
  },
  {
   "cell_type": "code",
   "execution_count": 2,
   "id": "25954dac-0c83-421c-90c1-f6ccc7c96479",
   "metadata": {},
   "outputs": [],
   "source": [
    "driver=webdriver.Chrome()\n",
    "driver.get('https://www.youtube.com/playlist?list=PLu0W_9lII9agwh1XjRt242xIpHhPT2llg')\n"
   ]
  },
  {
   "cell_type": "code",
   "execution_count": null,
   "id": "b10ab0a9-9179-4a44-9e2b-88935d7499ce",
   "metadata": {},
   "outputs": [],
   "source": [
    "#style-scope ytd-playlist-video-renderer"
   ]
  },
  {
   "cell_type": "code",
   "execution_count": 3,
   "id": "9c493dc7-d7d3-41ab-9be7-982ba419e29f",
   "metadata": {},
   "outputs": [
    {
     "data": {
      "text/plain": [
       "<selenium.webdriver.remote.webelement.WebElement (session=\"cfa471fc4788cd151355c525049bebc8\", element=\"f.0C1FAF76C6B7DEF19C6A816F6D8EFE76.d.60B3F9947810394B39FECDAB8F4336ED.e.43\")>"
      ]
     },
     "execution_count": 3,
     "metadata": {},
     "output_type": "execute_result"
    }
   ],
   "source": [
    "title=driver.find_element(By.CLASS_NAME,f'style-scope ytd-playlist-video-renderer')\n",
    "title"
   ]
  },
  {
   "cell_type": "code",
   "execution_count": 4,
   "id": "730cf545-10a3-47c3-89c9-3276ff9f3514",
   "metadata": {},
   "outputs": [
    {
     "data": {
      "text/plain": [
       "selenium.webdriver.remote.webelement.WebElement"
      ]
     },
     "execution_count": 4,
     "metadata": {},
     "output_type": "execute_result"
    }
   ],
   "source": [
    "type(title)"
   ]
  },
  {
   "cell_type": "code",
   "execution_count": 5,
   "id": "c106a555-9697-4fc2-9adb-fd00fd8ce09f",
   "metadata": {},
   "outputs": [
    {
     "data": {
      "text/plain": [
       "'1\\n11:50\\nIntroduction to Programming & Python | Python Tutorial - Day #1\\nCodeWithHarry\\n•\\n8.4M views • 2 years ago'"
      ]
     },
     "execution_count": 5,
     "metadata": {},
     "output_type": "execute_result"
    }
   ],
   "source": [
    "title.text"
   ]
  },
  {
   "cell_type": "markdown",
   "id": "312d91c7-181e-4ae9-9f4a-b6799cb9c067",
   "metadata": {},
   "source": [
    "# scrap the multiple objects"
   ]
  },
  {
   "cell_type": "code",
   "execution_count": 31,
   "id": "2f88fd91-8a94-4897-9f3b-86d9e1f719e6",
   "metadata": {},
   "outputs": [],
   "source": [
    "title=driver.find_elements(By.ID,f'style-scope ytd-playlist-video-renderer')\n"
   ]
  },
  {
   "cell_type": "code",
   "execution_count": 32,
   "id": "cc915cd5-d501-4b4a-a0d1-0d6cc6b1c99f",
   "metadata": {},
   "outputs": [
    {
     "data": {
      "text/plain": [
       "0"
      ]
     },
     "execution_count": 32,
     "metadata": {},
     "output_type": "execute_result"
    }
   ],
   "source": [
    "len(title)"
   ]
  },
  {
   "cell_type": "code",
   "execution_count": 8,
   "id": "bcd82c78-a82d-4f05-9192-cad00889eeb4",
   "metadata": {},
   "outputs": [
    {
     "data": {
      "text/plain": [
       "[<selenium.webdriver.remote.webelement.WebElement (session=\"cfa471fc4788cd151355c525049bebc8\", element=\"f.0C1FAF76C6B7DEF19C6A816F6D8EFE76.d.60B3F9947810394B39FECDAB8F4336ED.e.43\")>,\n",
       " <selenium.webdriver.remote.webelement.WebElement (session=\"cfa471fc4788cd151355c525049bebc8\", element=\"f.0C1FAF76C6B7DEF19C6A816F6D8EFE76.d.60B3F9947810394B39FECDAB8F4336ED.e.44\")>,\n",
       " <selenium.webdriver.remote.webelement.WebElement (session=\"cfa471fc4788cd151355c525049bebc8\", element=\"f.0C1FAF76C6B7DEF19C6A816F6D8EFE76.d.60B3F9947810394B39FECDAB8F4336ED.e.45\")>]"
      ]
     },
     "execution_count": 8,
     "metadata": {},
     "output_type": "execute_result"
    }
   ],
   "source": [
    "title[0:3]"
   ]
  },
  {
   "cell_type": "code",
   "execution_count": 30,
   "id": "2139dda5-fc05-49ec-b1bf-4b76df27fa67",
   "metadata": {},
   "outputs": [
    {
     "name": "stdout",
     "output_type": "stream",
     "text": [
      "1\n",
      "11:50\n",
      "Introduction to Programming & Python | Python Tutorial - Day #1\n",
      "CodeWithHarry\n",
      "•\n",
      "8.4M views • 2 years ago\n",
      "****************************************************************************************************\n",
      "2\n",
      "8:38\n",
      "Some Amazing Python Programs - The Power of Python | Python Tutorial - Day #2\n",
      "CodeWithHarry\n",
      "•\n",
      "2.7M views • 2 years ago\n",
      "****************************************************************************************************\n",
      "3\n",
      "12:41\n",
      "Modules and Pip | Python Tutorial - Day #3\n",
      "CodeWithHarry\n",
      "•\n",
      "2.5M views • 2 years ago\n",
      "****************************************************************************************************\n",
      "4\n",
      "Our First Python Program | Python Tutorial - Day #4\n",
      "CodeWithHarry\n",
      "•\n",
      "1.7M views • 2 years ago\n",
      "****************************************************************************************************\n"
     ]
    }
   ],
   "source": [
    "data=[]\n",
    "for i in title[0:4]:\n",
    "    print(i.text)\n",
    "    print('*'*100)"
   ]
  },
  {
   "cell_type": "code",
   "execution_count": 16,
   "id": "aa605ce9-9802-4f66-8bbd-e2e11833be2c",
   "metadata": {},
   "outputs": [],
   "source": [
    "data=[]\n",
    "for i in title:\n",
    "    data.append(i.text)"
   ]
  },
  {
   "cell_type": "code",
   "execution_count": 17,
   "id": "438dd5c1-ad3b-40a4-8134-ef4e882dc18a",
   "metadata": {},
   "outputs": [
    {
     "data": {
      "text/plain": [
       "['1\\n11:50\\nIntroduction to Programming & Python | Python Tutorial - Day #1\\nCodeWithHarry\\n•\\n8.4M views • 2 years ago',\n",
       " '2\\n8:38\\nSome Amazing Python Programs - The Power of Python | Python Tutorial - Day #2\\nCodeWithHarry\\n•\\n2.7M views • 2 years ago',\n",
       " '3\\n12:41\\nModules and Pip | Python Tutorial - Day #3\\nCodeWithHarry\\n•\\n2.5M views • 2 years ago',\n",
       " '4\\nOur First Python Program | Python Tutorial - Day #4\\nCodeWithHarry\\n•\\n1.7M views • 2 years ago',\n",
       " '5\\nComments, Escape Sequences & Print Statement | Python Tutorial - Day #5\\nCodeWithHarry\\n•\\n1.8M views • 2 years ago']"
      ]
     },
     "execution_count": 17,
     "metadata": {},
     "output_type": "execute_result"
    }
   ],
   "source": [
    "data[:5]"
   ]
  },
  {
   "cell_type": "markdown",
   "id": "0fe74333-a9a1-4897-b4de-c57de4a8fa9c",
   "metadata": {},
   "source": [
    "# make a dataframe"
   ]
  },
  {
   "cell_type": "code",
   "execution_count": 18,
   "id": "8f176f7f-862b-426e-8d76-64f0f378213a",
   "metadata": {},
   "outputs": [],
   "source": [
    "import pandas as pd"
   ]
  },
  {
   "cell_type": "code",
   "execution_count": 19,
   "id": "a3de28b0-c507-495c-a8bb-aae774f12ac4",
   "metadata": {},
   "outputs": [],
   "source": [
    "df=pd.DataFrame(data)"
   ]
  },
  {
   "cell_type": "code",
   "execution_count": 20,
   "id": "a64d338d-2301-495d-845f-d15307974b26",
   "metadata": {},
   "outputs": [
    {
     "data": {
      "text/html": [
       "<div>\n",
       "<style scoped>\n",
       "    .dataframe tbody tr th:only-of-type {\n",
       "        vertical-align: middle;\n",
       "    }\n",
       "\n",
       "    .dataframe tbody tr th {\n",
       "        vertical-align: top;\n",
       "    }\n",
       "\n",
       "    .dataframe thead th {\n",
       "        text-align: right;\n",
       "    }\n",
       "</style>\n",
       "<table border=\"1\" class=\"dataframe\">\n",
       "  <thead>\n",
       "    <tr style=\"text-align: right;\">\n",
       "      <th></th>\n",
       "      <th>0</th>\n",
       "    </tr>\n",
       "  </thead>\n",
       "  <tbody>\n",
       "    <tr>\n",
       "      <th>0</th>\n",
       "      <td>1\\n11:50\\nIntroduction to Programming &amp; Python...</td>\n",
       "    </tr>\n",
       "    <tr>\n",
       "      <th>1</th>\n",
       "      <td>2\\n8:38\\nSome Amazing Python Programs - The Po...</td>\n",
       "    </tr>\n",
       "    <tr>\n",
       "      <th>2</th>\n",
       "      <td>3\\n12:41\\nModules and Pip | Python Tutorial - ...</td>\n",
       "    </tr>\n",
       "    <tr>\n",
       "      <th>3</th>\n",
       "      <td>4\\nOur First Python Program | Python Tutorial ...</td>\n",
       "    </tr>\n",
       "    <tr>\n",
       "      <th>4</th>\n",
       "      <td>5\\nComments, Escape Sequences &amp; Print Statemen...</td>\n",
       "    </tr>\n",
       "    <tr>\n",
       "      <th>...</th>\n",
       "      <td>...</td>\n",
       "    </tr>\n",
       "    <tr>\n",
       "      <th>95</th>\n",
       "      <td>96\\nAsyncIO in Python | Python Tutorial - Day ...</td>\n",
       "    </tr>\n",
       "    <tr>\n",
       "      <th>96</th>\n",
       "      <td>97\\nMultithreading in Python | Python Tutorial...</td>\n",
       "    </tr>\n",
       "    <tr>\n",
       "      <th>97</th>\n",
       "      <td>98\\nMultiProcessing in Python | Python Tutoria...</td>\n",
       "    </tr>\n",
       "    <tr>\n",
       "      <th>98</th>\n",
       "      <td>99\\nExercise 11: Solution + Shoutouts - Deskto...</td>\n",
       "    </tr>\n",
       "    <tr>\n",
       "      <th>99</th>\n",
       "      <td>100\\nConclusion and Where to go from here | Py...</td>\n",
       "    </tr>\n",
       "  </tbody>\n",
       "</table>\n",
       "<p>100 rows × 1 columns</p>\n",
       "</div>"
      ],
      "text/plain": [
       "                                                    0\n",
       "0   1\\n11:50\\nIntroduction to Programming & Python...\n",
       "1   2\\n8:38\\nSome Amazing Python Programs - The Po...\n",
       "2   3\\n12:41\\nModules and Pip | Python Tutorial - ...\n",
       "3   4\\nOur First Python Program | Python Tutorial ...\n",
       "4   5\\nComments, Escape Sequences & Print Statemen...\n",
       "..                                                ...\n",
       "95  96\\nAsyncIO in Python | Python Tutorial - Day ...\n",
       "96  97\\nMultithreading in Python | Python Tutorial...\n",
       "97  98\\nMultiProcessing in Python | Python Tutoria...\n",
       "98  99\\nExercise 11: Solution + Shoutouts - Deskto...\n",
       "99  100\\nConclusion and Where to go from here | Py...\n",
       "\n",
       "[100 rows x 1 columns]"
      ]
     },
     "execution_count": 20,
     "metadata": {},
     "output_type": "execute_result"
    }
   ],
   "source": [
    "df"
   ]
  },
  {
   "cell_type": "code",
   "execution_count": 21,
   "id": "44a99b66-1659-4552-9252-fc23f83adf50",
   "metadata": {},
   "outputs": [],
   "source": [
    "df.rename(columns={0:'title'},inplace=True)"
   ]
  },
  {
   "cell_type": "code",
   "execution_count": 22,
   "id": "cc8aa340-c3ca-4ad1-8805-ceec03ab10b7",
   "metadata": {},
   "outputs": [
    {
     "data": {
      "text/html": [
       "<div>\n",
       "<style scoped>\n",
       "    .dataframe tbody tr th:only-of-type {\n",
       "        vertical-align: middle;\n",
       "    }\n",
       "\n",
       "    .dataframe tbody tr th {\n",
       "        vertical-align: top;\n",
       "    }\n",
       "\n",
       "    .dataframe thead th {\n",
       "        text-align: right;\n",
       "    }\n",
       "</style>\n",
       "<table border=\"1\" class=\"dataframe\">\n",
       "  <thead>\n",
       "    <tr style=\"text-align: right;\">\n",
       "      <th></th>\n",
       "      <th>title</th>\n",
       "    </tr>\n",
       "  </thead>\n",
       "  <tbody>\n",
       "    <tr>\n",
       "      <th>0</th>\n",
       "      <td>1\\n11:50\\nIntroduction to Programming &amp; Python...</td>\n",
       "    </tr>\n",
       "    <tr>\n",
       "      <th>1</th>\n",
       "      <td>2\\n8:38\\nSome Amazing Python Programs - The Po...</td>\n",
       "    </tr>\n",
       "    <tr>\n",
       "      <th>2</th>\n",
       "      <td>3\\n12:41\\nModules and Pip | Python Tutorial - ...</td>\n",
       "    </tr>\n",
       "    <tr>\n",
       "      <th>3</th>\n",
       "      <td>4\\nOur First Python Program | Python Tutorial ...</td>\n",
       "    </tr>\n",
       "    <tr>\n",
       "      <th>4</th>\n",
       "      <td>5\\nComments, Escape Sequences &amp; Print Statemen...</td>\n",
       "    </tr>\n",
       "    <tr>\n",
       "      <th>...</th>\n",
       "      <td>...</td>\n",
       "    </tr>\n",
       "    <tr>\n",
       "      <th>95</th>\n",
       "      <td>96\\nAsyncIO in Python | Python Tutorial - Day ...</td>\n",
       "    </tr>\n",
       "    <tr>\n",
       "      <th>96</th>\n",
       "      <td>97\\nMultithreading in Python | Python Tutorial...</td>\n",
       "    </tr>\n",
       "    <tr>\n",
       "      <th>97</th>\n",
       "      <td>98\\nMultiProcessing in Python | Python Tutoria...</td>\n",
       "    </tr>\n",
       "    <tr>\n",
       "      <th>98</th>\n",
       "      <td>99\\nExercise 11: Solution + Shoutouts - Deskto...</td>\n",
       "    </tr>\n",
       "    <tr>\n",
       "      <th>99</th>\n",
       "      <td>100\\nConclusion and Where to go from here | Py...</td>\n",
       "    </tr>\n",
       "  </tbody>\n",
       "</table>\n",
       "<p>100 rows × 1 columns</p>\n",
       "</div>"
      ],
      "text/plain": [
       "                                                title\n",
       "0   1\\n11:50\\nIntroduction to Programming & Python...\n",
       "1   2\\n8:38\\nSome Amazing Python Programs - The Po...\n",
       "2   3\\n12:41\\nModules and Pip | Python Tutorial - ...\n",
       "3   4\\nOur First Python Program | Python Tutorial ...\n",
       "4   5\\nComments, Escape Sequences & Print Statemen...\n",
       "..                                                ...\n",
       "95  96\\nAsyncIO in Python | Python Tutorial - Day ...\n",
       "96  97\\nMultithreading in Python | Python Tutorial...\n",
       "97  98\\nMultiProcessing in Python | Python Tutoria...\n",
       "98  99\\nExercise 11: Solution + Shoutouts - Deskto...\n",
       "99  100\\nConclusion and Where to go from here | Py...\n",
       "\n",
       "[100 rows x 1 columns]"
      ]
     },
     "execution_count": 22,
     "metadata": {},
     "output_type": "execute_result"
    }
   ],
   "source": [
    "df"
   ]
  },
  {
   "cell_type": "code",
   "execution_count": 24,
   "id": "3a00faaf-6743-43df-b797-cca6f0815171",
   "metadata": {},
   "outputs": [],
   "source": [
    "df.index=df.index+1"
   ]
  },
  {
   "cell_type": "code",
   "execution_count": 25,
   "id": "e9e0a62e-2102-4195-a493-07023e14237e",
   "metadata": {},
   "outputs": [
    {
     "data": {
      "text/html": [
       "<div>\n",
       "<style scoped>\n",
       "    .dataframe tbody tr th:only-of-type {\n",
       "        vertical-align: middle;\n",
       "    }\n",
       "\n",
       "    .dataframe tbody tr th {\n",
       "        vertical-align: top;\n",
       "    }\n",
       "\n",
       "    .dataframe thead th {\n",
       "        text-align: right;\n",
       "    }\n",
       "</style>\n",
       "<table border=\"1\" class=\"dataframe\">\n",
       "  <thead>\n",
       "    <tr style=\"text-align: right;\">\n",
       "      <th></th>\n",
       "      <th>title</th>\n",
       "    </tr>\n",
       "  </thead>\n",
       "  <tbody>\n",
       "    <tr>\n",
       "      <th>1</th>\n",
       "      <td>1\\n11:50\\nIntroduction to Programming &amp; Python...</td>\n",
       "    </tr>\n",
       "    <tr>\n",
       "      <th>2</th>\n",
       "      <td>2\\n8:38\\nSome Amazing Python Programs - The Po...</td>\n",
       "    </tr>\n",
       "    <tr>\n",
       "      <th>3</th>\n",
       "      <td>3\\n12:41\\nModules and Pip | Python Tutorial - ...</td>\n",
       "    </tr>\n",
       "    <tr>\n",
       "      <th>4</th>\n",
       "      <td>4\\nOur First Python Program | Python Tutorial ...</td>\n",
       "    </tr>\n",
       "    <tr>\n",
       "      <th>5</th>\n",
       "      <td>5\\nComments, Escape Sequences &amp; Print Statemen...</td>\n",
       "    </tr>\n",
       "    <tr>\n",
       "      <th>...</th>\n",
       "      <td>...</td>\n",
       "    </tr>\n",
       "    <tr>\n",
       "      <th>96</th>\n",
       "      <td>96\\nAsyncIO in Python | Python Tutorial - Day ...</td>\n",
       "    </tr>\n",
       "    <tr>\n",
       "      <th>97</th>\n",
       "      <td>97\\nMultithreading in Python | Python Tutorial...</td>\n",
       "    </tr>\n",
       "    <tr>\n",
       "      <th>98</th>\n",
       "      <td>98\\nMultiProcessing in Python | Python Tutoria...</td>\n",
       "    </tr>\n",
       "    <tr>\n",
       "      <th>99</th>\n",
       "      <td>99\\nExercise 11: Solution + Shoutouts - Deskto...</td>\n",
       "    </tr>\n",
       "    <tr>\n",
       "      <th>100</th>\n",
       "      <td>100\\nConclusion and Where to go from here | Py...</td>\n",
       "    </tr>\n",
       "  </tbody>\n",
       "</table>\n",
       "<p>100 rows × 1 columns</p>\n",
       "</div>"
      ],
      "text/plain": [
       "                                                 title\n",
       "1    1\\n11:50\\nIntroduction to Programming & Python...\n",
       "2    2\\n8:38\\nSome Amazing Python Programs - The Po...\n",
       "3    3\\n12:41\\nModules and Pip | Python Tutorial - ...\n",
       "4    4\\nOur First Python Program | Python Tutorial ...\n",
       "5    5\\nComments, Escape Sequences & Print Statemen...\n",
       "..                                                 ...\n",
       "96   96\\nAsyncIO in Python | Python Tutorial - Day ...\n",
       "97   97\\nMultithreading in Python | Python Tutorial...\n",
       "98   98\\nMultiProcessing in Python | Python Tutoria...\n",
       "99   99\\nExercise 11: Solution + Shoutouts - Deskto...\n",
       "100  100\\nConclusion and Where to go from here | Py...\n",
       "\n",
       "[100 rows x 1 columns]"
      ]
     },
     "execution_count": 25,
     "metadata": {},
     "output_type": "execute_result"
    }
   ],
   "source": [
    "df"
   ]
  },
  {
   "cell_type": "markdown",
   "id": "4c6306a1-b478-4deb-9f3d-904a805ef823",
   "metadata": {},
   "source": [
    "# data cleaning"
   ]
  },
  {
   "cell_type": "code",
   "execution_count": 27,
   "id": "63d4d1ee-a99a-4fc4-9dc1-7ddf56e0c534",
   "metadata": {},
   "outputs": [
    {
     "data": {
      "text/plain": [
       "'1\\n11:50\\nIntroduction to Programming & Python | Python Tutorial - Day #1\\nCodeWithHarry\\n•\\n8.4M views • 2 years ago'"
      ]
     },
     "execution_count": 27,
     "metadata": {},
     "output_type": "execute_result"
    }
   ],
   "source": [
    "df['title'][1]"
   ]
  },
  {
   "cell_type": "code",
   "execution_count": 28,
   "id": "b11ed0fb-6aa8-4517-b232-94324a23427c",
   "metadata": {},
   "outputs": [
    {
     "data": {
      "text/plain": [
       "1      [1, 11:50, Introduction to Programming & Pytho...\n",
       "2      [2, 8:38, Some Amazing Python Programs - The P...\n",
       "3      [3, 12:41, Modules and Pip | Python Tutorial -...\n",
       "4      [4, Our First Python Program | Python Tutorial...\n",
       "5      [5, Comments, Escape Sequences & Print Stateme...\n",
       "                             ...                        \n",
       "96     [96, AsyncIO in Python | Python Tutorial - Day...\n",
       "97     [97, Multithreading in Python | Python Tutoria...\n",
       "98     [98, MultiProcessing in Python | Python Tutori...\n",
       "99     [99, Exercise 11: Solution + Shoutouts - Deskt...\n",
       "100    [100, Conclusion and Where to go from here | P...\n",
       "Name: title, Length: 100, dtype: object"
      ]
     },
     "execution_count": 28,
     "metadata": {},
     "output_type": "execute_result"
    }
   ],
   "source": [
    "df['title'].str.split('\\n')"
   ]
  },
  {
   "cell_type": "code",
   "execution_count": null,
   "id": "04723144-fe57-4631-9c7e-834851b1c9c2",
   "metadata": {},
   "outputs": [],
   "source": [
    "df"
   ]
  },
  {
   "cell_type": "code",
   "execution_count": null,
   "id": "4e5435bf-5700-4af3-b730-7e5d00fc99d8",
   "metadata": {},
   "outputs": [],
   "source": []
  }
 ],
 "metadata": {
  "kernelspec": {
   "display_name": "Python 3 (ipykernel)",
   "language": "python",
   "name": "python3"
  },
  "language_info": {
   "codemirror_mode": {
    "name": "ipython",
    "version": 3
   },
   "file_extension": ".py",
   "mimetype": "text/x-python",
   "name": "python",
   "nbconvert_exporter": "python",
   "pygments_lexer": "ipython3",
   "version": "3.13.1"
  }
 },
 "nbformat": 4,
 "nbformat_minor": 5
}
