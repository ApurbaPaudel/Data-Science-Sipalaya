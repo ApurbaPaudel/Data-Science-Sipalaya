{
 "cells": [
  {
   "cell_type": "code",
   "execution_count": 1,
   "id": "4b1e14c0-1ff7-4808-ba08-5eb94343fa41",
   "metadata": {},
   "outputs": [],
   "source": [
    "import numpy as np"
   ]
  },
  {
   "cell_type": "code",
   "execution_count": 10,
   "id": "ef4e72e9-a15a-4b26-b673-bb2010cbbbbd",
   "metadata": {},
   "outputs": [
    {
     "data": {
      "text/plain": [
       "array([[0, 1],\n",
       "       [2, 3]])"
      ]
     },
     "execution_count": 10,
     "metadata": {},
     "output_type": "execute_result"
    }
   ],
   "source": [
    "arr1=np.arange(4).reshape(2,2)\n",
    "arr1"
   ]
  },
  {
   "cell_type": "code",
   "execution_count": 11,
   "id": "3d6475ff-e12c-4937-9e68-444b8dee6ae0",
   "metadata": {},
   "outputs": [
    {
     "data": {
      "text/plain": [
       "array([[4, 5],\n",
       "       [6, 7]])"
      ]
     },
     "execution_count": 11,
     "metadata": {},
     "output_type": "execute_result"
    }
   ],
   "source": [
    "arr2=np.arange(4,8).reshape(2,2)\n",
    "arr2"
   ]
  },
  {
   "cell_type": "markdown",
   "id": "bf27156d-5b2e-4084-a19c-369ba6e2597e",
   "metadata": {},
   "source": [
    "# Vector operations"
   ]
  },
  {
   "cell_type": "code",
   "execution_count": 13,
   "id": "d7043070-50e2-4d01-be1c-8afb0b7ef95f",
   "metadata": {},
   "outputs": [
    {
     "data": {
      "text/plain": [
       "array([[ 4,  6],\n",
       "       [ 8, 10]])"
      ]
     },
     "execution_count": 13,
     "metadata": {},
     "output_type": "execute_result"
    }
   ],
   "source": [
    "arr3=arr1+arr2\n",
    "arr3\n",
    "#likewise addition, sub, mult, div, modulo"
   ]
  },
  {
   "cell_type": "markdown",
   "id": "a7af3ad8-ab22-492c-97f5-7d6b2194be14",
   "metadata": {},
   "source": [
    "# scalar operations"
   ]
  },
  {
   "cell_type": "code",
   "execution_count": 16,
   "id": "205b08d2-abdc-4f0d-b155-706e90bfae60",
   "metadata": {},
   "outputs": [
    {
     "data": {
      "text/plain": [
       "array([10, 20, 30, 40, 50, 60])"
      ]
     },
     "execution_count": 16,
     "metadata": {},
     "output_type": "execute_result"
    }
   ],
   "source": [
    "arr1=np.array([10,20,30,40,50,60])\n",
    "arr1"
   ]
  },
  {
   "cell_type": "code",
   "execution_count": 18,
   "id": "3c371fdf-4e6e-40bc-95f5-94b7d542e0e8",
   "metadata": {},
   "outputs": [
    {
     "data": {
      "text/plain": [
       "array([20, 30, 40, 50, 60, 70])"
      ]
     },
     "execution_count": 18,
     "metadata": {},
     "output_type": "execute_result"
    }
   ],
   "source": [
    "arr1+10 #sabai ma 10 add"
   ]
  },
  {
   "cell_type": "code",
   "execution_count": 19,
   "id": "bafad186-49cd-41be-98f8-a3447763dabd",
   "metadata": {},
   "outputs": [
    {
     "data": {
      "text/plain": [
       "array([ 100,  400,  900, 1600, 2500, 3600])"
      ]
     },
     "execution_count": 19,
     "metadata": {},
     "output_type": "execute_result"
    }
   ],
   "source": [
    "arr1**2 #sabai ma power 2"
   ]
  },
  {
   "cell_type": "code",
   "execution_count": 23,
   "id": "ffc3d5e7-3c05-4300-abbc-e33866d5975b",
   "metadata": {},
   "outputs": [
    {
     "data": {
      "text/plain": [
       "array([[10, 11, 12, 13],\n",
       "       [14, 15, 16, 17],\n",
       "       [18, 19, 20, 21]])"
      ]
     },
     "execution_count": 23,
     "metadata": {},
     "output_type": "execute_result"
    }
   ],
   "source": [
    "arr2d=np.arange(12).reshape(3,4)+10\n",
    "arr2d"
   ]
  },
  {
   "cell_type": "code",
   "execution_count": 24,
   "id": "b7d4f2b0-abf5-4dfe-9004-663cbd33dca8",
   "metadata": {},
   "outputs": [
    {
     "data": {
      "text/plain": [
       "array([[False,  True, False,  True],\n",
       "       [False,  True, False,  True],\n",
       "       [False,  True, False,  True]])"
      ]
     },
     "execution_count": 24,
     "metadata": {},
     "output_type": "execute_result"
    }
   ],
   "source": [
    "arr2d%2==1 #1 aauni m atrue aru ma false"
   ]
  },
  {
   "cell_type": "code",
   "execution_count": 25,
   "id": "2fb10053-c07f-4e1f-b6fe-ea2efb32bc90",
   "metadata": {},
   "outputs": [
    {
     "data": {
      "text/plain": [
       "array([11, 13, 15, 17, 19, 21])"
      ]
     },
     "execution_count": 25,
     "metadata": {},
     "output_type": "execute_result"
    }
   ],
   "source": [
    "arr2d[arr2d%2==1]"
   ]
  },
  {
   "cell_type": "markdown",
   "id": "214fee04-6803-4f23-90c1-97113831deba",
   "metadata": {},
   "source": [
    "# Relational operators in numpy arrays"
   ]
  },
  {
   "cell_type": "code",
   "execution_count": 29,
   "id": "fb2724fd-e182-44a1-a8ea-4f2d1a408c35",
   "metadata": {},
   "outputs": [
    {
     "data": {
      "text/plain": [
       "array([[73, 21, 84],\n",
       "       [76, 88, 23],\n",
       "       [44,  6, 38]], dtype=int32)"
      ]
     },
     "execution_count": 29,
     "metadata": {},
     "output_type": "execute_result"
    }
   ],
   "source": [
    "random_array=np.random.randint(0,100,9).reshape(3,3)\n",
    "random_array"
   ]
  },
  {
   "cell_type": "code",
   "execution_count": 31,
   "id": "61d91a5d-48ba-4be1-a1a9-13df6565ecbf",
   "metadata": {},
   "outputs": [
    {
     "data": {
      "text/plain": [
       "array([[False, False, False],\n",
       "       [False, False, False],\n",
       "       [False,  True, False]])"
      ]
     },
     "execution_count": 31,
     "metadata": {},
     "output_type": "execute_result"
    }
   ],
   "source": [
    "random_array==6"
   ]
  },
  {
   "cell_type": "code",
   "execution_count": 32,
   "id": "ed7df847-3e2f-4ee5-bbbe-6c49d847acbd",
   "metadata": {},
   "outputs": [
    {
     "data": {
      "text/plain": [
       "array([6], dtype=int32)"
      ]
     },
     "execution_count": 32,
     "metadata": {},
     "output_type": "execute_result"
    }
   ],
   "source": [
    "random_array[random_array==6]"
   ]
  },
  {
   "cell_type": "code",
   "execution_count": 33,
   "id": "161746bd-aa57-4511-bc54-f06eb67d2bea",
   "metadata": {},
   "outputs": [
    {
     "data": {
      "text/plain": [
       "1"
      ]
     },
     "execution_count": 33,
     "metadata": {},
     "output_type": "execute_result"
    }
   ],
   "source": [
    "random_array[random_array==6].size"
   ]
  },
  {
   "cell_type": "code",
   "execution_count": 35,
   "id": "096d26c5-de6f-4f31-a6fe-32bc680c68c4",
   "metadata": {},
   "outputs": [
    {
     "data": {
      "text/plain": [
       "1"
      ]
     },
     "execution_count": 35,
     "metadata": {},
     "output_type": "execute_result"
    }
   ],
   "source": [
    "len(random_array[random_array==6])"
   ]
  },
  {
   "cell_type": "code",
   "execution_count": 36,
   "id": "b8caf5b4-ccb5-4deb-b622-ac56fb01cbc0",
   "metadata": {},
   "outputs": [
    {
     "data": {
      "text/plain": [
       "array([[ True, False,  True],\n",
       "       [ True,  True, False],\n",
       "       [False, False, False]])"
      ]
     },
     "execution_count": 36,
     "metadata": {},
     "output_type": "execute_result"
    }
   ],
   "source": [
    "random_array >50"
   ]
  },
  {
   "cell_type": "code",
   "execution_count": 37,
   "id": "d46af924-9f9f-44e8-9630-d86e47dc5a54",
   "metadata": {},
   "outputs": [
    {
     "data": {
      "text/plain": [
       "array([73, 84, 76, 88], dtype=int32)"
      ]
     },
     "execution_count": 37,
     "metadata": {},
     "output_type": "execute_result"
    }
   ],
   "source": [
    "random_array[random_array >50]"
   ]
  },
  {
   "cell_type": "code",
   "execution_count": 38,
   "id": "e9c1f093-b589-4495-81fd-10e0416b0685",
   "metadata": {},
   "outputs": [
    {
     "data": {
      "text/plain": [
       "array([[ True,  True,  True],\n",
       "       [ True,  True,  True],\n",
       "       [ True, False,  True]])"
      ]
     },
     "execution_count": 38,
     "metadata": {},
     "output_type": "execute_result"
    }
   ],
   "source": [
    "~(random_array==6) #6 ko thaau ma false"
   ]
  },
  {
   "cell_type": "code",
   "execution_count": 40,
   "id": "cf9c5999-f676-429e-be40-2100bc52d080",
   "metadata": {},
   "outputs": [
    {
     "data": {
      "text/plain": [
       "array([73, 21, 84, 76, 88, 23, 44, 38], dtype=int32)"
      ]
     },
     "execution_count": 40,
     "metadata": {},
     "output_type": "execute_result"
    }
   ],
   "source": [
    "random_array[~(random_array ==6)]"
   ]
  },
  {
   "cell_type": "code",
   "execution_count": 41,
   "id": "7f42f2d9-ddd2-4d94-8d4f-0911acd0c626",
   "metadata": {},
   "outputs": [
    {
     "data": {
      "text/plain": [
       "array([[80, 72, 61],\n",
       "       [14, 46, 22],\n",
       "       [31, 74, 28],\n",
       "       [11, 62, 70]], dtype=int32)"
      ]
     },
     "execution_count": 41,
     "metadata": {},
     "output_type": "execute_result"
    }
   ],
   "source": [
    "random_array=np.random.randint(0,100,12).reshape(4,3)\n",
    "random_array"
   ]
  },
  {
   "cell_type": "markdown",
   "id": "80c477df-146b-4d5d-9c0f-75d3288dac4c",
   "metadata": {},
   "source": [
    "# Logic gates"
   ]
  },
  {
   "cell_type": "code",
   "execution_count": 42,
   "id": "4aaf37c4-1ffb-46d2-b6ce-cea37bed0827",
   "metadata": {},
   "outputs": [
    {
     "data": {
      "text/plain": [
       "array([[80, 72, 61],\n",
       "       [14, 46, 22],\n",
       "       [31, 74, 28],\n",
       "       [11, 62, 70]], dtype=int32)"
      ]
     },
     "execution_count": 42,
     "metadata": {},
     "output_type": "execute_result"
    }
   ],
   "source": [
    "random_array"
   ]
  },
  {
   "cell_type": "code",
   "execution_count": 43,
   "id": "fd913b4c-14bf-4df4-b95f-8c197d965c23",
   "metadata": {},
   "outputs": [
    {
     "data": {
      "text/plain": [
       "array([[False,  True, False],\n",
       "       [False, False, False],\n",
       "       [False, False, False],\n",
       "       [False, False, False]])"
      ]
     },
     "execution_count": 43,
     "metadata": {},
     "output_type": "execute_result"
    }
   ],
   "source": [
    "random_array%3==0 #array divisible by 3"
   ]
  },
  {
   "cell_type": "code",
   "execution_count": 44,
   "id": "d512f4c4-1477-48e7-b75f-c81224688663",
   "metadata": {},
   "outputs": [
    {
     "data": {
      "text/plain": [
       "array([[ True, False, False],\n",
       "       [False, False, False],\n",
       "       [False, False, False],\n",
       "       [False, False,  True]])"
      ]
     },
     "execution_count": 44,
     "metadata": {},
     "output_type": "execute_result"
    }
   ],
   "source": [
    "random_array%5==0"
   ]
  },
  {
   "cell_type": "code",
   "execution_count": 45,
   "id": "15007536-dabc-4279-91db-885cb21f1d6b",
   "metadata": {},
   "outputs": [
    {
     "data": {
      "text/plain": [
       "array([[False, False, False],\n",
       "       [False, False, False],\n",
       "       [False, False, False],\n",
       "       [False, False, False]])"
      ]
     },
     "execution_count": 45,
     "metadata": {},
     "output_type": "execute_result"
    }
   ],
   "source": [
    "(random_array%3==0) & (random_array%5==0) #and"
   ]
  },
  {
   "cell_type": "code",
   "execution_count": 46,
   "id": "20baadbe-298b-40b8-bcca-9d1520bc8ca6",
   "metadata": {},
   "outputs": [
    {
     "data": {
      "text/plain": [
       "array([], dtype=int32)"
      ]
     },
     "execution_count": 46,
     "metadata": {},
     "output_type": "execute_result"
    }
   ],
   "source": [
    "random_array[(random_array%3==0) & (random_array%5==0)]"
   ]
  },
  {
   "cell_type": "code",
   "execution_count": 47,
   "id": "3a464233-72a7-4469-9e1f-2be67fc136fe",
   "metadata": {},
   "outputs": [
    {
     "data": {
      "text/plain": [
       "array([[ True,  True, False],\n",
       "       [False, False, False],\n",
       "       [False, False, False],\n",
       "       [False, False,  True]])"
      ]
     },
     "execution_count": 47,
     "metadata": {},
     "output_type": "execute_result"
    }
   ],
   "source": [
    "(random_array%3==0) | (random_array%5==0) #or"
   ]
  },
  {
   "cell_type": "code",
   "execution_count": 48,
   "id": "3ce0055d-0055-452d-a766-732969b56bfb",
   "metadata": {},
   "outputs": [
    {
     "data": {
      "text/plain": [
       "array([80, 72, 70], dtype=int32)"
      ]
     },
     "execution_count": 48,
     "metadata": {},
     "output_type": "execute_result"
    }
   ],
   "source": [
    "random_array[(random_array%3==0) | (random_array%5==0)]"
   ]
  },
  {
   "cell_type": "code",
   "execution_count": 49,
   "id": "fd71fba0-7c39-42d9-b6f1-24352414d5b2",
   "metadata": {},
   "outputs": [
    {
     "data": {
      "text/plain": [
       "array([61, 14, 46, 22, 31, 74, 28, 11, 62], dtype=int32)"
      ]
     },
     "execution_count": 49,
     "metadata": {},
     "output_type": "execute_result"
    }
   ],
   "source": [
    "random_array[~((random_array%3==0) | (random_array%5==0))] #not "
   ]
  },
  {
   "cell_type": "markdown",
   "id": "fbc8d0a7-ab53-41bd-9fa8-01bde2b4115e",
   "metadata": {},
   "source": [
    "# aggregate functions in an array(min, max,sum,prod,mean,std,var)"
   ]
  },
  {
   "cell_type": "code",
   "execution_count": 51,
   "id": "f53011cd-dea2-4f06-ae86-9d672598f241",
   "metadata": {},
   "outputs": [
    {
     "data": {
      "text/plain": [
       "array([[67, 47, 64,  1],\n",
       "       [76, 66, 67,  7],\n",
       "       [ 6, 29, 24, 31],\n",
       "       [33, 60, 52,  1]], dtype=int32)"
      ]
     },
     "execution_count": 51,
     "metadata": {},
     "output_type": "execute_result"
    }
   ],
   "source": [
    "arr2d=np.random.randint(1,100,16).reshape(4,4)\n",
    "arr2d"
   ]
  },
  {
   "cell_type": "code",
   "execution_count": 53,
   "id": "4992a8b0-6379-46b0-a9b5-b69b82e75363",
   "metadata": {},
   "outputs": [
    {
     "data": {
      "text/plain": [
       "1"
      ]
     },
     "execution_count": 53,
     "metadata": {},
     "output_type": "execute_result"
    }
   ],
   "source": [
    "int(np.min(arr2d)) #extracts sabse sano from the array"
   ]
  },
  {
   "cell_type": "code",
   "execution_count": 54,
   "id": "b4ddd8a4-0fda-444e-b5ab-bcf555692562",
   "metadata": {},
   "outputs": [
    {
     "data": {
      "text/plain": [
       "np.int32(1)"
      ]
     },
     "execution_count": 54,
     "metadata": {},
     "output_type": "execute_result"
    }
   ],
   "source": [
    "np.min(arr2d)"
   ]
  },
  {
   "cell_type": "code",
   "execution_count": 55,
   "id": "94241704-3c31-4df7-8704-17bae5837897",
   "metadata": {},
   "outputs": [
    {
     "data": {
      "text/plain": [
       "array([ 6, 29, 24,  1], dtype=int32)"
      ]
     },
     "execution_count": 55,
     "metadata": {},
     "output_type": "execute_result"
    }
   ],
   "source": [
    "np.min(arr2d,axis=0) #columnwise herxa axis=0 rakhda"
   ]
  },
  {
   "cell_type": "code",
   "execution_count": 56,
   "id": "8ab1dae4-181c-4014-9639-32ca6a40eb14",
   "metadata": {},
   "outputs": [
    {
     "data": {
      "text/plain": [
       "array([1, 7, 6, 1], dtype=int32)"
      ]
     },
     "execution_count": 56,
     "metadata": {},
     "output_type": "execute_result"
    }
   ],
   "source": [
    "np.min(arr2d,axis=1) #row wise herxa axis=1 rakhda"
   ]
  },
  {
   "cell_type": "markdown",
   "id": "2313b35f-e92e-47c0-9fb7-26450758fca0",
   "metadata": {},
   "source": [
    "## average, mean"
   ]
  },
  {
   "cell_type": "code",
   "execution_count": 57,
   "id": "1e202dbe-4d09-4a47-a831-3cbde0939b21",
   "metadata": {},
   "outputs": [
    {
     "data": {
      "text/plain": [
       "array([[67, 47, 64,  1],\n",
       "       [76, 66, 67,  7],\n",
       "       [ 6, 29, 24, 31],\n",
       "       [33, 60, 52,  1]], dtype=int32)"
      ]
     },
     "execution_count": 57,
     "metadata": {},
     "output_type": "execute_result"
    }
   ],
   "source": [
    "arr2d"
   ]
  },
  {
   "cell_type": "code",
   "execution_count": 58,
   "id": "6fa6f56e-a5bf-4111-ad93-7df35eef152b",
   "metadata": {},
   "outputs": [
    {
     "data": {
      "text/plain": [
       "np.float64(39.4375)"
      ]
     },
     "execution_count": 58,
     "metadata": {},
     "output_type": "execute_result"
    }
   ],
   "source": [
    "np.mean(arr2d) #whole ko mean"
   ]
  },
  {
   "cell_type": "code",
   "execution_count": 59,
   "id": "bfdfee11-64cb-46ef-b245-006efcce79d0",
   "metadata": {},
   "outputs": [
    {
     "data": {
      "text/plain": [
       "np.int64(631)"
      ]
     },
     "execution_count": 59,
     "metadata": {},
     "output_type": "execute_result"
    }
   ],
   "source": [
    "np.sum(arr2d)"
   ]
  },
  {
   "cell_type": "code",
   "execution_count": 62,
   "id": "a4791914-3844-44fd-943f-4fa2fd7cff90",
   "metadata": {},
   "outputs": [
    {
     "data": {
      "text/plain": [
       "array([45.5 , 50.5 , 51.75, 10.  ])"
      ]
     },
     "execution_count": 62,
     "metadata": {},
     "output_type": "execute_result"
    }
   ],
   "source": [
    "np.mean(arr2d,axis=0) #column wise ko mean"
   ]
  },
  {
   "cell_type": "code",
   "execution_count": 63,
   "id": "419f872d-e656-4c15-8962-32376a73e2a8",
   "metadata": {},
   "outputs": [
    {
     "data": {
      "text/plain": [
       "array([44.75, 54.  , 22.5 , 36.5 ])"
      ]
     },
     "execution_count": 63,
     "metadata": {},
     "output_type": "execute_result"
    }
   ],
   "source": [
    "np.mean(arr2d,axis=1) #row wise ko mean\n"
   ]
  },
  {
   "cell_type": "code",
   "execution_count": 64,
   "id": "03b9ff06-b4e2-43aa-9877-4b78899fdb30",
   "metadata": {},
   "outputs": [
    {
     "data": {
      "text/plain": [
       "np.int64(-7864108208109518848)"
      ]
     },
     "execution_count": 64,
     "metadata": {},
     "output_type": "execute_result"
    }
   ],
   "source": [
    "np.prod(arr2d)"
   ]
  },
  {
   "cell_type": "code",
   "execution_count": 65,
   "id": "b25b2e4f-f499-4d7f-b915-a3dc264fce60",
   "metadata": {},
   "outputs": [
    {
     "data": {
      "text/plain": [
       "array([76, 66, 67,  7], dtype=int32)"
      ]
     },
     "execution_count": 65,
     "metadata": {},
     "output_type": "execute_result"
    }
   ],
   "source": [
    "arr2d[1]"
   ]
  },
  {
   "cell_type": "code",
   "execution_count": 66,
   "id": "f8648e36-eae8-46ca-b2ac-ec0590780b63",
   "metadata": {},
   "outputs": [
    {
     "data": {
      "text/plain": [
       "np.float64(54.0)"
      ]
     },
     "execution_count": 66,
     "metadata": {},
     "output_type": "execute_result"
    }
   ],
   "source": [
    "np.mean(arr2d[1])"
   ]
  },
  {
   "cell_type": "markdown",
   "id": "0f19d3e9-5e15-4b2c-8e76-a81bd4122a7d",
   "metadata": {},
   "source": [
    "# traverse the elements in the array"
   ]
  },
  {
   "cell_type": "code",
   "execution_count": 67,
   "id": "bfd11abb-5c01-45ff-9dd9-394df6d7e727",
   "metadata": {},
   "outputs": [
    {
     "data": {
      "text/plain": [
       "array([[67, 47, 64,  1],\n",
       "       [76, 66, 67,  7],\n",
       "       [ 6, 29, 24, 31],\n",
       "       [33, 60, 52,  1]], dtype=int32)"
      ]
     },
     "execution_count": 67,
     "metadata": {},
     "output_type": "execute_result"
    }
   ],
   "source": [
    "arr2d"
   ]
  },
  {
   "cell_type": "code",
   "execution_count": 68,
   "id": "31717eb1-2379-4586-b1fc-baceabd3e202",
   "metadata": {},
   "outputs": [
    {
     "data": {
      "text/plain": [
       "4"
      ]
     },
     "execution_count": 68,
     "metadata": {},
     "output_type": "execute_result"
    }
   ],
   "source": [
    "len(arr2d)"
   ]
  },
  {
   "cell_type": "code",
   "execution_count": 70,
   "id": "9e2b0435-4073-49f3-bea4-678896c3cd21",
   "metadata": {},
   "outputs": [
    {
     "name": "stdout",
     "output_type": "stream",
     "text": [
      "[67 47 64  1]\n",
      "******************************\n",
      "[76 66 67  7]\n",
      "******************************\n",
      "[ 6 29 24 31]\n",
      "******************************\n",
      "[33 60 52  1]\n",
      "******************************\n"
     ]
    }
   ],
   "source": [
    "for array in arr2d:\n",
    "    print(array)\n",
    "    print('*'*30)"
   ]
  },
  {
   "cell_type": "code",
   "execution_count": 71,
   "id": "dca4fb14-1f3c-48a8-9af6-630fea3b9635",
   "metadata": {},
   "outputs": [
    {
     "name": "stdout",
     "output_type": "stream",
     "text": [
      "67\n",
      "47\n",
      "64\n",
      "1\n",
      "76\n",
      "66\n",
      "67\n",
      "7\n",
      "6\n",
      "29\n",
      "24\n",
      "31\n",
      "33\n",
      "60\n",
      "52\n",
      "1\n"
     ]
    }
   ],
   "source": [
    "for array in arr2d:\n",
    "    for element in array:\n",
    "        print(element)"
   ]
  },
  {
   "cell_type": "markdown",
   "id": "ec9b59df-cbc3-406c-8688-001014e3cf61",
   "metadata": {},
   "source": [
    "# np.diter()"
   ]
  },
  {
   "cell_type": "code",
   "execution_count": 72,
   "id": "d592748b-d616-41db-8c1c-21f4a86dd0a9",
   "metadata": {},
   "outputs": [
    {
     "data": {
      "text/plain": [
       "array([[67, 47, 64,  1],\n",
       "       [76, 66, 67,  7],\n",
       "       [ 6, 29, 24, 31],\n",
       "       [33, 60, 52,  1]], dtype=int32)"
      ]
     },
     "execution_count": 72,
     "metadata": {},
     "output_type": "execute_result"
    }
   ],
   "source": [
    "arr2d"
   ]
  },
  {
   "cell_type": "code",
   "execution_count": 74,
   "id": "212b3cce-2ae2-4f3c-b9a8-1f826f1fdf89",
   "metadata": {},
   "outputs": [
    {
     "name": "stdout",
     "output_type": "stream",
     "text": [
      "67\n",
      "47\n",
      "64\n",
      "1\n",
      "76\n",
      "66\n",
      "67\n",
      "7\n",
      "6\n",
      "29\n",
      "24\n",
      "31\n",
      "33\n",
      "60\n",
      "52\n",
      "1\n"
     ]
    }
   ],
   "source": [
    "for element in np.nditer(arr2d):\n",
    "    print(element)"
   ]
  },
  {
   "cell_type": "code",
   "execution_count": 76,
   "id": "e158f575-b89d-4985-9695-fea1f8041f12",
   "metadata": {},
   "outputs": [
    {
     "data": {
      "text/plain": [
       "array([[[[71, 83],\n",
       "         [70,  8]],\n",
       "\n",
       "        [[80,  1],\n",
       "         [34, 32]],\n",
       "\n",
       "        [[88, 71],\n",
       "         [37, 39]]],\n",
       "\n",
       "\n",
       "       [[[33,  1],\n",
       "         [42,  1]],\n",
       "\n",
       "        [[54, 35],\n",
       "         [80, 53]],\n",
       "\n",
       "        [[62, 54],\n",
       "         [ 1, 11]]],\n",
       "\n",
       "\n",
       "       [[[ 9, 52],\n",
       "         [27, 89]],\n",
       "\n",
       "        [[ 7, 36],\n",
       "         [ 6, 27]],\n",
       "\n",
       "        [[53, 80],\n",
       "         [24, 80]]],\n",
       "\n",
       "\n",
       "       [[[94, 74],\n",
       "         [16, 13]],\n",
       "\n",
       "        [[70, 99],\n",
       "         [28, 14]],\n",
       "\n",
       "        [[ 5, 85],\n",
       "         [10, 94]]]], dtype=int32)"
      ]
     },
     "execution_count": 76,
     "metadata": {},
     "output_type": "execute_result"
    }
   ],
   "source": [
    "arr4d=np.random.randint(1,100,size=(4,3,2,2))\n",
    "arr4d"
   ]
  },
  {
   "cell_type": "code",
   "execution_count": 77,
   "id": "9d1847c2-0189-4b3f-8ebe-501100d95e97",
   "metadata": {},
   "outputs": [
    {
     "name": "stdout",
     "output_type": "stream",
     "text": [
      "[[[71 83]\n",
      "  [70  8]]\n",
      "\n",
      " [[80  1]\n",
      "  [34 32]]\n",
      "\n",
      " [[88 71]\n",
      "  [37 39]]]\n",
      "______________________________\n",
      "[[[33  1]\n",
      "  [42  1]]\n",
      "\n",
      " [[54 35]\n",
      "  [80 53]]\n",
      "\n",
      " [[62 54]\n",
      "  [ 1 11]]]\n",
      "______________________________\n",
      "[[[ 9 52]\n",
      "  [27 89]]\n",
      "\n",
      " [[ 7 36]\n",
      "  [ 6 27]]\n",
      "\n",
      " [[53 80]\n",
      "  [24 80]]]\n",
      "______________________________\n",
      "[[[94 74]\n",
      "  [16 13]]\n",
      "\n",
      " [[70 99]\n",
      "  [28 14]]\n",
      "\n",
      " [[ 5 85]\n",
      "  [10 94]]]\n",
      "______________________________\n"
     ]
    }
   ],
   "source": [
    "for i in arr4d:\n",
    "    print(i)\n",
    "    print('_'*30)"
   ]
  },
  {
   "cell_type": "code",
   "execution_count": null,
   "id": "43991e96-e2ad-4a40-9f52-5ac6e152a827",
   "metadata": {},
   "outputs": [],
   "source": []
  }
 ],
 "metadata": {
  "kernelspec": {
   "display_name": "Python 3 (ipykernel)",
   "language": "python",
   "name": "python3"
  },
  "language_info": {
   "codemirror_mode": {
    "name": "ipython",
    "version": 3
   },
   "file_extension": ".py",
   "mimetype": "text/x-python",
   "name": "python",
   "nbconvert_exporter": "python",
   "pygments_lexer": "ipython3",
   "version": "3.13.1"
  }
 },
 "nbformat": 4,
 "nbformat_minor": 5
}
