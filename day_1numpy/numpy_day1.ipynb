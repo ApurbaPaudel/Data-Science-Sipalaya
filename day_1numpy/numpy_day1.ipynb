{
 "cells": [
  {
   "cell_type": "markdown",
   "id": "462453af-7c9f-4134-8451-1b024adde9a5",
   "metadata": {},
   "source": [
    "# Addition program in python"
   ]
  },
  {
   "cell_type": "markdown",
   "id": "dfb10995-9b3d-48b9-b86a-e14ba8803ede",
   "metadata": {},
   "source": [
    "### This is Sub heading"
   ]
  },
  {
   "cell_type": "code",
   "execution_count": null,
   "id": "0a12c1b2-1960-4666-adca-1f4bcfaf0108",
   "metadata": {},
   "outputs": [],
   "source": [
    "#shift Enter= To execute the code\n",
    "#esc+ m=to make the headings\n",
    "#Double click d to delete the cells\n",
    "#B to add new cells below\n",
    "#A to add the cells on the above from the current cell\n",
    "#restart the kernel=kernel>restart and run all cells"
   ]
  },
  {
   "cell_type": "code",
   "execution_count": 1,
   "id": "9d0c17b0-e599-4e17-9ea7-ee47948cd0e3",
   "metadata": {},
   "outputs": [
    {
     "name": "stdin",
     "output_type": "stream",
     "text": [
      "Enter the number 1 2\n",
      "Enter the number 2 3\n"
     ]
    },
    {
     "name": "stdout",
     "output_type": "stream",
     "text": [
      "5\n"
     ]
    }
   ],
   "source": [
    "num1=int(input('Enter the number 1'))\n",
    "num2=int(input('Enter the number 2'))\n",
    "print(num1+num2)"
   ]
  },
  {
   "cell_type": "code",
   "execution_count": 2,
   "id": "c67d003e-c6f8-4536-aa3e-f1a0391614be",
   "metadata": {},
   "outputs": [
    {
     "data": {
      "text/plain": [
       "3"
      ]
     },
     "execution_count": 2,
     "metadata": {},
     "output_type": "execute_result"
    }
   ],
   "source": [
    "num1\n",
    "num2 #last cell matra display hunxa"
   ]
  },
  {
   "cell_type": "code",
   "execution_count": 3,
   "id": "08c11fa6-6815-4469-84ce-7c64abc4563d",
   "metadata": {},
   "outputs": [
    {
     "name": "stdout",
     "output_type": "stream",
     "text": [
      "2\n"
     ]
    },
    {
     "data": {
      "text/plain": [
       "3"
      ]
     },
     "execution_count": 3,
     "metadata": {},
     "output_type": "execute_result"
    }
   ],
   "source": [
    "print(num1)\n",
    "num2 #esto garda chai duitai dekhinxa"
   ]
  },
  {
   "cell_type": "markdown",
   "id": "57da0ea4-5280-44ee-a85c-ec309ff32d71",
   "metadata": {},
   "source": [
    "# Numpy Fundamentals"
   ]
  },
  {
   "cell_type": "raw",
   "id": "2fd2af5a-9e6a-4fdf-9f3a-8bee21533a3f",
   "metadata": {},
   "source": [
    "#Numpy is the fundamental package for scientific computing in python.\n",
    "#Numpy is a multi dimensional homogenous(all elements are of sam type) array object in python\n",
    "#Numpy provides efficient storage and operations for large datasets enabling faster computation compared to standard python lists."
   ]
  },
  {
   "cell_type": "code",
   "execution_count": 16,
   "id": "3bc5cd84-0055-42a8-a915-b23bc3748c99",
   "metadata": {},
   "outputs": [
    {
     "data": {
      "text/plain": [
       "list"
      ]
     },
     "execution_count": 16,
     "metadata": {},
     "output_type": "execute_result"
    }
   ],
   "source": [
    "l1=[10,20,30,40,50]\n",
    "type(l1)\n"
   ]
  },
  {
   "cell_type": "code",
   "execution_count": 17,
   "id": "3cdfb67d-a7c6-4685-b3db-62605bdc665d",
   "metadata": {},
   "outputs": [
    {
     "name": "stdout",
     "output_type": "stream",
     "text": [
      "Defaulting to user installation because normal site-packages is not writeable\n",
      "Requirement already satisfied: numpy in c:\\users\\dell\\appdata\\roaming\\python\\python313\\site-packages (2.2.3)\n"
     ]
    }
   ],
   "source": [
    "!pip install numpy"
   ]
  },
  {
   "cell_type": "code",
   "execution_count": 18,
   "id": "77b1c158-b48b-4be5-bf4e-517dd7d8de13",
   "metadata": {},
   "outputs": [],
   "source": [
    "import numpy as np"
   ]
  },
  {
   "cell_type": "code",
   "execution_count": 20,
   "id": "33576c5c-6e6b-4fee-843a-9c08c35af5ab",
   "metadata": {},
   "outputs": [
    {
     "data": {
      "text/plain": [
       "array([10, 20, 30, 40, 50])"
      ]
     },
     "execution_count": 20,
     "metadata": {},
     "output_type": "execute_result"
    }
   ],
   "source": [
    "arr=np.array(l1) #list to array convert\n",
    "arr"
   ]
  },
  {
   "cell_type": "code",
   "execution_count": null,
   "id": "bb267fb8-68f0-45fa-a867-2e77b65d4961",
   "metadata": {},
   "outputs": [],
   "source": [
    "#1d array= vector\n",
    "#2d array= matrix\n",
    "#3 or more=tensor"
   ]
  },
  {
   "cell_type": "code",
   "execution_count": 22,
   "id": "8e3bd3f2-7e30-4d74-b360-226077a9393d",
   "metadata": {},
   "outputs": [
    {
     "data": {
      "text/plain": [
       "20"
      ]
     },
     "execution_count": 22,
     "metadata": {},
     "output_type": "execute_result"
    }
   ],
   "source": [
    "l2=[[10,20,21,22],[10,20,32,34],[34,56,32,12],[23,67,43,23]]\n",
    "l2[1][1]"
   ]
  },
  {
   "cell_type": "code",
   "execution_count": 23,
   "id": "b6c0b156-4b8c-4dc8-8d67-c934d3307d8e",
   "metadata": {},
   "outputs": [
    {
     "data": {
      "text/plain": [
       "array([[10, 20, 21, 22],\n",
       "       [10, 20, 32, 34],\n",
       "       [34, 56, 32, 12],\n",
       "       [23, 67, 43, 23]])"
      ]
     },
     "execution_count": 23,
     "metadata": {},
     "output_type": "execute_result"
    }
   ],
   "source": [
    "arr2d=np.array(l2)\n",
    "arr2d"
   ]
  },
  {
   "cell_type": "markdown",
   "id": "b1ad3f33-4e3b-43dd-9f01-032ce707ff33",
   "metadata": {},
   "source": [
    "# arrays attributes"
   ]
  },
  {
   "cell_type": "code",
   "execution_count": 24,
   "id": "b64c22c1-82aa-4341-bfa5-7b4ba350bc78",
   "metadata": {},
   "outputs": [
    {
     "data": {
      "text/plain": [
       "array([10, 20, 30, 40, 50])"
      ]
     },
     "execution_count": 24,
     "metadata": {},
     "output_type": "execute_result"
    }
   ],
   "source": [
    "#size,shape,ndim\n",
    "arr"
   ]
  },
  {
   "cell_type": "code",
   "execution_count": 25,
   "id": "c2e0108f-cbe6-42a5-994e-c382f77c3f7b",
   "metadata": {},
   "outputs": [
    {
     "data": {
      "text/plain": [
       "(5,)"
      ]
     },
     "execution_count": 25,
     "metadata": {},
     "output_type": "execute_result"
    }
   ],
   "source": [
    "arr.shape #1d "
   ]
  },
  {
   "cell_type": "code",
   "execution_count": 26,
   "id": "80adee63-3f68-4a51-87ad-09d924394e49",
   "metadata": {},
   "outputs": [
    {
     "data": {
      "text/plain": [
       "(4, 4)"
      ]
     },
     "execution_count": 26,
     "metadata": {},
     "output_type": "execute_result"
    }
   ],
   "source": [
    "arr2d.shape  #2d"
   ]
  },
  {
   "cell_type": "code",
   "execution_count": 27,
   "id": "55ca9607-6ea7-47dc-ae2e-58b03fafdfdb",
   "metadata": {},
   "outputs": [
    {
     "data": {
      "text/plain": [
       "5"
      ]
     },
     "execution_count": 27,
     "metadata": {},
     "output_type": "execute_result"
    }
   ],
   "source": [
    "arr.size #no of elements"
   ]
  },
  {
   "cell_type": "code",
   "execution_count": 28,
   "id": "00296118-2bed-4c4f-8fc8-df2a4ae48e58",
   "metadata": {},
   "outputs": [
    {
     "data": {
      "text/plain": [
       "4"
      ]
     },
     "execution_count": 28,
     "metadata": {},
     "output_type": "execute_result"
    }
   ],
   "source": [
    "len(arr2d)"
   ]
  },
  {
   "cell_type": "code",
   "execution_count": 29,
   "id": "cf8404d4-c27c-41bd-97ac-33140b5fc38a",
   "metadata": {},
   "outputs": [
    {
     "data": {
      "text/plain": [
       "array([10, 20, 30, 40, 50])"
      ]
     },
     "execution_count": 29,
     "metadata": {},
     "output_type": "execute_result"
    }
   ],
   "source": [
    "arr"
   ]
  },
  {
   "cell_type": "code",
   "execution_count": 30,
   "id": "9baeaf40-a19a-40ac-b012-7d99bcab09e3",
   "metadata": {},
   "outputs": [
    {
     "data": {
      "text/plain": [
       "1"
      ]
     },
     "execution_count": 30,
     "metadata": {},
     "output_type": "execute_result"
    }
   ],
   "source": [
    "arr.ndim"
   ]
  },
  {
   "cell_type": "code",
   "execution_count": null,
   "id": "53d94b09-00b8-4a14-8798-85d758ce7701",
   "metadata": {},
   "outputs": [],
   "source": []
  }
 ],
 "metadata": {
  "kernelspec": {
   "display_name": "Python 3 (ipykernel)",
   "language": "python",
   "name": "python3"
  },
  "language_info": {
   "codemirror_mode": {
    "name": "ipython",
    "version": 3
   },
   "file_extension": ".py",
   "mimetype": "text/x-python",
   "name": "python",
   "nbconvert_exporter": "python",
   "pygments_lexer": "ipython3",
   "version": "3.13.1"
  }
 },
 "nbformat": 4,
 "nbformat_minor": 5
}
