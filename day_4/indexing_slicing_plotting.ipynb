{
 "cells": [
  {
   "cell_type": "code",
   "execution_count": 1,
   "id": "5d84a421-8718-4864-b66c-77cfa375027c",
   "metadata": {},
   "outputs": [],
   "source": [
    "import numpy as np"
   ]
  },
  {
   "cell_type": "code",
   "execution_count": 3,
   "id": "ba4bf534-0d4a-4f9c-84ed-989a6bba28b8",
   "metadata": {},
   "outputs": [
    {
     "data": {
      "text/plain": [
       "array([ 10,  20,  30,  40,  50,  60,  70,  80,  90, 100])"
      ]
     },
     "execution_count": 3,
     "metadata": {},
     "output_type": "execute_result"
    }
   ],
   "source": [
    "#list-->[10,20,30,40,50]\n",
    "arr1=np.array([10,20,30,40,50,60,70,80,90,100])\n",
    "arr1"
   ]
  },
  {
   "cell_type": "markdown",
   "id": "563ef00a-aa03-4206-a4ae-e35c07e16826",
   "metadata": {},
   "source": [
    "# indexings"
   ]
  },
  {
   "cell_type": "code",
   "execution_count": 5,
   "id": "65d287de-8ec3-4ff7-89b5-91603ecde2a1",
   "metadata": {},
   "outputs": [
    {
     "data": {
      "text/plain": [
       "10"
      ]
     },
     "execution_count": 5,
     "metadata": {},
     "output_type": "execute_result"
    }
   ],
   "source": [
    "int(arr1[0])"
   ]
  },
  {
   "cell_type": "code",
   "execution_count": 6,
   "id": "40ecdd3e-2bf8-4201-888c-973d1012a332",
   "metadata": {},
   "outputs": [
    {
     "data": {
      "text/plain": [
       "array([ 30,  40,  50,  60,  70,  80,  90, 100])"
      ]
     },
     "execution_count": 6,
     "metadata": {},
     "output_type": "execute_result"
    }
   ],
   "source": [
    "arr1[2:] #2 index bata paxadi all \n",
    "#array[starting,ending,stepsize]"
   ]
  },
  {
   "cell_type": "code",
   "execution_count": 7,
   "id": "6f8fad89-18a8-4dbc-8f54-a4eb4f8093a7",
   "metadata": {},
   "outputs": [
    {
     "data": {
      "text/plain": [
       "array([30, 40, 50, 60, 70])"
      ]
     },
     "execution_count": 7,
     "metadata": {},
     "output_type": "execute_result"
    }
   ],
   "source": [
    "arr1[2:7]"
   ]
  },
  {
   "cell_type": "code",
   "execution_count": 8,
   "id": "6a1ef8b4-3277-4150-9608-8b64624a7428",
   "metadata": {},
   "outputs": [
    {
     "data": {
      "text/plain": [
       "array([ 10,  20,  30,  40,  50,  60,  70,  80,  90, 100])"
      ]
     },
     "execution_count": 8,
     "metadata": {},
     "output_type": "execute_result"
    }
   ],
   "source": [
    "arr1"
   ]
  },
  {
   "cell_type": "code",
   "execution_count": 9,
   "id": "702cefed-bb34-48ba-bdc8-304702bae3f8",
   "metadata": {},
   "outputs": [
    {
     "data": {
      "text/plain": [
       "array([10, 30, 50, 70, 90])"
      ]
     },
     "execution_count": 9,
     "metadata": {},
     "output_type": "execute_result"
    }
   ],
   "source": [
    "arr1[::2] "
   ]
  },
  {
   "cell_type": "code",
   "execution_count": 10,
   "id": "f8a51354-e5f4-4691-b39f-20fa3d883931",
   "metadata": {},
   "outputs": [
    {
     "data": {
      "text/plain": [
       "array([100,  90,  80,  70,  60,  50,  40,  30,  20,  10])"
      ]
     },
     "execution_count": 10,
     "metadata": {},
     "output_type": "execute_result"
    }
   ],
   "source": [
    "arr1[::-1] #reversing"
   ]
  },
  {
   "cell_type": "markdown",
   "id": "7014e5fa-5383-479e-af05-141252e7e24f",
   "metadata": {},
   "source": [
    "# 2D indexing and slicing"
   ]
  },
  {
   "cell_type": "code",
   "execution_count": 11,
   "id": "8955f53e-528c-4e04-840f-e64b9c56ceb4",
   "metadata": {},
   "outputs": [
    {
     "data": {
      "text/plain": [
       "array([[32, 39, 63, 11, 81],\n",
       "       [13, 79, 77, 33, 83],\n",
       "       [59, 98,  1, 50, 40],\n",
       "       [63, 51,  4, 23, 50]], dtype=int32)"
      ]
     },
     "execution_count": 11,
     "metadata": {},
     "output_type": "execute_result"
    }
   ],
   "source": [
    "arr2d=np.random.randint(1,100,size=(4,5))\n",
    "arr2d"
   ]
  },
  {
   "cell_type": "code",
   "execution_count": 12,
   "id": "ba77ed1f-5212-45ad-bedd-8d4319e526b4",
   "metadata": {},
   "outputs": [
    {
     "data": {
      "text/plain": [
       "array([59, 98,  1, 50, 40], dtype=int32)"
      ]
     },
     "execution_count": 12,
     "metadata": {},
     "output_type": "execute_result"
    }
   ],
   "source": [
    "#accessing 1 from it example\n",
    "arr2d[2]"
   ]
  },
  {
   "cell_type": "code",
   "execution_count": 14,
   "id": "40ac9df2-c6a4-422d-9d9c-d321e6b08bec",
   "metadata": {},
   "outputs": [
    {
     "data": {
      "text/plain": [
       "1"
      ]
     },
     "execution_count": 14,
     "metadata": {},
     "output_type": "execute_result"
    }
   ],
   "source": [
    "int(arr2d[2][2]) #row indexing,normal indexing"
   ]
  },
  {
   "cell_type": "code",
   "execution_count": 15,
   "id": "594a2a54-9f70-4642-9887-4e86303f27d8",
   "metadata": {},
   "outputs": [
    {
     "data": {
      "text/plain": [
       "array([[32, 39, 63, 11, 81],\n",
       "       [13, 79, 77, 33, 83]], dtype=int32)"
      ]
     },
     "execution_count": 15,
     "metadata": {},
     "output_type": "execute_result"
    }
   ],
   "source": [
    "arr2d[0:2]"
   ]
  },
  {
   "cell_type": "code",
   "execution_count": 16,
   "id": "c284dd97-6e9b-49a7-b902-65a0296ba31f",
   "metadata": {},
   "outputs": [
    {
     "data": {
      "text/plain": [
       "array([[39, 63, 11],\n",
       "       [79, 77, 33]], dtype=int32)"
      ]
     },
     "execution_count": 16,
     "metadata": {},
     "output_type": "execute_result"
    }
   ],
   "source": [
    "arr2d[0:2,1:4] #array[row,column]"
   ]
  },
  {
   "cell_type": "code",
   "execution_count": 17,
   "id": "7384dc65-bd93-4237-9ddc-b9f2975a3617",
   "metadata": {},
   "outputs": [
    {
     "data": {
      "text/plain": [
       "array([[32, 39, 63, 11, 81],\n",
       "       [63, 51,  4, 23, 50]], dtype=int32)"
      ]
     },
     "execution_count": 17,
     "metadata": {},
     "output_type": "execute_result"
    }
   ],
   "source": [
    "arr2d[::3,]"
   ]
  },
  {
   "cell_type": "code",
   "execution_count": 18,
   "id": "04de7196-6af2-4dc5-a539-2086a5be490f",
   "metadata": {},
   "outputs": [
    {
     "data": {
      "text/plain": [
       "array([[32, 81],\n",
       "       [63, 50]], dtype=int32)"
      ]
     },
     "execution_count": 18,
     "metadata": {},
     "output_type": "execute_result"
    }
   ],
   "source": [
    "arr2d[::3,::4]"
   ]
  },
  {
   "cell_type": "markdown",
   "id": "45476a84-e7e7-4008-b1e9-7c7e1639b9a0",
   "metadata": {},
   "source": [
    "# Fancy Indexings"
   ]
  },
  {
   "cell_type": "code",
   "execution_count": 19,
   "id": "7989c735-389c-4fd5-83f5-919b56575b3e",
   "metadata": {},
   "outputs": [
    {
     "data": {
      "text/plain": [
       "array([[32, 39, 63, 11, 81],\n",
       "       [13, 79, 77, 33, 83],\n",
       "       [59, 98,  1, 50, 40],\n",
       "       [63, 51,  4, 23, 50]], dtype=int32)"
      ]
     },
     "execution_count": 19,
     "metadata": {},
     "output_type": "execute_result"
    }
   ],
   "source": [
    "arr2d"
   ]
  },
  {
   "cell_type": "code",
   "execution_count": 20,
   "id": "db6da9af-2d13-4896-b506-540240bd22ad",
   "metadata": {},
   "outputs": [
    {
     "data": {
      "text/plain": [
       "array([[32, 39, 63, 11, 81],\n",
       "       [59, 98,  1, 50, 40],\n",
       "       [63, 51,  4, 23, 50]], dtype=int32)"
      ]
     },
     "execution_count": 20,
     "metadata": {},
     "output_type": "execute_result"
    }
   ],
   "source": [
    "#first, third and last row\n",
    "arr2d[[0,2,3]]"
   ]
  },
  {
   "cell_type": "code",
   "execution_count": 21,
   "id": "a16dc146-16ff-46cd-bf92-b84225846a14",
   "metadata": {},
   "outputs": [
    {
     "data": {
      "text/plain": [
       "array([[32, 39, 63, 11, 81],\n",
       "       [59, 98,  1, 50, 40],\n",
       "       [13, 79, 77, 33, 83],\n",
       "       [63, 51,  4, 23, 50]], dtype=int32)"
      ]
     },
     "execution_count": 21,
     "metadata": {},
     "output_type": "execute_result"
    }
   ],
   "source": [
    "arr2d[[0,2,1,3]] #random position"
   ]
  },
  {
   "cell_type": "markdown",
   "id": "67f3e0b1-1dae-4399-9a91-bbfb903ac819",
   "metadata": {},
   "source": [
    "# indexing and slicing in 3D"
   ]
  },
  {
   "cell_type": "code",
   "execution_count": 22,
   "id": "e85191d3-fa61-4352-85a1-8632c63eb628",
   "metadata": {},
   "outputs": [],
   "source": [
    "arr3d=np.random.randint(1,100,size=(3,3,4))"
   ]
  },
  {
   "cell_type": "code",
   "execution_count": 23,
   "id": "5b0389fa-4c48-43e2-81ba-ff6b9d7f2350",
   "metadata": {},
   "outputs": [
    {
     "data": {
      "text/plain": [
       "array([[[65, 76, 32,  5],\n",
       "        [97, 60, 68, 42],\n",
       "        [10, 56, 21, 70]],\n",
       "\n",
       "       [[96, 81, 94, 80],\n",
       "        [13, 37, 94, 21],\n",
       "        [87, 39, 36, 49]],\n",
       "\n",
       "       [[82, 50, 66, 35],\n",
       "        [62, 43, 26, 76],\n",
       "        [52, 95, 18, 72]]], dtype=int32)"
      ]
     },
     "execution_count": 23,
     "metadata": {},
     "output_type": "execute_result"
    }
   ],
   "source": [
    "arr3d"
   ]
  },
  {
   "cell_type": "code",
   "execution_count": 24,
   "id": "debe8556-f071-412e-b7ab-09718904df40",
   "metadata": {},
   "outputs": [
    {
     "data": {
      "text/plain": [
       "array([[65, 76, 32,  5],\n",
       "       [97, 60, 68, 42],\n",
       "       [10, 56, 21, 70]], dtype=int32)"
      ]
     },
     "execution_count": 24,
     "metadata": {},
     "output_type": "execute_result"
    }
   ],
   "source": [
    "#extracting first\n",
    "arr3d[0]"
   ]
  },
  {
   "cell_type": "code",
   "execution_count": 25,
   "id": "e11e93f7-11dd-4522-9354-396a05c9bfeb",
   "metadata": {},
   "outputs": [
    {
     "data": {
      "text/plain": [
       "array([62, 43, 26, 76], dtype=int32)"
      ]
     },
     "execution_count": 25,
     "metadata": {},
     "output_type": "execute_result"
    }
   ],
   "source": [
    "arr3d[2][1]"
   ]
  },
  {
   "cell_type": "code",
   "execution_count": 27,
   "id": "8297028f-0970-45f2-9633-f12dda743536",
   "metadata": {},
   "outputs": [
    {
     "data": {
      "text/plain": [
       "np.int32(26)"
      ]
     },
     "execution_count": 27,
     "metadata": {},
     "output_type": "execute_result"
    }
   ],
   "source": [
    "arr3d[2][1][2]"
   ]
  },
  {
   "cell_type": "code",
   "execution_count": 28,
   "id": "ee3a605e-7449-43d8-b668-0dd810a9c136",
   "metadata": {},
   "outputs": [
    {
     "name": "stdout",
     "output_type": "stream",
     "text": [
      "[[65 76 32  5]\n",
      " [97 60 68 42]\n",
      " [10 56 21 70]]\n",
      "********************************************************************************\n",
      "[[96 81 94 80]\n",
      " [13 37 94 21]\n",
      " [87 39 36 49]]\n",
      "********************************************************************************\n",
      "[[82 50 66 35]\n",
      " [62 43 26 76]\n",
      " [52 95 18 72]]\n",
      "********************************************************************************\n"
     ]
    }
   ],
   "source": [
    "#sabai bata corner element\n",
    "for i in arr3d:\n",
    "    print(i)\n",
    "    print('*'*80)"
   ]
  },
  {
   "cell_type": "code",
   "execution_count": 29,
   "id": "a4bfde20-4dd2-44fb-aa89-570a40908f18",
   "metadata": {},
   "outputs": [
    {
     "name": "stdout",
     "output_type": "stream",
     "text": [
      "[[65  5]\n",
      " [10 70]]\n",
      "********************************************************************************\n",
      "[[96 80]\n",
      " [87 49]]\n",
      "********************************************************************************\n",
      "[[82 35]\n",
      " [52 72]]\n",
      "********************************************************************************\n"
     ]
    }
   ],
   "source": [
    "for i in arr3d:\n",
    "    print(i[::2,::3])\n",
    "    print('*'*80)"
   ]
  },
  {
   "cell_type": "code",
   "execution_count": 31,
   "id": "ecce3c53-78a4-415a-a5a8-54bcd5ec3d65",
   "metadata": {},
   "outputs": [
    {
     "name": "stdout",
     "output_type": "stream",
     "text": [
      "Defaulting to user installation because normal site-packages is not writeable\n",
      "Collecting pillow\n",
      "  Downloading pillow-11.1.0-cp313-cp313-win_amd64.whl.metadata (9.3 kB)\n",
      "Downloading pillow-11.1.0-cp313-cp313-win_amd64.whl (2.6 MB)\n",
      "   ---------------------------------------- 0.0/2.6 MB ? eta -:--:--\n",
      "   ------- -------------------------------- 0.5/2.6 MB 5.4 MB/s eta 0:00:01\n",
      "   --------------------------- ------------ 1.8/2.6 MB 5.2 MB/s eta 0:00:01\n",
      "   ------------------------------- -------- 2.1/2.6 MB 3.8 MB/s eta 0:00:01\n",
      "   ---------------------------------------- 2.6/2.6 MB 3.5 MB/s eta 0:00:00\n",
      "Installing collected packages: pillow\n",
      "Successfully installed pillow-11.1.0\n"
     ]
    }
   ],
   "source": [
    "!pip install pillow"
   ]
  },
  {
   "cell_type": "code",
   "execution_count": 33,
   "id": "9eb09f96-d1f9-4a54-9e09-f9f6e4636292",
   "metadata": {},
   "outputs": [
    {
     "data": {
      "text/plain": [
       "array([[[0, 0, 0],\n",
       "        [0, 0, 0],\n",
       "        [0, 0, 0],\n",
       "        ...,\n",
       "        [0, 0, 0],\n",
       "        [0, 0, 0],\n",
       "        [0, 0, 0]],\n",
       "\n",
       "       [[0, 0, 0],\n",
       "        [0, 0, 0],\n",
       "        [0, 0, 0],\n",
       "        ...,\n",
       "        [0, 0, 0],\n",
       "        [0, 0, 0],\n",
       "        [0, 0, 0]],\n",
       "\n",
       "       [[0, 0, 0],\n",
       "        [0, 0, 0],\n",
       "        [0, 0, 0],\n",
       "        ...,\n",
       "        [0, 0, 0],\n",
       "        [0, 0, 0],\n",
       "        [0, 0, 0]],\n",
       "\n",
       "       ...,\n",
       "\n",
       "       [[0, 0, 0],\n",
       "        [0, 0, 0],\n",
       "        [0, 0, 0],\n",
       "        ...,\n",
       "        [0, 0, 0],\n",
       "        [0, 0, 0],\n",
       "        [0, 0, 0]],\n",
       "\n",
       "       [[0, 0, 0],\n",
       "        [0, 0, 0],\n",
       "        [0, 0, 0],\n",
       "        ...,\n",
       "        [0, 0, 0],\n",
       "        [0, 0, 0],\n",
       "        [0, 0, 0]],\n",
       "\n",
       "       [[0, 0, 0],\n",
       "        [0, 0, 0],\n",
       "        [0, 0, 0],\n",
       "        ...,\n",
       "        [0, 0, 0],\n",
       "        [0, 0, 0],\n",
       "        [0, 0, 0]]], shape=(231, 350, 3), dtype=uint8)"
      ]
     },
     "execution_count": 33,
     "metadata": {},
     "output_type": "execute_result"
    }
   ],
   "source": [
    "from PIL import Image\n",
    "image=Image.open(r\"C:\\Users\\DELL\\Desktop\\Sipalaya Data Science\\brain.png\")\n",
    "image_array=np.array(image)\n",
    "image_array\n"
   ]
  },
  {
   "cell_type": "code",
   "execution_count": 34,
   "id": "a82f266f-7076-4d2b-8dd3-5978b5fa441c",
   "metadata": {},
   "outputs": [
    {
     "data": {
      "text/plain": [
       "3"
      ]
     },
     "execution_count": 34,
     "metadata": {},
     "output_type": "execute_result"
    }
   ],
   "source": [
    "image_array.ndim"
   ]
  },
  {
   "cell_type": "code",
   "execution_count": 36,
   "id": "ba8e14da-5377-4107-b941-2cdba6dc7352",
   "metadata": {},
   "outputs": [],
   "source": [
    "import numpy as np\n",
    "from PIL import Image\n",
    "image=Image.open(r\"C:\\Users\\DELL\\Desktop\\Sipalaya Data Science\\brain.png\")\n",
    "image_array=np.array(image)\n",
    "#Apply grayscale conversion formula\n",
    "gray_image_array=0.2989*image_array[:,:,0]+0.5870*image_array[:,:,1]+0.1140*image_array[:,:,2]\n",
    "gray_image_array=gray_image_array.astype(np.uint8)\n",
    "#Create an imahe from the grayscale array\n",
    "gray_image=Image.fromarray(gray_image_array)\n",
    "#save or display\n",
    "gray_image.save('grayscale_image.jpg')\n",
    "gray_image.show()\n"
   ]
  },
  {
   "cell_type": "code",
   "execution_count": 37,
   "id": "d5ea1bf7-590a-4bb0-a22d-0e53905b9f22",
   "metadata": {},
   "outputs": [
    {
     "name": "stdout",
     "output_type": "stream",
     "text": [
      "Defaulting to user installation because normal site-packages is not writeable\n",
      "Collecting matplotlib\n",
      "  Downloading matplotlib-3.10.0-cp313-cp313-win_amd64.whl.metadata (11 kB)\n",
      "Collecting contourpy>=1.0.1 (from matplotlib)\n",
      "  Downloading contourpy-1.3.1-cp313-cp313-win_amd64.whl.metadata (5.4 kB)\n",
      "Collecting cycler>=0.10 (from matplotlib)\n",
      "  Downloading cycler-0.12.1-py3-none-any.whl.metadata (3.8 kB)\n",
      "Collecting fonttools>=4.22.0 (from matplotlib)\n",
      "  Downloading fonttools-4.56.0-cp313-cp313-win_amd64.whl.metadata (103 kB)\n",
      "Collecting kiwisolver>=1.3.1 (from matplotlib)\n",
      "  Downloading kiwisolver-1.4.8-cp313-cp313-win_amd64.whl.metadata (6.3 kB)\n",
      "Requirement already satisfied: numpy>=1.23 in c:\\users\\dell\\appdata\\roaming\\python\\python313\\site-packages (from matplotlib) (2.2.3)\n",
      "Requirement already satisfied: packaging>=20.0 in c:\\users\\dell\\appdata\\roaming\\python\\python313\\site-packages (from matplotlib) (24.2)\n",
      "Requirement already satisfied: pillow>=8 in c:\\users\\dell\\appdata\\roaming\\python\\python313\\site-packages (from matplotlib) (11.1.0)\n",
      "Collecting pyparsing>=2.3.1 (from matplotlib)\n",
      "  Downloading pyparsing-3.2.1-py3-none-any.whl.metadata (5.0 kB)\n",
      "Requirement already satisfied: python-dateutil>=2.7 in c:\\users\\dell\\appdata\\roaming\\python\\python313\\site-packages (from matplotlib) (2.9.0.post0)\n",
      "Requirement already satisfied: six>=1.5 in c:\\users\\dell\\appdata\\roaming\\python\\python313\\site-packages (from python-dateutil>=2.7->matplotlib) (1.17.0)\n",
      "Downloading matplotlib-3.10.0-cp313-cp313-win_amd64.whl (8.0 MB)\n",
      "   ---------------------------------------- 0.0/8.0 MB ? eta -:--:--\n",
      "   -- ------------------------------------- 0.5/8.0 MB 5.8 MB/s eta 0:00:02\n",
      "   ------ --------------------------------- 1.3/8.0 MB 3.1 MB/s eta 0:00:03\n",
      "   ----------- ---------------------------- 2.4/8.0 MB 3.8 MB/s eta 0:00:02\n",
      "   ------------------ --------------------- 3.7/8.0 MB 4.4 MB/s eta 0:00:01\n",
      "   ----------------------- ---------------- 4.7/8.0 MB 4.6 MB/s eta 0:00:01\n",
      "   ------------------------------ --------- 6.0/8.0 MB 4.9 MB/s eta 0:00:01\n",
      "   ------------------------------------ --- 7.3/8.0 MB 5.1 MB/s eta 0:00:01\n",
      "   ---------------------------------------  7.9/8.0 MB 5.2 MB/s eta 0:00:01\n",
      "   ---------------------------------------- 8.0/8.0 MB 4.6 MB/s eta 0:00:00\n",
      "Downloading contourpy-1.3.1-cp313-cp313-win_amd64.whl (220 kB)\n",
      "Downloading cycler-0.12.1-py3-none-any.whl (8.3 kB)\n",
      "Downloading fonttools-4.56.0-cp313-cp313-win_amd64.whl (2.2 MB)\n",
      "   ---------------------------------------- 0.0/2.2 MB ? eta -:--:--\n",
      "   ------------------- -------------------- 1.0/2.2 MB 5.6 MB/s eta 0:00:01\n",
      "   -------------------------------------- - 2.1/2.2 MB 5.4 MB/s eta 0:00:01\n",
      "   ---------------------------------------- 2.2/2.2 MB 4.1 MB/s eta 0:00:00\n",
      "Downloading kiwisolver-1.4.8-cp313-cp313-win_amd64.whl (71 kB)\n",
      "Downloading pyparsing-3.2.1-py3-none-any.whl (107 kB)\n",
      "Installing collected packages: pyparsing, kiwisolver, fonttools, cycler, contourpy, matplotlib\n",
      "Successfully installed contourpy-1.3.1 cycler-0.12.1 fonttools-4.56.0 kiwisolver-1.4.8 matplotlib-3.10.0 pyparsing-3.2.1\n"
     ]
    },
    {
     "name": "stderr",
     "output_type": "stream",
     "text": [
      "  WARNING: The scripts fonttools.exe, pyftmerge.exe, pyftsubset.exe and ttx.exe are installed in 'C:\\Users\\DELL\\AppData\\Roaming\\Python\\Python313\\Scripts' which is not on PATH.\n",
      "  Consider adding this directory to PATH or, if you prefer to suppress this warning, use --no-warn-script-location.\n"
     ]
    }
   ],
   "source": [
    "!pip install matplotlib"
   ]
  },
  {
   "cell_type": "code",
   "execution_count": 39,
   "id": "53c7894b-8241-49ab-9dd6-e14226d24994",
   "metadata": {},
   "outputs": [
    {
     "data": {
      "text/plain": [
       "array([  1,  25,  50,  75, 100])"
      ]
     },
     "execution_count": 39,
     "metadata": {},
     "output_type": "execute_result"
    }
   ],
   "source": [
    "np.linspace(1,100,5,dtype=int)\n",
    "#starting point, ending point, num of points, include hunxa"
   ]
  },
  {
   "cell_type": "code",
   "execution_count": 41,
   "id": "1d5ad0d1-8bee-4f2e-b1f7-fda5b81b8831",
   "metadata": {},
   "outputs": [
    {
     "data": {
      "text/plain": [
       "array([-10.        ,  -9.7979798 ,  -9.5959596 ,  -9.39393939,\n",
       "        -9.19191919,  -8.98989899,  -8.78787879,  -8.58585859,\n",
       "        -8.38383838,  -8.18181818,  -7.97979798,  -7.77777778,\n",
       "        -7.57575758,  -7.37373737,  -7.17171717,  -6.96969697,\n",
       "        -6.76767677,  -6.56565657,  -6.36363636,  -6.16161616,\n",
       "        -5.95959596,  -5.75757576,  -5.55555556,  -5.35353535,\n",
       "        -5.15151515,  -4.94949495,  -4.74747475,  -4.54545455,\n",
       "        -4.34343434,  -4.14141414,  -3.93939394,  -3.73737374,\n",
       "        -3.53535354,  -3.33333333,  -3.13131313,  -2.92929293,\n",
       "        -2.72727273,  -2.52525253,  -2.32323232,  -2.12121212,\n",
       "        -1.91919192,  -1.71717172,  -1.51515152,  -1.31313131,\n",
       "        -1.11111111,  -0.90909091,  -0.70707071,  -0.50505051,\n",
       "        -0.3030303 ,  -0.1010101 ,   0.1010101 ,   0.3030303 ,\n",
       "         0.50505051,   0.70707071,   0.90909091,   1.11111111,\n",
       "         1.31313131,   1.51515152,   1.71717172,   1.91919192,\n",
       "         2.12121212,   2.32323232,   2.52525253,   2.72727273,\n",
       "         2.92929293,   3.13131313,   3.33333333,   3.53535354,\n",
       "         3.73737374,   3.93939394,   4.14141414,   4.34343434,\n",
       "         4.54545455,   4.74747475,   4.94949495,   5.15151515,\n",
       "         5.35353535,   5.55555556,   5.75757576,   5.95959596,\n",
       "         6.16161616,   6.36363636,   6.56565657,   6.76767677,\n",
       "         6.96969697,   7.17171717,   7.37373737,   7.57575758,\n",
       "         7.77777778,   7.97979798,   8.18181818,   8.38383838,\n",
       "         8.58585859,   8.78787879,   8.98989899,   9.19191919,\n",
       "         9.39393939,   9.5959596 ,   9.7979798 ,  10.        ])"
      ]
     },
     "execution_count": 41,
     "metadata": {},
     "output_type": "execute_result"
    }
   ],
   "source": [
    "np.linspace(-10,10,100)"
   ]
  },
  {
   "cell_type": "code",
   "execution_count": 42,
   "id": "8da740f0-0721-4db1-95ac-a6af0592c2fe",
   "metadata": {},
   "outputs": [],
   "source": [
    "x=np.linspace(-10,10,100)"
   ]
  },
  {
   "cell_type": "code",
   "execution_count": 43,
   "id": "cef8a51d-fb0c-4600-b02b-00c3303e6a3f",
   "metadata": {},
   "outputs": [
    {
     "data": {
      "text/plain": [
       "array([1.00000000e+02, 9.60004081e+01, 9.20824406e+01, 8.82460973e+01,\n",
       "       8.44913784e+01, 8.08182838e+01, 7.72268136e+01, 7.37169677e+01,\n",
       "       7.02887460e+01, 6.69421488e+01, 6.36771758e+01, 6.04938272e+01,\n",
       "       5.73921028e+01, 5.43720029e+01, 5.14335272e+01, 4.85766758e+01,\n",
       "       4.58014488e+01, 4.31078461e+01, 4.04958678e+01, 3.79655137e+01,\n",
       "       3.55167840e+01, 3.31496786e+01, 3.08641975e+01, 2.86603408e+01,\n",
       "       2.65381084e+01, 2.44975003e+01, 2.25385165e+01, 2.06611570e+01,\n",
       "       1.88654219e+01, 1.71513111e+01, 1.55188246e+01, 1.39679625e+01,\n",
       "       1.24987246e+01, 1.11111111e+01, 9.80512193e+00, 8.58075707e+00,\n",
       "       7.43801653e+00, 6.37690032e+00, 5.39740843e+00, 4.49954086e+00,\n",
       "       3.68329762e+00, 2.94867871e+00, 2.29568411e+00, 1.72431385e+00,\n",
       "       1.23456790e+00, 8.26446281e-01, 4.99948985e-01, 2.55076013e-01,\n",
       "       9.18273646e-02, 1.02030405e-02, 1.02030405e-02, 9.18273646e-02,\n",
       "       2.55076013e-01, 4.99948985e-01, 8.26446281e-01, 1.23456790e+00,\n",
       "       1.72431385e+00, 2.29568411e+00, 2.94867871e+00, 3.68329762e+00,\n",
       "       4.49954086e+00, 5.39740843e+00, 6.37690032e+00, 7.43801653e+00,\n",
       "       8.58075707e+00, 9.80512193e+00, 1.11111111e+01, 1.24987246e+01,\n",
       "       1.39679625e+01, 1.55188246e+01, 1.71513111e+01, 1.88654219e+01,\n",
       "       2.06611570e+01, 2.25385165e+01, 2.44975003e+01, 2.65381084e+01,\n",
       "       2.86603408e+01, 3.08641975e+01, 3.31496786e+01, 3.55167840e+01,\n",
       "       3.79655137e+01, 4.04958678e+01, 4.31078461e+01, 4.58014488e+01,\n",
       "       4.85766758e+01, 5.14335272e+01, 5.43720029e+01, 5.73921028e+01,\n",
       "       6.04938272e+01, 6.36771758e+01, 6.69421488e+01, 7.02887460e+01,\n",
       "       7.37169677e+01, 7.72268136e+01, 8.08182838e+01, 8.44913784e+01,\n",
       "       8.82460973e+01, 9.20824406e+01, 9.60004081e+01, 1.00000000e+02])"
      ]
     },
     "execution_count": 43,
     "metadata": {},
     "output_type": "execute_result"
    }
   ],
   "source": [
    "x**2"
   ]
  },
  {
   "cell_type": "code",
   "execution_count": 44,
   "id": "16fd7e83-b772-409a-a5ee-845ed4e7ada8",
   "metadata": {},
   "outputs": [],
   "source": [
    "y=x**2"
   ]
  },
  {
   "cell_type": "code",
   "execution_count": 45,
   "id": "49c9920f-a77e-4f52-92fb-392ebf9e7af3",
   "metadata": {},
   "outputs": [
    {
     "name": "stderr",
     "output_type": "stream",
     "text": [
      "Matplotlib is building the font cache; this may take a moment.\n"
     ]
    }
   ],
   "source": [
    "import matplotlib.pyplot as plt"
   ]
  },
  {
   "cell_type": "code",
   "execution_count": 46,
   "id": "aea66cea-b2c2-4a5f-9899-74d74d6f9897",
   "metadata": {},
   "outputs": [
    {
     "data": {
      "image/png": "[encoded data removed]",
      "text/plain": [
       "<Figure size 640x480 with 1 Axes>"
      ]
     },
     "metadata": {},
     "output_type": "display_data"
    }
   ],
   "source": [
    "plt.scatter(x,y)\n",
    "plt.show()"
   ]
  },
  {
   "cell_type": "code",
   "execution_count": 48,
   "id": "0c1258a0-c6c3-4242-ab6d-f8639fc7527a",
   "metadata": {},
   "outputs": [
    {
     "data": {
      "image/png": "[encoded data removed]",
      "text/plain": [
       "<Figure size 640x480 with 1 Axes>"
      ]
     },
     "metadata": {},
     "output_type": "display_data"
    }
   ],
   "source": [
    "x=[1,2,3,4,5,6]\n",
    "y=[10,20,30,40,50,60]\n",
    "plt.scatter(x,y)\n",
    "plt.grid()\n"
   ]
  },
  {
   "cell_type": "code",
   "execution_count": 50,
   "id": "159b8ed0-1e07-4a4a-ab08-03691aa7ed04",
   "metadata": {},
   "outputs": [
    {
     "data": {
      "image/png": "[encoded data removed]",
      "text/plain": [
       "<Figure size 640x480 with 1 Axes>"
      ]
     },
     "metadata": {},
     "output_type": "display_data"
    }
   ],
   "source": [
    "x=[1,2,3,4,5,6]\n",
    "y=[10,20,30,40,50,60]\n",
    "plt.plot(x,y,marker='+',markersize=10,color='red')\n",
    "plt.grid()"
   ]
  },
  {
   "cell_type": "code",
   "execution_count": 51,
   "id": "b3f65790-38fc-4d78-b7c3-68bc85ffc3a8",
   "metadata": {},
   "outputs": [
    {
     "data": {
      "text/plain": [
       "array([-10.        ,  -9.59183673,  -9.18367347,  -8.7755102 ,\n",
       "        -8.36734694,  -7.95918367,  -7.55102041,  -7.14285714,\n",
       "        -6.73469388,  -6.32653061,  -5.91836735,  -5.51020408,\n",
       "        -5.10204082,  -4.69387755,  -4.28571429,  -3.87755102,\n",
       "        -3.46938776,  -3.06122449,  -2.65306122,  -2.24489796,\n",
       "        -1.83673469,  -1.42857143,  -1.02040816,  -0.6122449 ,\n",
       "        -0.20408163,   0.20408163,   0.6122449 ,   1.02040816,\n",
       "         1.42857143,   1.83673469,   2.24489796,   2.65306122,\n",
       "         3.06122449,   3.46938776,   3.87755102,   4.28571429,\n",
       "         4.69387755,   5.10204082,   5.51020408,   5.91836735,\n",
       "         6.32653061,   6.73469388,   7.14285714,   7.55102041,\n",
       "         7.95918367,   8.36734694,   8.7755102 ,   9.18367347,\n",
       "         9.59183673,  10.        ])"
      ]
     },
     "execution_count": 51,
     "metadata": {},
     "output_type": "execute_result"
    }
   ],
   "source": [
    "x=np.linspace(-10,10,50)\n",
    "x"
   ]
  },
  {
   "cell_type": "code",
   "execution_count": 52,
   "id": "9e8f01bd-a280-404f-ba74-d6e0d2e517d3",
   "metadata": {},
   "outputs": [
    {
     "data": {
      "text/plain": [
       "array([-1.00000000e+03, -8.82480939e+02, -7.74549720e+02, -6.75798349e+02,\n",
       "       -5.85818834e+02, -5.04203181e+02, -4.30543396e+02, -3.64431487e+02,\n",
       "       -3.05459460e+02, -2.53219322e+02, -2.07303079e+02, -1.67302740e+02,\n",
       "       -1.32810309e+02, -1.03417794e+02, -7.87172012e+01, -5.83005380e+01,\n",
       "       -4.17598110e+01, -2.86870267e+01, -1.86741919e+01, -1.13133133e+01,\n",
       "       -6.19639776e+00, -2.91545190e+00, -1.06248247e+00, -2.29496213e-01,\n",
       "       -8.49985975e-03,  8.49985975e-03,  2.29496213e-01,  1.06248247e+00,\n",
       "        2.91545190e+00,  6.19639776e+00,  1.13133133e+01,  1.86741919e+01,\n",
       "        2.86870267e+01,  4.17598110e+01,  5.83005380e+01,  7.87172012e+01,\n",
       "        1.03417794e+02,  1.32810309e+02,  1.67302740e+02,  2.07303079e+02,\n",
       "        2.53219322e+02,  3.05459460e+02,  3.64431487e+02,  4.30543396e+02,\n",
       "        5.04203181e+02,  5.85818834e+02,  6.75798349e+02,  7.74549720e+02,\n",
       "        8.82480939e+02,  1.00000000e+03])"
      ]
     },
     "execution_count": 52,
     "metadata": {},
     "output_type": "execute_result"
    }
   ],
   "source": [
    "y=x**3\n",
    "y"
   ]
  },
  {
   "cell_type": "code",
   "execution_count": 55,
   "id": "23d09352-edc9-4039-b40f-525862cdc6d2",
   "metadata": {},
   "outputs": [
    {
     "data": {
      "text/plain": [
       "<matplotlib.lines.Line2D at 0x21b18d52ad0>"
      ]
     },
     "execution_count": 55,
     "metadata": {},
     "output_type": "execute_result"
    },
    {
     "data": {
      "image/png": "[encoded data removed]",
      "text/plain": [
       "<Figure size 640x480 with 1 Axes>"
      ]
     },
     "metadata": {},
     "output_type": "display_data"
    }
   ],
   "source": [
    "plt.plot(x,y)\n",
    "plt.axvline(0,color='red') #vertical line\n",
    "plt.axhline(0,color='red') #horizontal line"
   ]
  },
  {
   "cell_type": "code",
   "execution_count": null,
   "id": "87776482-3255-4e66-acf6-5f6cbcb226af",
   "metadata": {},
   "outputs": [],
   "source": []
  }
 ],
 "metadata": {
  "kernelspec": {
   "display_name": "Python 3 (ipykernel)",
   "language": "python",
   "name": "python3"
  },
  "language_info": {
   "codemirror_mode": {
    "name": "ipython",
    "version": 3
   },
   "file_extension": ".py",
   "mimetype": "text/x-python",
   "name": "python",
   "nbconvert_exporter": "python",
   "pygments_lexer": "ipython3",
   "version": "3.13.1"
  }
 },
 "nbformat": 4,
 "nbformat_minor": 5
}
