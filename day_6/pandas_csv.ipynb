{
 "cells": [
  {
   "cell_type": "code",
   "execution_count": 1,
   "id": "468a4580-a289-4df9-9ff9-3cdd3a6eca03",
   "metadata": {},
   "outputs": [],
   "source": [
    "import numpy as np"
   ]
  },
  {
   "cell_type": "code",
   "execution_count": 3,
   "id": "868409b4-6d57-4e5b-9f5d-6f6623600089",
   "metadata": {},
   "outputs": [
    {
     "data": {
      "text/plain": [
       "array([1, 2, 3, 4, 5])"
      ]
     },
     "execution_count": 3,
     "metadata": {},
     "output_type": "execute_result"
    }
   ],
   "source": [
    "a=np.array([1,2,3,4,5])\n",
    "b=np.array([3,4,5,6,7,8])\n",
    "a"
   ]
  },
  {
   "cell_type": "code",
   "execution_count": 4,
   "id": "ce536ab1-a564-4fb2-887e-0aa924c5f535",
   "metadata": {},
   "outputs": [
    {
     "data": {
      "text/plain": [
       "array([3, 4, 5, 6, 7, 8])"
      ]
     },
     "execution_count": 4,
     "metadata": {},
     "output_type": "execute_result"
    }
   ],
   "source": [
    "b"
   ]
  },
  {
   "cell_type": "markdown",
   "id": "bc3921d9-44a7-4811-9a5c-f5b4de8c2cc5",
   "metadata": {},
   "source": [
    "# set operations"
   ]
  },
  {
   "cell_type": "code",
   "execution_count": 5,
   "id": "cb321a1d-155f-45ca-9e0c-4843f5473708",
   "metadata": {},
   "outputs": [
    {
     "data": {
      "text/plain": [
       "array([1, 2, 3, 4, 5, 6, 7, 8])"
      ]
     },
     "execution_count": 5,
     "metadata": {},
     "output_type": "execute_result"
    }
   ],
   "source": [
    "np.union1d(a,b) #union"
   ]
  },
  {
   "cell_type": "code",
   "execution_count": 6,
   "id": "b14fa3f2-8eea-4714-a628-ae869fe2eb98",
   "metadata": {},
   "outputs": [
    {
     "data": {
      "text/plain": [
       "array([3, 4, 5])"
      ]
     },
     "execution_count": 6,
     "metadata": {},
     "output_type": "execute_result"
    }
   ],
   "source": [
    "np.intersect1d(a,b) #intersection"
   ]
  },
  {
   "cell_type": "code",
   "execution_count": 7,
   "id": "f5e76b32-12d6-42d7-a7f7-16221804f716",
   "metadata": {},
   "outputs": [
    {
     "data": {
      "text/plain": [
       "array([1, 2])"
      ]
     },
     "execution_count": 7,
     "metadata": {},
     "output_type": "execute_result"
    }
   ],
   "source": [
    "np.setdiff1d(a,b) #A-B"
   ]
  },
  {
   "cell_type": "code",
   "execution_count": 8,
   "id": "04aec019-5d42-4e81-b2e1-d1509325f32a",
   "metadata": {},
   "outputs": [
    {
     "data": {
      "text/plain": [
       "array([6, 7, 8])"
      ]
     },
     "execution_count": 8,
     "metadata": {},
     "output_type": "execute_result"
    }
   ],
   "source": [
    "np.setdiff1d(b,a) #B-A"
   ]
  },
  {
   "cell_type": "markdown",
   "id": "19600d54-8d0a-46dc-a87f-e893cda4ca6b",
   "metadata": {},
   "source": [
    "# np.clip()"
   ]
  },
  {
   "cell_type": "code",
   "execution_count": 9,
   "id": "9b78f499-49c9-472a-94ff-e14d3259dfa1",
   "metadata": {},
   "outputs": [
    {
     "data": {
      "text/plain": [
       "array([38, 66, 48, 68, 64, 41, 63, 83, 70, 49, 89, 72, 35, 93, 22],\n",
       "      dtype=int32)"
      ]
     },
     "execution_count": 9,
     "metadata": {},
     "output_type": "execute_result"
    }
   ],
   "source": [
    "a=np.random.randint(1,100,15)\n",
    "a"
   ]
  },
  {
   "cell_type": "code",
   "execution_count": 10,
   "id": "a6e55260-1201-47c7-82c5-4f252d0d7fa9",
   "metadata": {},
   "outputs": [
    {
     "data": {
      "text/plain": [
       "array([38, 66, 48, 68, 64, 41, 63, 80, 70, 49, 80, 72, 35, 80, 25],\n",
       "      dtype=int32)"
      ]
     },
     "execution_count": 10,
     "metadata": {},
     "output_type": "execute_result"
    }
   ],
   "source": [
    "np.clip(a,a_min=25,a_max=80) #yo range vanda kam or dherai vaye\n",
    "#25 vanda kam jun lai ni 25 and 80 vanda dherai jun lai ni 80\n",
    "#aru lai same"
   ]
  },
  {
   "cell_type": "markdown",
   "id": "00f19f59-79e2-46c6-a4be-57ac5a759a12",
   "metadata": {},
   "source": [
    "# matrix multiplication"
   ]
  },
  {
   "cell_type": "code",
   "execution_count": 11,
   "id": "fdf1170a-653f-4599-8811-f0cf268ecf5b",
   "metadata": {},
   "outputs": [
    {
     "data": {
      "text/plain": [
       "array([[ 323, 6440, 3268],\n",
       "       [ 828, 2346, 1638]], dtype=int32)"
      ]
     },
     "execution_count": 11,
     "metadata": {},
     "output_type": "execute_result"
    }
   ],
   "source": [
    "a=np.random.randint(1,100,size=(2,3))\n",
    "b=np.random.randint(1,100,size=(2,3))\n",
    "a*b #normal element to element product"
   ]
  },
  {
   "cell_type": "code",
   "execution_count": 12,
   "id": "1e10dde4-9a18-43ae-8556-73b7616ba960",
   "metadata": {},
   "outputs": [
    {
     "data": {
      "text/plain": [
       "array([[17, 70, 76],\n",
       "       [ 9, 46, 91]], dtype=int32)"
      ]
     },
     "execution_count": 12,
     "metadata": {},
     "output_type": "execute_result"
    }
   ],
   "source": [
    "a"
   ]
  },
  {
   "cell_type": "code",
   "execution_count": 13,
   "id": "3b102b69-7686-4f03-9c10-efee850aec38",
   "metadata": {},
   "outputs": [
    {
     "data": {
      "text/plain": [
       "array([[19, 92, 43],\n",
       "       [92, 51, 18]], dtype=int32)"
      ]
     },
     "execution_count": 13,
     "metadata": {},
     "output_type": "execute_result"
    }
   ],
   "source": [
    "b"
   ]
  },
  {
   "cell_type": "code",
   "execution_count": 14,
   "id": "d7f25acb-0914-4c49-bcf6-b8e6a357f157",
   "metadata": {},
   "outputs": [
    {
     "data": {
      "text/plain": [
       "(2, 3)"
      ]
     },
     "execution_count": 14,
     "metadata": {},
     "output_type": "execute_result"
    }
   ],
   "source": [
    "a.shape"
   ]
  },
  {
   "cell_type": "code",
   "execution_count": 15,
   "id": "9917e75b-a33c-4619-963c-37f244684488",
   "metadata": {},
   "outputs": [
    {
     "data": {
      "text/plain": [
       "(2, 3)"
      ]
     },
     "execution_count": 15,
     "metadata": {},
     "output_type": "execute_result"
    }
   ],
   "source": [
    "b.shape"
   ]
  },
  {
   "cell_type": "code",
   "execution_count": null,
   "id": "afcbd0f9-96ec-4697-bdca-1ab8c7fb0367",
   "metadata": {},
   "outputs": [],
   "source": [
    "#paxadi ko row and agadi ko column milena"
   ]
  },
  {
   "cell_type": "code",
   "execution_count": 16,
   "id": "795ffc87-ebe5-4694-b2e9-2cb795cfb5c4",
   "metadata": {},
   "outputs": [
    {
     "data": {
      "text/plain": [
       "array([[19, 40],\n",
       "       [10,  9],\n",
       "       [36, 62]], dtype=int32)"
      ]
     },
     "execution_count": 16,
     "metadata": {},
     "output_type": "execute_result"
    }
   ],
   "source": [
    "b=np.random.randint(1,100,size=(3,2))\n",
    "b"
   ]
  },
  {
   "cell_type": "code",
   "execution_count": 17,
   "id": "022462fd-2ab8-4540-9f0e-403474134394",
   "metadata": {},
   "outputs": [
    {
     "data": {
      "text/plain": [
       "array([[17, 70, 76],\n",
       "       [ 9, 46, 91]], dtype=int32)"
      ]
     },
     "execution_count": 17,
     "metadata": {},
     "output_type": "execute_result"
    }
   ],
   "source": [
    "a"
   ]
  },
  {
   "cell_type": "code",
   "execution_count": 19,
   "id": "bd4dd56e-6c8a-41b0-bb31-e293dd2cc49a",
   "metadata": {},
   "outputs": [
    {
     "data": {
      "text/plain": [
       "array([[3759, 6022],\n",
       "       [3907, 6416]], dtype=int32)"
      ]
     },
     "execution_count": 19,
     "metadata": {},
     "output_type": "execute_result"
    }
   ],
   "source": [
    "np.dot(a,b) #dot product"
   ]
  },
  {
   "cell_type": "code",
   "execution_count": 22,
   "id": "9490ec87-52b2-4416-aca7-7b0c230655fe",
   "metadata": {},
   "outputs": [
    {
     "name": "stdout",
     "output_type": "stream",
     "text": [
      "Defaulting to user installation because normal site-packages is not writeable\n",
      "Requirement already satisfied: pandas in c:\\users\\dell\\appdata\\roaming\\python\\python313\\site-packages (2.2.3)\n",
      "Requirement already satisfied: numpy>=1.26.0 in c:\\users\\dell\\appdata\\roaming\\python\\python313\\site-packages (from pandas) (2.2.3)\n",
      "Requirement already satisfied: python-dateutil>=2.8.2 in c:\\users\\dell\\appdata\\roaming\\python\\python313\\site-packages (from pandas) (2.9.0.post0)\n",
      "Requirement already satisfied: pytz>=2020.1 in c:\\users\\dell\\appdata\\roaming\\python\\python313\\site-packages (from pandas) (2025.1)\n",
      "Requirement already satisfied: tzdata>=2022.7 in c:\\users\\dell\\appdata\\roaming\\python\\python313\\site-packages (from pandas) (2025.1)\n",
      "Requirement already satisfied: six>=1.5 in c:\\users\\dell\\appdata\\roaming\\python\\python313\\site-packages (from python-dateutil>=2.8.2->pandas) (1.17.0)\n"
     ]
    }
   ],
   "source": [
    "!pip install pandas"
   ]
  },
  {
   "cell_type": "markdown",
   "id": "8d3215c1-d16d-4090-a691-1720748e45c4",
   "metadata": {},
   "source": [
    "# correlation"
   ]
  },
  {
   "cell_type": "code",
   "execution_count": 27,
   "id": "e99d5738-8cf4-4710-8044-65519b36d9fe",
   "metadata": {},
   "outputs": [],
   "source": [
    "experience=[1,2,3,4,5]\n",
    "salary=[10000,20000,30000,40000,50000]"
   ]
  },
  {
   "cell_type": "code",
   "execution_count": null,
   "id": "30ea416b-d3bc-417c-9012-da4a90032b87",
   "metadata": {},
   "outputs": [],
   "source": [
    "#correlation= -1 to 1 range\n",
    "#-1: perfectly  negative correlated\n",
    "#1: perfectly positie correlated\n",
    "#0: no correlation"
   ]
  },
  {
   "cell_type": "code",
   "execution_count": 28,
   "id": "b6301e0a-69d4-48c3-b87d-b76a4a19c5a0",
   "metadata": {},
   "outputs": [
    {
     "data": {
      "text/plain": [
       "array([[1., 1.],\n",
       "       [1., 1.]])"
      ]
     },
     "execution_count": 28,
     "metadata": {},
     "output_type": "execute_result"
    }
   ],
   "source": [
    "np.corrcoef(experience, salary)"
   ]
  },
  {
   "cell_type": "code",
   "execution_count": 30,
   "id": "9b4e9eee-72c9-441c-a5c7-b7b8eae31e09",
   "metadata": {},
   "outputs": [
    {
     "data": {
      "text/plain": [
       "<matplotlib.collections.PathCollection at 0x26206338190>"
      ]
     },
     "execution_count": 30,
     "metadata": {},
     "output_type": "execute_result"
    },
    {
     "data": {
      "image/png": "[encoded data removed]",
      "text/plain": [
       "<Figure size 640x480 with 1 Axes>"
      ]
     },
     "metadata": {},
     "output_type": "display_data"
    }
   ],
   "source": [
    "import matplotlib.pyplot as plt\n",
    "plt.scatter(experience,salary)"
   ]
  },
  {
   "cell_type": "code",
   "execution_count": 33,
   "id": "e5ddc5ac-ecf6-4958-9119-f695a7f3e366",
   "metadata": {},
   "outputs": [
    {
     "data": {
      "image/png": "[encoded data removed]",
      "text/plain": [
       "<Figure size 640x480 with 1 Axes>"
      ]
     },
     "metadata": {},
     "output_type": "display_data"
    }
   ],
   "source": [
    "plt.plot(experience,salary,marker='+',markersize=10)\n",
    "plt.grid()"
   ]
  },
  {
   "cell_type": "code",
   "execution_count": 36,
   "id": "90f8d2ce-1d20-4687-ad03-0f0d5b2b443d",
   "metadata": {},
   "outputs": [],
   "source": [
    "experience=[1,2,3,4,5]\n",
    "salary=[10000,20000,15000,40000,12000]"
   ]
  },
  {
   "cell_type": "code",
   "execution_count": 37,
   "id": "358c3ee4-1c26-4f92-8210-48c0ca95a0d9",
   "metadata": {},
   "outputs": [
    {
     "data": {
      "text/plain": [
       "array([[1.        , 0.31319745],\n",
       "       [0.31319745, 1.        ]])"
      ]
     },
     "execution_count": 37,
     "metadata": {},
     "output_type": "execute_result"
    }
   ],
   "source": [
    "np.corrcoef(experience, salary)"
   ]
  },
  {
   "cell_type": "code",
   "execution_count": 38,
   "id": "76407e0e-a38d-41c0-92a6-fbc2ab320b44",
   "metadata": {},
   "outputs": [],
   "source": [
    "experience=[1,2,3,4,5]\n",
    "salary=[50000,40000,30000,20000,10000]"
   ]
  },
  {
   "cell_type": "code",
   "execution_count": 39,
   "id": "6cdfe2ca-a4ba-4444-8422-7384bff7b675",
   "metadata": {},
   "outputs": [
    {
     "data": {
      "text/plain": [
       "array([[ 1., -1.],\n",
       "       [-1.,  1.]])"
      ]
     },
     "execution_count": 39,
     "metadata": {},
     "output_type": "execute_result"
    }
   ],
   "source": [
    "np.corrcoef(experience, salary)"
   ]
  },
  {
   "cell_type": "code",
   "execution_count": 40,
   "id": "4720ad7b-3045-4751-857b-31e35764c2d7",
   "metadata": {},
   "outputs": [
    {
     "data": {
      "image/png": "[encoded data removed]",
      "text/plain": [
       "<Figure size 640x480 with 1 Axes>"
      ]
     },
     "metadata": {},
     "output_type": "display_data"
    }
   ],
   "source": [
    "plt.plot(experience,salary,marker='+',markersize=10)\n",
    "plt.grid()"
   ]
  },
  {
   "cell_type": "code",
   "execution_count": 41,
   "id": "95d70aa9-2c2b-4b4d-a77d-0fe5a3711a1f",
   "metadata": {},
   "outputs": [],
   "source": [
    "x=np.random.randint(1,100,10)\n",
    "y=np.random.randint(1,100,10)"
   ]
  },
  {
   "cell_type": "code",
   "execution_count": 43,
   "id": "d988ca19-cd7b-4758-86ba-205494ab7c96",
   "metadata": {},
   "outputs": [
    {
     "data": {
      "text/plain": [
       "array([[ 1.        , -0.41607928],\n",
       "       [-0.41607928,  1.        ]])"
      ]
     },
     "execution_count": 43,
     "metadata": {},
     "output_type": "execute_result"
    }
   ],
   "source": [
    "np.corrcoef(x,y) #no correlation"
   ]
  },
  {
   "cell_type": "code",
   "execution_count": 45,
   "id": "88c75c32-819d-44a7-9fed-dff6e01dce6b",
   "metadata": {},
   "outputs": [
    {
     "data": {
      "image/png": "[encoded data removed]",
      "text/plain": [
       "<Figure size 640x480 with 1 Axes>"
      ]
     },
     "metadata": {},
     "output_type": "display_data"
    }
   ],
   "source": [
    "plt.plot(x,y,marker='+',markersize=10)\n",
    "plt.grid()"
   ]
  },
  {
   "cell_type": "code",
   "execution_count": 23,
   "id": "51ad8406-3fee-4591-994f-f917dd5cfc2b",
   "metadata": {},
   "outputs": [],
   "source": [
    "import pandas as pd"
   ]
  },
  {
   "cell_type": "code",
   "execution_count": 49,
   "id": "a19d2c3a-10cb-4bf0-ae30-ff0c4c02c7c7",
   "metadata": {},
   "outputs": [],
   "source": [
    "ids=[1,2,3,4,5]\n",
    "name=['ram','shyam','hari','gopal','shreeram']\n",
    "address=['kathmandu','pokhara','butwal','jhapa','dhangadi']\n",
    "salary=[10000,20000,30000,10000,150000]"
   ]
  },
  {
   "cell_type": "code",
   "execution_count": 52,
   "id": "ede7b2d2-6178-48c0-bb4a-11abbf54077f",
   "metadata": {},
   "outputs": [
    {
     "data": {
      "text/plain": [
       "{'id': [1, 2, 3, 4, 5],\n",
       " 'name': ['ram', 'shyam', 'hari', 'gopal', 'shreeram'],\n",
       " 'address': ['kathmandu', 'pokhara', 'butwal', 'jhapa', 'dhangadi'],\n",
       " 'salary': [10000, 20000, 30000, 10000, 150000]}"
      ]
     },
     "execution_count": 52,
     "metadata": {},
     "output_type": "execute_result"
    }
   ],
   "source": [
    "dicts={'id':ids,'name':name,'address':address,'salary':salary}\n",
    "dicts"
   ]
  },
  {
   "cell_type": "code",
   "execution_count": 55,
   "id": "a11c5843-3e0c-4ed3-a635-e480a24a448e",
   "metadata": {},
   "outputs": [
    {
     "data": {
      "text/html": [
       "<div>\n",
       "<style scoped>\n",
       "    .dataframe tbody tr th:only-of-type {\n",
       "        vertical-align: middle;\n",
       "    }\n",
       "\n",
       "    .dataframe tbody tr th {\n",
       "        vertical-align: top;\n",
       "    }\n",
       "\n",
       "    .dataframe thead th {\n",
       "        text-align: right;\n",
       "    }\n",
       "</style>\n",
       "<table border=\"1\" class=\"dataframe\">\n",
       "  <thead>\n",
       "    <tr style=\"text-align: right;\">\n",
       "      <th></th>\n",
       "      <th>id</th>\n",
       "      <th>name</th>\n",
       "      <th>address</th>\n",
       "      <th>salary</th>\n",
       "    </tr>\n",
       "  </thead>\n",
       "  <tbody>\n",
       "    <tr>\n",
       "      <th>0</th>\n",
       "      <td>1</td>\n",
       "      <td>ram</td>\n",
       "      <td>kathmandu</td>\n",
       "      <td>10000</td>\n",
       "    </tr>\n",
       "    <tr>\n",
       "      <th>1</th>\n",
       "      <td>2</td>\n",
       "      <td>shyam</td>\n",
       "      <td>pokhara</td>\n",
       "      <td>20000</td>\n",
       "    </tr>\n",
       "    <tr>\n",
       "      <th>2</th>\n",
       "      <td>3</td>\n",
       "      <td>hari</td>\n",
       "      <td>butwal</td>\n",
       "      <td>30000</td>\n",
       "    </tr>\n",
       "    <tr>\n",
       "      <th>3</th>\n",
       "      <td>4</td>\n",
       "      <td>gopal</td>\n",
       "      <td>jhapa</td>\n",
       "      <td>10000</td>\n",
       "    </tr>\n",
       "    <tr>\n",
       "      <th>4</th>\n",
       "      <td>5</td>\n",
       "      <td>shreeram</td>\n",
       "      <td>dhangadi</td>\n",
       "      <td>150000</td>\n",
       "    </tr>\n",
       "  </tbody>\n",
       "</table>\n",
       "</div>"
      ],
      "text/plain": [
       "   id      name    address  salary\n",
       "0   1       ram  kathmandu   10000\n",
       "1   2     shyam    pokhara   20000\n",
       "2   3      hari     butwal   30000\n",
       "3   4     gopal      jhapa   10000\n",
       "4   5  shreeram   dhangadi  150000"
      ]
     },
     "execution_count": 55,
     "metadata": {},
     "output_type": "execute_result"
    }
   ],
   "source": [
    "df=pd.DataFrame(dicts)\n",
    "df"
   ]
  },
  {
   "cell_type": "code",
   "execution_count": 54,
   "id": "16967f69-b78f-4169-9ce2-7a5cd9e58cb0",
   "metadata": {},
   "outputs": [
    {
     "data": {
      "text/plain": [
       "pandas.core.frame.DataFrame"
      ]
     },
     "execution_count": 54,
     "metadata": {},
     "output_type": "execute_result"
    }
   ],
   "source": [
    "type(pd.DataFrame(dicts))"
   ]
  },
  {
   "cell_type": "code",
   "execution_count": 56,
   "id": "bcd9b353-b1db-4768-b8a7-d00debf1cac8",
   "metadata": {},
   "outputs": [
    {
     "data": {
      "text/html": [
       "<div>\n",
       "<style scoped>\n",
       "    .dataframe tbody tr th:only-of-type {\n",
       "        vertical-align: middle;\n",
       "    }\n",
       "\n",
       "    .dataframe tbody tr th {\n",
       "        vertical-align: top;\n",
       "    }\n",
       "\n",
       "    .dataframe thead th {\n",
       "        text-align: right;\n",
       "    }\n",
       "</style>\n",
       "<table border=\"1\" class=\"dataframe\">\n",
       "  <thead>\n",
       "    <tr style=\"text-align: right;\">\n",
       "      <th></th>\n",
       "      <th>id</th>\n",
       "      <th>name</th>\n",
       "      <th>address</th>\n",
       "      <th>salary</th>\n",
       "    </tr>\n",
       "  </thead>\n",
       "  <tbody>\n",
       "    <tr>\n",
       "      <th>0</th>\n",
       "      <td>1</td>\n",
       "      <td>ram</td>\n",
       "      <td>kathmandu</td>\n",
       "      <td>10000</td>\n",
       "    </tr>\n",
       "    <tr>\n",
       "      <th>1</th>\n",
       "      <td>2</td>\n",
       "      <td>shyam</td>\n",
       "      <td>pokhara</td>\n",
       "      <td>20000</td>\n",
       "    </tr>\n",
       "    <tr>\n",
       "      <th>2</th>\n",
       "      <td>3</td>\n",
       "      <td>hari</td>\n",
       "      <td>butwal</td>\n",
       "      <td>30000</td>\n",
       "    </tr>\n",
       "    <tr>\n",
       "      <th>3</th>\n",
       "      <td>4</td>\n",
       "      <td>gopal</td>\n",
       "      <td>jhapa</td>\n",
       "      <td>10000</td>\n",
       "    </tr>\n",
       "    <tr>\n",
       "      <th>4</th>\n",
       "      <td>5</td>\n",
       "      <td>shreeram</td>\n",
       "      <td>dhangadi</td>\n",
       "      <td>150000</td>\n",
       "    </tr>\n",
       "  </tbody>\n",
       "</table>\n",
       "</div>"
      ],
      "text/plain": [
       "   id      name    address  salary\n",
       "0   1       ram  kathmandu   10000\n",
       "1   2     shyam    pokhara   20000\n",
       "2   3      hari     butwal   30000\n",
       "3   4     gopal      jhapa   10000\n",
       "4   5  shreeram   dhangadi  150000"
      ]
     },
     "execution_count": 56,
     "metadata": {},
     "output_type": "execute_result"
    }
   ],
   "source": [
    "df"
   ]
  },
  {
   "cell_type": "code",
   "execution_count": 58,
   "id": "40ae8853-2edc-4a25-a096-34b814cccd46",
   "metadata": {},
   "outputs": [],
   "source": [
    "df.to_csv(r'C:\\Users\\DELL\\Desktop\\Sipalaya Data Science\\data.csv') #saving"
   ]
  },
  {
   "cell_type": "code",
   "execution_count": 59,
   "id": "7bd445d2-83a7-4772-878e-cb6c9e0581d4",
   "metadata": {},
   "outputs": [
    {
     "data": {
      "text/plain": [
       "'C:\\\\Users\\\\DELL\\\\Desktop\\\\Sipalaya Data Science\\\\data.csv'"
      ]
     },
     "execution_count": 59,
     "metadata": {},
     "output_type": "execute_result"
    }
   ],
   "source": [
    "s=r'C:\\Users\\DELL\\Desktop\\Sipalaya Data Science\\data.csv'\n",
    "s"
   ]
  },
  {
   "cell_type": "markdown",
   "id": "bf1139ed-4b78-4f6f-97a2-4a278d28afb6",
   "metadata": {},
   "source": [
    "# read csv file"
   ]
  },
  {
   "cell_type": "code",
   "execution_count": 63,
   "id": "2e594991-5659-4ee1-99e8-80f8d1e3b297",
   "metadata": {},
   "outputs": [
    {
     "data": {
      "text/html": [
       "<div>\n",
       "<style scoped>\n",
       "    .dataframe tbody tr th:only-of-type {\n",
       "        vertical-align: middle;\n",
       "    }\n",
       "\n",
       "    .dataframe tbody tr th {\n",
       "        vertical-align: top;\n",
       "    }\n",
       "\n",
       "    .dataframe thead th {\n",
       "        text-align: right;\n",
       "    }\n",
       "</style>\n",
       "<table border=\"1\" class=\"dataframe\">\n",
       "  <thead>\n",
       "    <tr style=\"text-align: right;\">\n",
       "      <th></th>\n",
       "      <th>Unnamed: 0</th>\n",
       "      <th>id</th>\n",
       "      <th>name</th>\n",
       "      <th>address</th>\n",
       "      <th>salary</th>\n",
       "    </tr>\n",
       "  </thead>\n",
       "  <tbody>\n",
       "    <tr>\n",
       "      <th>0</th>\n",
       "      <td>0</td>\n",
       "      <td>1</td>\n",
       "      <td>ram</td>\n",
       "      <td>kathmandu</td>\n",
       "      <td>10000</td>\n",
       "    </tr>\n",
       "    <tr>\n",
       "      <th>1</th>\n",
       "      <td>1</td>\n",
       "      <td>2</td>\n",
       "      <td>shyam</td>\n",
       "      <td>pokhara</td>\n",
       "      <td>20000</td>\n",
       "    </tr>\n",
       "    <tr>\n",
       "      <th>2</th>\n",
       "      <td>2</td>\n",
       "      <td>3</td>\n",
       "      <td>hari</td>\n",
       "      <td>butwal</td>\n",
       "      <td>30000</td>\n",
       "    </tr>\n",
       "    <tr>\n",
       "      <th>3</th>\n",
       "      <td>3</td>\n",
       "      <td>4</td>\n",
       "      <td>gopal</td>\n",
       "      <td>jhapa</td>\n",
       "      <td>10000</td>\n",
       "    </tr>\n",
       "    <tr>\n",
       "      <th>4</th>\n",
       "      <td>4</td>\n",
       "      <td>5</td>\n",
       "      <td>shreeram</td>\n",
       "      <td>dhangadi</td>\n",
       "      <td>150000</td>\n",
       "    </tr>\n",
       "  </tbody>\n",
       "</table>\n",
       "</div>"
      ],
      "text/plain": [
       "   Unnamed: 0  id      name    address  salary\n",
       "0           0   1       ram  kathmandu   10000\n",
       "1           1   2     shyam    pokhara   20000\n",
       "2           2   3      hari     butwal   30000\n",
       "3           3   4     gopal      jhapa   10000\n",
       "4           4   5  shreeram   dhangadi  150000"
      ]
     },
     "execution_count": 63,
     "metadata": {},
     "output_type": "execute_result"
    }
   ],
   "source": [
    "pd.read_csv(r'C:\\Users\\DELL\\Desktop\\Sipalaya Data Science\\data.csv')"
   ]
  },
  {
   "cell_type": "code",
   "execution_count": 67,
   "id": "0848f351-9f17-45c7-b119-717e8a83a41e",
   "metadata": {},
   "outputs": [
    {
     "data": {
      "text/html": [
       "<div>\n",
       "<style scoped>\n",
       "    .dataframe tbody tr th:only-of-type {\n",
       "        vertical-align: middle;\n",
       "    }\n",
       "\n",
       "    .dataframe tbody tr th {\n",
       "        vertical-align: top;\n",
       "    }\n",
       "\n",
       "    .dataframe thead th {\n",
       "        text-align: right;\n",
       "    }\n",
       "</style>\n",
       "<table border=\"1\" class=\"dataframe\">\n",
       "  <thead>\n",
       "    <tr style=\"text-align: right;\">\n",
       "      <th></th>\n",
       "      <th>id</th>\n",
       "      <th>name</th>\n",
       "      <th>address</th>\n",
       "      <th>salary</th>\n",
       "    </tr>\n",
       "  </thead>\n",
       "  <tbody>\n",
       "    <tr>\n",
       "      <th>0</th>\n",
       "      <td>1</td>\n",
       "      <td>ram</td>\n",
       "      <td>kathmandu</td>\n",
       "      <td>10000</td>\n",
       "    </tr>\n",
       "    <tr>\n",
       "      <th>1</th>\n",
       "      <td>2</td>\n",
       "      <td>shyam</td>\n",
       "      <td>pokhara</td>\n",
       "      <td>20000</td>\n",
       "    </tr>\n",
       "    <tr>\n",
       "      <th>2</th>\n",
       "      <td>3</td>\n",
       "      <td>hari</td>\n",
       "      <td>butwal</td>\n",
       "      <td>30000</td>\n",
       "    </tr>\n",
       "    <tr>\n",
       "      <th>3</th>\n",
       "      <td>4</td>\n",
       "      <td>gopal</td>\n",
       "      <td>jhapa</td>\n",
       "      <td>10000</td>\n",
       "    </tr>\n",
       "    <tr>\n",
       "      <th>4</th>\n",
       "      <td>5</td>\n",
       "      <td>shreeram</td>\n",
       "      <td>dhangadi</td>\n",
       "      <td>150000</td>\n",
       "    </tr>\n",
       "  </tbody>\n",
       "</table>\n",
       "</div>"
      ],
      "text/plain": [
       "   id      name    address  salary\n",
       "0   1       ram  kathmandu   10000\n",
       "1   2     shyam    pokhara   20000\n",
       "2   3      hari     butwal   30000\n",
       "3   4     gopal      jhapa   10000\n",
       "4   5  shreeram   dhangadi  150000"
      ]
     },
     "execution_count": 67,
     "metadata": {},
     "output_type": "execute_result"
    }
   ],
   "source": [
    "df.drop(columns=['Unnamed : 0'], errors='ignore')\n",
    "df"
   ]
  },
  {
   "cell_type": "code",
   "execution_count": 69,
   "id": "b7eca491-09fd-4426-9956-b82d40debf87",
   "metadata": {},
   "outputs": [
    {
     "data": {
      "text/html": [
       "<div>\n",
       "<style scoped>\n",
       "    .dataframe tbody tr th:only-of-type {\n",
       "        vertical-align: middle;\n",
       "    }\n",
       "\n",
       "    .dataframe tbody tr th {\n",
       "        vertical-align: top;\n",
       "    }\n",
       "\n",
       "    .dataframe thead th {\n",
       "        text-align: right;\n",
       "    }\n",
       "</style>\n",
       "<table border=\"1\" class=\"dataframe\">\n",
       "  <thead>\n",
       "    <tr style=\"text-align: right;\">\n",
       "      <th></th>\n",
       "      <th>Series_Title</th>\n",
       "      <th>Released_Year</th>\n",
       "      <th>Runtime</th>\n",
       "      <th>Genre</th>\n",
       "      <th>IMDB_Rating</th>\n",
       "      <th>Director</th>\n",
       "      <th>Star1</th>\n",
       "      <th>No_of_Votes</th>\n",
       "      <th>Gross</th>\n",
       "      <th>Metascore</th>\n",
       "    </tr>\n",
       "  </thead>\n",
       "  <tbody>\n",
       "    <tr>\n",
       "      <th>0</th>\n",
       "      <td>Chinatown</td>\n",
       "      <td>1974</td>\n",
       "      <td>130</td>\n",
       "      <td>Drama</td>\n",
       "      <td>8.1</td>\n",
       "      <td>Roman Polanski</td>\n",
       "      <td>Jack Nicholson</td>\n",
       "      <td>294230</td>\n",
       "      <td>29000000.0</td>\n",
       "      <td>92.0</td>\n",
       "    </tr>\n",
       "    <tr>\n",
       "      <th>1</th>\n",
       "      <td>The Girl with the Dragon Tattoo</td>\n",
       "      <td>2011</td>\n",
       "      <td>158</td>\n",
       "      <td>Crime</td>\n",
       "      <td>7.8</td>\n",
       "      <td>David Fincher</td>\n",
       "      <td>Daniel Craig</td>\n",
       "      <td>423010</td>\n",
       "      <td>102515793.0</td>\n",
       "      <td>71.0</td>\n",
       "    </tr>\n",
       "    <tr>\n",
       "      <th>2</th>\n",
       "      <td>Nueve reinas</td>\n",
       "      <td>2000</td>\n",
       "      <td>114</td>\n",
       "      <td>Crime</td>\n",
       "      <td>7.9</td>\n",
       "      <td>Fabián Bielinsky</td>\n",
       "      <td>Ricardo Darín</td>\n",
       "      <td>49721</td>\n",
       "      <td>1221261.0</td>\n",
       "      <td>80.0</td>\n",
       "    </tr>\n",
       "    <tr>\n",
       "      <th>3</th>\n",
       "      <td>Close Encounters of the Third Kind</td>\n",
       "      <td>1977</td>\n",
       "      <td>138</td>\n",
       "      <td>Drama</td>\n",
       "      <td>7.6</td>\n",
       "      <td>Steven Spielberg</td>\n",
       "      <td>Richard Dreyfuss</td>\n",
       "      <td>184966</td>\n",
       "      <td>132088635.0</td>\n",
       "      <td>90.0</td>\n",
       "    </tr>\n",
       "    <tr>\n",
       "      <th>4</th>\n",
       "      <td>Joker</td>\n",
       "      <td>2019</td>\n",
       "      <td>122</td>\n",
       "      <td>Crime</td>\n",
       "      <td>8.5</td>\n",
       "      <td>Todd Phillips</td>\n",
       "      <td>Joaquin Phoenix</td>\n",
       "      <td>939252</td>\n",
       "      <td>335451311.0</td>\n",
       "      <td>59.0</td>\n",
       "    </tr>\n",
       "    <tr>\n",
       "      <th>...</th>\n",
       "      <td>...</td>\n",
       "      <td>...</td>\n",
       "      <td>...</td>\n",
       "      <td>...</td>\n",
       "      <td>...</td>\n",
       "      <td>...</td>\n",
       "      <td>...</td>\n",
       "      <td>...</td>\n",
       "      <td>...</td>\n",
       "      <td>...</td>\n",
       "    </tr>\n",
       "    <tr>\n",
       "      <th>295</th>\n",
       "      <td>Kumonosu-jô</td>\n",
       "      <td>1957</td>\n",
       "      <td>110</td>\n",
       "      <td>Drama</td>\n",
       "      <td>8.1</td>\n",
       "      <td>Akira Kurosawa</td>\n",
       "      <td>Toshirô Mifune</td>\n",
       "      <td>46678</td>\n",
       "      <td>612604239.0</td>\n",
       "      <td>NaN</td>\n",
       "    </tr>\n",
       "    <tr>\n",
       "      <th>296</th>\n",
       "      <td>Falling Down</td>\n",
       "      <td>1993</td>\n",
       "      <td>113</td>\n",
       "      <td>Action</td>\n",
       "      <td>7.6</td>\n",
       "      <td>Joel Schumacher</td>\n",
       "      <td>Michael Douglas</td>\n",
       "      <td>171640</td>\n",
       "      <td>40903593.0</td>\n",
       "      <td>56.0</td>\n",
       "    </tr>\n",
       "    <tr>\n",
       "      <th>297</th>\n",
       "      <td>The Royal Tenenbaums</td>\n",
       "      <td>2001</td>\n",
       "      <td>110</td>\n",
       "      <td>Comedy</td>\n",
       "      <td>7.6</td>\n",
       "      <td>Wes Anderson</td>\n",
       "      <td>Gene Hackman</td>\n",
       "      <td>266842</td>\n",
       "      <td>52364010.0</td>\n",
       "      <td>76.0</td>\n",
       "    </tr>\n",
       "    <tr>\n",
       "      <th>298</th>\n",
       "      <td>Midnight Cowboy</td>\n",
       "      <td>1969</td>\n",
       "      <td>113</td>\n",
       "      <td>Drama</td>\n",
       "      <td>7.8</td>\n",
       "      <td>John Schlesinger</td>\n",
       "      <td>Dustin Hoffman</td>\n",
       "      <td>101124</td>\n",
       "      <td>44785053.0</td>\n",
       "      <td>79.0</td>\n",
       "    </tr>\n",
       "    <tr>\n",
       "      <th>299</th>\n",
       "      <td>Kai po che!</td>\n",
       "      <td>2013</td>\n",
       "      <td>130</td>\n",
       "      <td>Drama</td>\n",
       "      <td>7.7</td>\n",
       "      <td>Abhishek Kapoor</td>\n",
       "      <td>Amit Sadh</td>\n",
       "      <td>32628</td>\n",
       "      <td>1122527.0</td>\n",
       "      <td>40.0</td>\n",
       "    </tr>\n",
       "  </tbody>\n",
       "</table>\n",
       "<p>300 rows × 10 columns</p>\n",
       "</div>"
      ],
      "text/plain": [
       "                           Series_Title  Released_Year  Runtime   Genre  \\\n",
       "0                             Chinatown           1974      130   Drama   \n",
       "1       The Girl with the Dragon Tattoo           2011      158   Crime   \n",
       "2                          Nueve reinas           2000      114   Crime   \n",
       "3    Close Encounters of the Third Kind           1977      138   Drama   \n",
       "4                                 Joker           2019      122   Crime   \n",
       "..                                  ...            ...      ...     ...   \n",
       "295                         Kumonosu-jô           1957      110   Drama   \n",
       "296                        Falling Down           1993      113  Action   \n",
       "297                The Royal Tenenbaums           2001      110  Comedy   \n",
       "298                     Midnight Cowboy           1969      113   Drama   \n",
       "299                         Kai po che!           2013      130   Drama   \n",
       "\n",
       "     IMDB_Rating          Director             Star1  No_of_Votes  \\\n",
       "0            8.1    Roman Polanski    Jack Nicholson       294230   \n",
       "1            7.8     David Fincher      Daniel Craig       423010   \n",
       "2            7.9  Fabián Bielinsky     Ricardo Darín        49721   \n",
       "3            7.6  Steven Spielberg  Richard Dreyfuss       184966   \n",
       "4            8.5     Todd Phillips   Joaquin Phoenix       939252   \n",
       "..           ...               ...               ...          ...   \n",
       "295          8.1    Akira Kurosawa    Toshirô Mifune        46678   \n",
       "296          7.6   Joel Schumacher   Michael Douglas       171640   \n",
       "297          7.6      Wes Anderson      Gene Hackman       266842   \n",
       "298          7.8  John Schlesinger    Dustin Hoffman       101124   \n",
       "299          7.7   Abhishek Kapoor         Amit Sadh        32628   \n",
       "\n",
       "           Gross  Metascore  \n",
       "0     29000000.0       92.0  \n",
       "1    102515793.0       71.0  \n",
       "2      1221261.0       80.0  \n",
       "3    132088635.0       90.0  \n",
       "4    335451311.0       59.0  \n",
       "..           ...        ...  \n",
       "295  612604239.0        NaN  \n",
       "296   40903593.0       56.0  \n",
       "297   52364010.0       76.0  \n",
       "298   44785053.0       79.0  \n",
       "299    1122527.0       40.0  \n",
       "\n",
       "[300 rows x 10 columns]"
      ]
     },
     "execution_count": 69,
     "metadata": {},
     "output_type": "execute_result"
    }
   ],
   "source": [
    "pd.read_csv(r'C:\\Users\\DELL\\Desktop\\Sipalaya Data Science\\movs.csv')"
   ]
  },
  {
   "cell_type": "code",
   "execution_count": 70,
   "id": "7c7c493b-9554-462b-ad77-a4543f5bee8a",
   "metadata": {},
   "outputs": [],
   "source": [
    "pd.set_option('display.max_rows',None)\n",
    "              "
   ]
  },
  {
   "cell_type": "code",
   "execution_count": 71,
   "id": "708ed323-9d77-4220-b464-6b44c788a8e7",
   "metadata": {},
   "outputs": [
    {
     "data": {
      "text/html": [
       "<div>\n",
       "<style scoped>\n",
       "    .dataframe tbody tr th:only-of-type {\n",
       "        vertical-align: middle;\n",
       "    }\n",
       "\n",
       "    .dataframe tbody tr th {\n",
       "        vertical-align: top;\n",
       "    }\n",
       "\n",
       "    .dataframe thead th {\n",
       "        text-align: right;\n",
       "    }\n",
       "</style>\n",
       "<table border=\"1\" class=\"dataframe\">\n",
       "  <thead>\n",
       "    <tr style=\"text-align: right;\">\n",
       "      <th></th>\n",
       "      <th>id</th>\n",
       "      <th>name</th>\n",
       "      <th>address</th>\n",
       "      <th>salary</th>\n",
       "    </tr>\n",
       "  </thead>\n",
       "  <tbody>\n",
       "    <tr>\n",
       "      <th>0</th>\n",
       "      <td>1</td>\n",
       "      <td>ram</td>\n",
       "      <td>kathmandu</td>\n",
       "      <td>10000</td>\n",
       "    </tr>\n",
       "    <tr>\n",
       "      <th>1</th>\n",
       "      <td>2</td>\n",
       "      <td>shyam</td>\n",
       "      <td>pokhara</td>\n",
       "      <td>20000</td>\n",
       "    </tr>\n",
       "    <tr>\n",
       "      <th>2</th>\n",
       "      <td>3</td>\n",
       "      <td>hari</td>\n",
       "      <td>butwal</td>\n",
       "      <td>30000</td>\n",
       "    </tr>\n",
       "    <tr>\n",
       "      <th>3</th>\n",
       "      <td>4</td>\n",
       "      <td>gopal</td>\n",
       "      <td>jhapa</td>\n",
       "      <td>10000</td>\n",
       "    </tr>\n",
       "    <tr>\n",
       "      <th>4</th>\n",
       "      <td>5</td>\n",
       "      <td>shreeram</td>\n",
       "      <td>dhangadi</td>\n",
       "      <td>150000</td>\n",
       "    </tr>\n",
       "  </tbody>\n",
       "</table>\n",
       "</div>"
      ],
      "text/plain": [
       "   id      name    address  salary\n",
       "0   1       ram  kathmandu   10000\n",
       "1   2     shyam    pokhara   20000\n",
       "2   3      hari     butwal   30000\n",
       "3   4     gopal      jhapa   10000\n",
       "4   5  shreeram   dhangadi  150000"
      ]
     },
     "execution_count": 71,
     "metadata": {},
     "output_type": "execute_result"
    }
   ],
   "source": [
    "df"
   ]
  },
  {
   "cell_type": "code",
   "execution_count": null,
   "id": "8bfb8668-abf7-49fd-b398-016eac21d5bb",
   "metadata": {},
   "outputs": [],
   "source": []
  }
 ],
 "metadata": {
  "kernelspec": {
   "display_name": "Python 3 (ipykernel)",
   "language": "python",
   "name": "python3"
  },
  "language_info": {
   "codemirror_mode": {
    "name": "ipython",
    "version": 3
   },
   "file_extension": ".py",
   "mimetype": "text/x-python",
   "name": "python",
   "nbconvert_exporter": "python",
   "pygments_lexer": "ipython3",
   "version": "3.13.1"
  }
 },
 "nbformat": 4,
 "nbformat_minor": 5
}
