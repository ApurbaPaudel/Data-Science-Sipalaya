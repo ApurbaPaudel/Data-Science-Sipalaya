{
 "cells": [
  {
   "cell_type": "code",
   "execution_count": 1,
   "id": "f8eb602f-f3e5-4525-83b7-7c1946307929",
   "metadata": {},
   "outputs": [],
   "source": [
    "import pandas as pd"
   ]
  },
  {
   "cell_type": "code",
   "execution_count": 4,
   "id": "3a6ce3da-9b53-4629-9359-8151a9b84869",
   "metadata": {},
   "outputs": [
    {
     "data": {
      "text/html": [
       "<div>\n",
       "<style scoped>\n",
       "    .dataframe tbody tr th:only-of-type {\n",
       "        vertical-align: middle;\n",
       "    }\n",
       "\n",
       "    .dataframe tbody tr th {\n",
       "        vertical-align: top;\n",
       "    }\n",
       "\n",
       "    .dataframe thead th {\n",
       "        text-align: right;\n",
       "    }\n",
       "</style>\n",
       "<table border=\"1\" class=\"dataframe\">\n",
       "  <thead>\n",
       "    <tr style=\"text-align: right;\">\n",
       "      <th></th>\n",
       "      <th>Series_Title</th>\n",
       "      <th>Released_Year</th>\n",
       "      <th>Runtime</th>\n",
       "      <th>Genre</th>\n",
       "      <th>IMDB_Rating</th>\n",
       "      <th>Director</th>\n",
       "      <th>Star1</th>\n",
       "      <th>No_of_Votes</th>\n",
       "      <th>Gross</th>\n",
       "      <th>Metascore</th>\n",
       "    </tr>\n",
       "  </thead>\n",
       "  <tbody>\n",
       "    <tr>\n",
       "      <th>68</th>\n",
       "      <td>The Bourne Supremacy</td>\n",
       "      <td>2004</td>\n",
       "      <td>108</td>\n",
       "      <td>Action</td>\n",
       "      <td>7.7</td>\n",
       "      <td>Paul Greengrass</td>\n",
       "      <td>Matt Damon</td>\n",
       "      <td>434841</td>\n",
       "      <td>176241941.0</td>\n",
       "      <td>73.0</td>\n",
       "    </tr>\n",
       "    <tr>\n",
       "      <th>210</th>\n",
       "      <td>Taare Zameen Par</td>\n",
       "      <td>2007</td>\n",
       "      <td>165</td>\n",
       "      <td>Drama</td>\n",
       "      <td>8.4</td>\n",
       "      <td>Aamir Khan</td>\n",
       "      <td>Amole Gupte</td>\n",
       "      <td>168895</td>\n",
       "      <td>1223869.0</td>\n",
       "      <td>NaN</td>\n",
       "    </tr>\n",
       "    <tr>\n",
       "      <th>38</th>\n",
       "      <td>The Lion King</td>\n",
       "      <td>1994</td>\n",
       "      <td>88</td>\n",
       "      <td>Animation</td>\n",
       "      <td>8.5</td>\n",
       "      <td>Roger Allers</td>\n",
       "      <td>Rob Minkoff</td>\n",
       "      <td>942045</td>\n",
       "      <td>422783777.0</td>\n",
       "      <td>88.0</td>\n",
       "    </tr>\n",
       "    <tr>\n",
       "      <th>16</th>\n",
       "      <td>Kingsman: The Secret Service</td>\n",
       "      <td>2014</td>\n",
       "      <td>129</td>\n",
       "      <td>Action</td>\n",
       "      <td>7.7</td>\n",
       "      <td>Matthew Vaughn</td>\n",
       "      <td>Colin Firth</td>\n",
       "      <td>590440</td>\n",
       "      <td>128261724.0</td>\n",
       "      <td>60.0</td>\n",
       "    </tr>\n",
       "    <tr>\n",
       "      <th>208</th>\n",
       "      <td>Badhaai ho</td>\n",
       "      <td>2018</td>\n",
       "      <td>124</td>\n",
       "      <td>Comedy</td>\n",
       "      <td>8.0</td>\n",
       "      <td>Amit Ravindernath Sharma</td>\n",
       "      <td>Ayushmann Khurrana</td>\n",
       "      <td>27978</td>\n",
       "      <td>28738362.0</td>\n",
       "      <td>NaN</td>\n",
       "    </tr>\n",
       "    <tr>\n",
       "      <th>189</th>\n",
       "      <td>Smultronstället</td>\n",
       "      <td>1957</td>\n",
       "      <td>91</td>\n",
       "      <td>Drama</td>\n",
       "      <td>8.2</td>\n",
       "      <td>Ingmar Bergman</td>\n",
       "      <td>Victor Sjöström</td>\n",
       "      <td>96381</td>\n",
       "      <td>144259257.0</td>\n",
       "      <td>88.0</td>\n",
       "    </tr>\n",
       "    <tr>\n",
       "      <th>61</th>\n",
       "      <td>Baby Driver</td>\n",
       "      <td>2017</td>\n",
       "      <td>113</td>\n",
       "      <td>Action</td>\n",
       "      <td>7.6</td>\n",
       "      <td>Edgar Wright</td>\n",
       "      <td>Ansel Elgort</td>\n",
       "      <td>439406</td>\n",
       "      <td>107825862.0</td>\n",
       "      <td>86.0</td>\n",
       "    </tr>\n",
       "    <tr>\n",
       "      <th>273</th>\n",
       "      <td>No Man's Land</td>\n",
       "      <td>2001</td>\n",
       "      <td>98</td>\n",
       "      <td>Comedy</td>\n",
       "      <td>7.9</td>\n",
       "      <td>Danis Tanovic</td>\n",
       "      <td>Branko Djuric</td>\n",
       "      <td>44618</td>\n",
       "      <td>1059830.0</td>\n",
       "      <td>84.0</td>\n",
       "    </tr>\n",
       "    <tr>\n",
       "      <th>221</th>\n",
       "      <td>Room</td>\n",
       "      <td>2015</td>\n",
       "      <td>118</td>\n",
       "      <td>Drama</td>\n",
       "      <td>8.1</td>\n",
       "      <td>Lenny Abrahamson</td>\n",
       "      <td>Brie Larson</td>\n",
       "      <td>371538</td>\n",
       "      <td>14677674.0</td>\n",
       "      <td>86.0</td>\n",
       "    </tr>\n",
       "    <tr>\n",
       "      <th>103</th>\n",
       "      <td>Dog Day Afternoon</td>\n",
       "      <td>1975</td>\n",
       "      <td>125</td>\n",
       "      <td>Biography</td>\n",
       "      <td>8.0</td>\n",
       "      <td>Sidney Lumet</td>\n",
       "      <td>Al Pacino</td>\n",
       "      <td>235652</td>\n",
       "      <td>50000000.0</td>\n",
       "      <td>86.0</td>\n",
       "    </tr>\n",
       "  </tbody>\n",
       "</table>\n",
       "</div>"
      ],
      "text/plain": [
       "                     Series_Title  Released_Year  Runtime      Genre  \\\n",
       "68           The Bourne Supremacy           2004      108     Action   \n",
       "210              Taare Zameen Par           2007      165      Drama   \n",
       "38                  The Lion King           1994       88  Animation   \n",
       "16   Kingsman: The Secret Service           2014      129     Action   \n",
       "208                    Badhaai ho           2018      124     Comedy   \n",
       "189               Smultronstället           1957       91      Drama   \n",
       "61                    Baby Driver           2017      113     Action   \n",
       "273                 No Man's Land           2001       98     Comedy   \n",
       "221                          Room           2015      118      Drama   \n",
       "103             Dog Day Afternoon           1975      125  Biography   \n",
       "\n",
       "     IMDB_Rating                  Director               Star1  No_of_Votes  \\\n",
       "68           7.7           Paul Greengrass          Matt Damon       434841   \n",
       "210          8.4                Aamir Khan         Amole Gupte       168895   \n",
       "38           8.5              Roger Allers         Rob Minkoff       942045   \n",
       "16           7.7            Matthew Vaughn         Colin Firth       590440   \n",
       "208          8.0  Amit Ravindernath Sharma  Ayushmann Khurrana        27978   \n",
       "189          8.2            Ingmar Bergman     Victor Sjöström        96381   \n",
       "61           7.6              Edgar Wright        Ansel Elgort       439406   \n",
       "273          7.9             Danis Tanovic       Branko Djuric        44618   \n",
       "221          8.1          Lenny Abrahamson         Brie Larson       371538   \n",
       "103          8.0              Sidney Lumet           Al Pacino       235652   \n",
       "\n",
       "           Gross  Metascore  \n",
       "68   176241941.0       73.0  \n",
       "210    1223869.0        NaN  \n",
       "38   422783777.0       88.0  \n",
       "16   128261724.0       60.0  \n",
       "208   28738362.0        NaN  \n",
       "189  144259257.0       88.0  \n",
       "61   107825862.0       86.0  \n",
       "273    1059830.0       84.0  \n",
       "221   14677674.0       86.0  \n",
       "103   50000000.0       86.0  "
      ]
     },
     "execution_count": 4,
     "metadata": {},
     "output_type": "execute_result"
    }
   ],
   "source": [
    "df=pd.read_csv(r\"C:\\Users\\DELL\\Desktop\\Sipalaya Data Science\\datas\\movies.csv\")\n",
    "df.sample(10)"
   ]
  },
  {
   "cell_type": "code",
   "execution_count": 5,
   "id": "a2a087d2-aa16-434e-8695-061d79802dbb",
   "metadata": {},
   "outputs": [
    {
     "data": {
      "text/plain": [
       "(300, 10)"
      ]
     },
     "execution_count": 5,
     "metadata": {},
     "output_type": "execute_result"
    }
   ],
   "source": [
    "df.shape"
   ]
  },
  {
   "cell_type": "code",
   "execution_count": 6,
   "id": "470e1567-33ff-46d2-87cf-835065c457c1",
   "metadata": {},
   "outputs": [
    {
     "data": {
      "text/plain": [
       "array(['Drama', 'Crime', 'Action', 'Biography', 'Comedy', 'Adventure',\n",
       "       'Film-Noir', 'Animation', 'Horror', 'Mystery', 'Fantasy',\n",
       "       'Western'], dtype=object)"
      ]
     },
     "execution_count": 6,
     "metadata": {},
     "output_type": "execute_result"
    }
   ],
   "source": [
    "df['Genre'].unique()"
   ]
  },
  {
   "cell_type": "code",
   "execution_count": 8,
   "id": "6981b27a-8be8-409e-9c4e-cda696cac30a",
   "metadata": {},
   "outputs": [
    {
     "data": {
      "text/plain": [
       "12"
      ]
     },
     "execution_count": 8,
     "metadata": {},
     "output_type": "execute_result"
    }
   ],
   "source": [
    "df['Genre'].unique().size #kati ota unique"
   ]
  },
  {
   "cell_type": "code",
   "execution_count": 10,
   "id": "fc6434a3-a88d-4985-bfb0-72bb1cabf2b5",
   "metadata": {},
   "outputs": [
    {
     "data": {
      "text/html": [
       "<div>\n",
       "<style scoped>\n",
       "    .dataframe tbody tr th:only-of-type {\n",
       "        vertical-align: middle;\n",
       "    }\n",
       "\n",
       "    .dataframe tbody tr th {\n",
       "        vertical-align: top;\n",
       "    }\n",
       "\n",
       "    .dataframe thead th {\n",
       "        text-align: right;\n",
       "    }\n",
       "</style>\n",
       "<table border=\"1\" class=\"dataframe\">\n",
       "  <thead>\n",
       "    <tr style=\"text-align: right;\">\n",
       "      <th></th>\n",
       "      <th>Series_Title</th>\n",
       "      <th>Released_Year</th>\n",
       "      <th>Runtime</th>\n",
       "      <th>Genre</th>\n",
       "      <th>IMDB_Rating</th>\n",
       "      <th>Director</th>\n",
       "      <th>Star1</th>\n",
       "      <th>No_of_Votes</th>\n",
       "      <th>Gross</th>\n",
       "      <th>Metascore</th>\n",
       "    </tr>\n",
       "  </thead>\n",
       "  <tbody>\n",
       "    <tr>\n",
       "      <th>0</th>\n",
       "      <td>Chinatown</td>\n",
       "      <td>1974</td>\n",
       "      <td>130</td>\n",
       "      <td>Drama</td>\n",
       "      <td>8.1</td>\n",
       "      <td>Roman Polanski</td>\n",
       "      <td>Jack Nicholson</td>\n",
       "      <td>294230</td>\n",
       "      <td>29000000.0</td>\n",
       "      <td>92.0</td>\n",
       "    </tr>\n",
       "    <tr>\n",
       "      <th>3</th>\n",
       "      <td>Close Encounters of the Third Kind</td>\n",
       "      <td>1977</td>\n",
       "      <td>138</td>\n",
       "      <td>Drama</td>\n",
       "      <td>7.6</td>\n",
       "      <td>Steven Spielberg</td>\n",
       "      <td>Richard Dreyfuss</td>\n",
       "      <td>184966</td>\n",
       "      <td>132088635.0</td>\n",
       "      <td>90.0</td>\n",
       "    </tr>\n",
       "    <tr>\n",
       "      <th>7</th>\n",
       "      <td>Boogie Nights</td>\n",
       "      <td>1997</td>\n",
       "      <td>155</td>\n",
       "      <td>Drama</td>\n",
       "      <td>7.9</td>\n",
       "      <td>Paul Thomas Anderson</td>\n",
       "      <td>Mark Wahlberg</td>\n",
       "      <td>239473</td>\n",
       "      <td>26400640.0</td>\n",
       "      <td>85.0</td>\n",
       "    </tr>\n",
       "    <tr>\n",
       "      <th>10</th>\n",
       "      <td>Casablanca</td>\n",
       "      <td>1942</td>\n",
       "      <td>102</td>\n",
       "      <td>Drama</td>\n",
       "      <td>8.5</td>\n",
       "      <td>Michael Curtiz</td>\n",
       "      <td>Humphrey Bogart</td>\n",
       "      <td>522093</td>\n",
       "      <td>1024560.0</td>\n",
       "      <td>100.0</td>\n",
       "    </tr>\n",
       "    <tr>\n",
       "      <th>11</th>\n",
       "      <td>Moon</td>\n",
       "      <td>2009</td>\n",
       "      <td>97</td>\n",
       "      <td>Drama</td>\n",
       "      <td>7.9</td>\n",
       "      <td>Duncan Jones</td>\n",
       "      <td>Sam Rockwell</td>\n",
       "      <td>335152</td>\n",
       "      <td>5009677.0</td>\n",
       "      <td>67.0</td>\n",
       "    </tr>\n",
       "    <tr>\n",
       "      <th>...</th>\n",
       "      <td>...</td>\n",
       "      <td>...</td>\n",
       "      <td>...</td>\n",
       "      <td>...</td>\n",
       "      <td>...</td>\n",
       "      <td>...</td>\n",
       "      <td>...</td>\n",
       "      <td>...</td>\n",
       "      <td>...</td>\n",
       "      <td>...</td>\n",
       "    </tr>\n",
       "    <tr>\n",
       "      <th>287</th>\n",
       "      <td>Giant</td>\n",
       "      <td>1956</td>\n",
       "      <td>201</td>\n",
       "      <td>Drama</td>\n",
       "      <td>7.6</td>\n",
       "      <td>George Stevens</td>\n",
       "      <td>Elizabeth Taylor</td>\n",
       "      <td>34075</td>\n",
       "      <td>195217415.0</td>\n",
       "      <td>84.0</td>\n",
       "    </tr>\n",
       "    <tr>\n",
       "      <th>289</th>\n",
       "      <td>In a Lonely Place</td>\n",
       "      <td>1950</td>\n",
       "      <td>94</td>\n",
       "      <td>Drama</td>\n",
       "      <td>8.0</td>\n",
       "      <td>Nicholas Ray</td>\n",
       "      <td>Humphrey Bogart</td>\n",
       "      <td>26784</td>\n",
       "      <td>532877349.0</td>\n",
       "      <td>NaN</td>\n",
       "    </tr>\n",
       "    <tr>\n",
       "      <th>295</th>\n",
       "      <td>Kumonosu-jô</td>\n",
       "      <td>1957</td>\n",
       "      <td>110</td>\n",
       "      <td>Drama</td>\n",
       "      <td>8.1</td>\n",
       "      <td>Akira Kurosawa</td>\n",
       "      <td>Toshirô Mifune</td>\n",
       "      <td>46678</td>\n",
       "      <td>612604239.0</td>\n",
       "      <td>NaN</td>\n",
       "    </tr>\n",
       "    <tr>\n",
       "      <th>298</th>\n",
       "      <td>Midnight Cowboy</td>\n",
       "      <td>1969</td>\n",
       "      <td>113</td>\n",
       "      <td>Drama</td>\n",
       "      <td>7.8</td>\n",
       "      <td>John Schlesinger</td>\n",
       "      <td>Dustin Hoffman</td>\n",
       "      <td>101124</td>\n",
       "      <td>44785053.0</td>\n",
       "      <td>79.0</td>\n",
       "    </tr>\n",
       "    <tr>\n",
       "      <th>299</th>\n",
       "      <td>Kai po che!</td>\n",
       "      <td>2013</td>\n",
       "      <td>130</td>\n",
       "      <td>Drama</td>\n",
       "      <td>7.7</td>\n",
       "      <td>Abhishek Kapoor</td>\n",
       "      <td>Amit Sadh</td>\n",
       "      <td>32628</td>\n",
       "      <td>1122527.0</td>\n",
       "      <td>40.0</td>\n",
       "    </tr>\n",
       "  </tbody>\n",
       "</table>\n",
       "<p>86 rows × 10 columns</p>\n",
       "</div>"
      ],
      "text/plain": [
       "                           Series_Title  Released_Year  Runtime  Genre  \\\n",
       "0                             Chinatown           1974      130  Drama   \n",
       "3    Close Encounters of the Third Kind           1977      138  Drama   \n",
       "7                         Boogie Nights           1997      155  Drama   \n",
       "10                           Casablanca           1942      102  Drama   \n",
       "11                                 Moon           2009       97  Drama   \n",
       "..                                  ...            ...      ...    ...   \n",
       "287                               Giant           1956      201  Drama   \n",
       "289                   In a Lonely Place           1950       94  Drama   \n",
       "295                         Kumonosu-jô           1957      110  Drama   \n",
       "298                     Midnight Cowboy           1969      113  Drama   \n",
       "299                         Kai po che!           2013      130  Drama   \n",
       "\n",
       "     IMDB_Rating              Director             Star1  No_of_Votes  \\\n",
       "0            8.1        Roman Polanski    Jack Nicholson       294230   \n",
       "3            7.6      Steven Spielberg  Richard Dreyfuss       184966   \n",
       "7            7.9  Paul Thomas Anderson     Mark Wahlberg       239473   \n",
       "10           8.5        Michael Curtiz   Humphrey Bogart       522093   \n",
       "11           7.9          Duncan Jones      Sam Rockwell       335152   \n",
       "..           ...                   ...               ...          ...   \n",
       "287          7.6        George Stevens  Elizabeth Taylor        34075   \n",
       "289          8.0          Nicholas Ray   Humphrey Bogart        26784   \n",
       "295          8.1        Akira Kurosawa    Toshirô Mifune        46678   \n",
       "298          7.8      John Schlesinger    Dustin Hoffman       101124   \n",
       "299          7.7       Abhishek Kapoor         Amit Sadh        32628   \n",
       "\n",
       "           Gross  Metascore  \n",
       "0     29000000.0       92.0  \n",
       "3    132088635.0       90.0  \n",
       "7     26400640.0       85.0  \n",
       "10     1024560.0      100.0  \n",
       "11     5009677.0       67.0  \n",
       "..           ...        ...  \n",
       "287  195217415.0       84.0  \n",
       "289  532877349.0        NaN  \n",
       "295  612604239.0        NaN  \n",
       "298   44785053.0       79.0  \n",
       "299    1122527.0       40.0  \n",
       "\n",
       "[86 rows x 10 columns]"
      ]
     },
     "execution_count": 10,
     "metadata": {},
     "output_type": "execute_result"
    }
   ],
   "source": [
    "df[df['Genre']=='Drama']#Drama vako ma true"
   ]
  },
  {
   "cell_type": "code",
   "execution_count": 11,
   "id": "0e12d0e0-4eef-4f94-b31c-4a99e28917ba",
   "metadata": {},
   "outputs": [
    {
     "data": {
      "text/plain": [
       "0      130\n",
       "3      138\n",
       "7      155\n",
       "10     102\n",
       "11      97\n",
       "      ... \n",
       "287    201\n",
       "289     94\n",
       "295    110\n",
       "298    113\n",
       "299    130\n",
       "Name: Runtime, Length: 86, dtype: int64"
      ]
     },
     "execution_count": 11,
     "metadata": {},
     "output_type": "execute_result"
    }
   ],
   "source": [
    "df[df['Genre']=='Drama']['Runtime']"
   ]
  },
  {
   "cell_type": "code",
   "execution_count": 12,
   "id": "1e5cb4b4-91f2-42d5-915d-efb28f2c3ce8",
   "metadata": {},
   "outputs": [
    {
     "data": {
      "text/plain": [
       "np.float64(123.94186046511628)"
      ]
     },
     "execution_count": 12,
     "metadata": {},
     "output_type": "execute_result"
    }
   ],
   "source": [
    "df[df['Genre']=='Drama']['Runtime'].mean()"
   ]
  },
  {
   "cell_type": "code",
   "execution_count": 13,
   "id": "d978bc2e-998b-4b5e-bfa3-99aaf943a1e1",
   "metadata": {},
   "outputs": [
    {
     "data": {
      "text/plain": [
       "np.int64(238)"
      ]
     },
     "execution_count": 13,
     "metadata": {},
     "output_type": "execute_result"
    }
   ],
   "source": [
    "df[df['Genre']=='Drama']['Runtime'].max()"
   ]
  },
  {
   "cell_type": "code",
   "execution_count": 14,
   "id": "d5d143fe-268a-458f-9771-11467fd8b756",
   "metadata": {},
   "outputs": [
    {
     "data": {
      "text/plain": [
       "np.int64(80)"
      ]
     },
     "execution_count": 14,
     "metadata": {},
     "output_type": "execute_result"
    }
   ],
   "source": [
    "df[df['Genre']=='Drama']['Runtime'].min()"
   ]
  },
  {
   "cell_type": "markdown",
   "id": "2b9529aa-9030-4ce3-8642-25b41b891fa9",
   "metadata": {},
   "source": [
    "# Group By"
   ]
  },
  {
   "cell_type": "code",
   "execution_count": 15,
   "id": "c6fa4414-f0fc-4954-bca0-994ab590dd49",
   "metadata": {},
   "outputs": [
    {
     "data": {
      "text/html": [
       "<div>\n",
       "<style scoped>\n",
       "    .dataframe tbody tr th:only-of-type {\n",
       "        vertical-align: middle;\n",
       "    }\n",
       "\n",
       "    .dataframe tbody tr th {\n",
       "        vertical-align: top;\n",
       "    }\n",
       "\n",
       "    .dataframe thead th {\n",
       "        text-align: right;\n",
       "    }\n",
       "</style>\n",
       "<table border=\"1\" class=\"dataframe\">\n",
       "  <thead>\n",
       "    <tr style=\"text-align: right;\">\n",
       "      <th></th>\n",
       "      <th>Series_Title</th>\n",
       "      <th>Released_Year</th>\n",
       "      <th>Runtime</th>\n",
       "      <th>Genre</th>\n",
       "      <th>IMDB_Rating</th>\n",
       "      <th>Director</th>\n",
       "      <th>Star1</th>\n",
       "      <th>No_of_Votes</th>\n",
       "      <th>Gross</th>\n",
       "      <th>Metascore</th>\n",
       "    </tr>\n",
       "  </thead>\n",
       "  <tbody>\n",
       "    <tr>\n",
       "      <th>0</th>\n",
       "      <td>Chinatown</td>\n",
       "      <td>1974</td>\n",
       "      <td>130</td>\n",
       "      <td>Drama</td>\n",
       "      <td>8.1</td>\n",
       "      <td>Roman Polanski</td>\n",
       "      <td>Jack Nicholson</td>\n",
       "      <td>294230</td>\n",
       "      <td>29000000.0</td>\n",
       "      <td>92.0</td>\n",
       "    </tr>\n",
       "    <tr>\n",
       "      <th>1</th>\n",
       "      <td>The Girl with the Dragon Tattoo</td>\n",
       "      <td>2011</td>\n",
       "      <td>158</td>\n",
       "      <td>Crime</td>\n",
       "      <td>7.8</td>\n",
       "      <td>David Fincher</td>\n",
       "      <td>Daniel Craig</td>\n",
       "      <td>423010</td>\n",
       "      <td>102515793.0</td>\n",
       "      <td>71.0</td>\n",
       "    </tr>\n",
       "    <tr>\n",
       "      <th>2</th>\n",
       "      <td>Nueve reinas</td>\n",
       "      <td>2000</td>\n",
       "      <td>114</td>\n",
       "      <td>Crime</td>\n",
       "      <td>7.9</td>\n",
       "      <td>Fabián Bielinsky</td>\n",
       "      <td>Ricardo Darín</td>\n",
       "      <td>49721</td>\n",
       "      <td>1221261.0</td>\n",
       "      <td>80.0</td>\n",
       "    </tr>\n",
       "    <tr>\n",
       "      <th>3</th>\n",
       "      <td>Close Encounters of the Third Kind</td>\n",
       "      <td>1977</td>\n",
       "      <td>138</td>\n",
       "      <td>Drama</td>\n",
       "      <td>7.6</td>\n",
       "      <td>Steven Spielberg</td>\n",
       "      <td>Richard Dreyfuss</td>\n",
       "      <td>184966</td>\n",
       "      <td>132088635.0</td>\n",
       "      <td>90.0</td>\n",
       "    </tr>\n",
       "    <tr>\n",
       "      <th>4</th>\n",
       "      <td>Joker</td>\n",
       "      <td>2019</td>\n",
       "      <td>122</td>\n",
       "      <td>Crime</td>\n",
       "      <td>8.5</td>\n",
       "      <td>Todd Phillips</td>\n",
       "      <td>Joaquin Phoenix</td>\n",
       "      <td>939252</td>\n",
       "      <td>335451311.0</td>\n",
       "      <td>59.0</td>\n",
       "    </tr>\n",
       "    <tr>\n",
       "      <th>...</th>\n",
       "      <td>...</td>\n",
       "      <td>...</td>\n",
       "      <td>...</td>\n",
       "      <td>...</td>\n",
       "      <td>...</td>\n",
       "      <td>...</td>\n",
       "      <td>...</td>\n",
       "      <td>...</td>\n",
       "      <td>...</td>\n",
       "      <td>...</td>\n",
       "    </tr>\n",
       "    <tr>\n",
       "      <th>295</th>\n",
       "      <td>Kumonosu-jô</td>\n",
       "      <td>1957</td>\n",
       "      <td>110</td>\n",
       "      <td>Drama</td>\n",
       "      <td>8.1</td>\n",
       "      <td>Akira Kurosawa</td>\n",
       "      <td>Toshirô Mifune</td>\n",
       "      <td>46678</td>\n",
       "      <td>612604239.0</td>\n",
       "      <td>NaN</td>\n",
       "    </tr>\n",
       "    <tr>\n",
       "      <th>296</th>\n",
       "      <td>Falling Down</td>\n",
       "      <td>1993</td>\n",
       "      <td>113</td>\n",
       "      <td>Action</td>\n",
       "      <td>7.6</td>\n",
       "      <td>Joel Schumacher</td>\n",
       "      <td>Michael Douglas</td>\n",
       "      <td>171640</td>\n",
       "      <td>40903593.0</td>\n",
       "      <td>56.0</td>\n",
       "    </tr>\n",
       "    <tr>\n",
       "      <th>297</th>\n",
       "      <td>The Royal Tenenbaums</td>\n",
       "      <td>2001</td>\n",
       "      <td>110</td>\n",
       "      <td>Comedy</td>\n",
       "      <td>7.6</td>\n",
       "      <td>Wes Anderson</td>\n",
       "      <td>Gene Hackman</td>\n",
       "      <td>266842</td>\n",
       "      <td>52364010.0</td>\n",
       "      <td>76.0</td>\n",
       "    </tr>\n",
       "    <tr>\n",
       "      <th>298</th>\n",
       "      <td>Midnight Cowboy</td>\n",
       "      <td>1969</td>\n",
       "      <td>113</td>\n",
       "      <td>Drama</td>\n",
       "      <td>7.8</td>\n",
       "      <td>John Schlesinger</td>\n",
       "      <td>Dustin Hoffman</td>\n",
       "      <td>101124</td>\n",
       "      <td>44785053.0</td>\n",
       "      <td>79.0</td>\n",
       "    </tr>\n",
       "    <tr>\n",
       "      <th>299</th>\n",
       "      <td>Kai po che!</td>\n",
       "      <td>2013</td>\n",
       "      <td>130</td>\n",
       "      <td>Drama</td>\n",
       "      <td>7.7</td>\n",
       "      <td>Abhishek Kapoor</td>\n",
       "      <td>Amit Sadh</td>\n",
       "      <td>32628</td>\n",
       "      <td>1122527.0</td>\n",
       "      <td>40.0</td>\n",
       "    </tr>\n",
       "  </tbody>\n",
       "</table>\n",
       "<p>300 rows × 10 columns</p>\n",
       "</div>"
      ],
      "text/plain": [
       "                           Series_Title  Released_Year  Runtime   Genre  \\\n",
       "0                             Chinatown           1974      130   Drama   \n",
       "1       The Girl with the Dragon Tattoo           2011      158   Crime   \n",
       "2                          Nueve reinas           2000      114   Crime   \n",
       "3    Close Encounters of the Third Kind           1977      138   Drama   \n",
       "4                                 Joker           2019      122   Crime   \n",
       "..                                  ...            ...      ...     ...   \n",
       "295                         Kumonosu-jô           1957      110   Drama   \n",
       "296                        Falling Down           1993      113  Action   \n",
       "297                The Royal Tenenbaums           2001      110  Comedy   \n",
       "298                     Midnight Cowboy           1969      113   Drama   \n",
       "299                         Kai po che!           2013      130   Drama   \n",
       "\n",
       "     IMDB_Rating          Director             Star1  No_of_Votes  \\\n",
       "0            8.1    Roman Polanski    Jack Nicholson       294230   \n",
       "1            7.8     David Fincher      Daniel Craig       423010   \n",
       "2            7.9  Fabián Bielinsky     Ricardo Darín        49721   \n",
       "3            7.6  Steven Spielberg  Richard Dreyfuss       184966   \n",
       "4            8.5     Todd Phillips   Joaquin Phoenix       939252   \n",
       "..           ...               ...               ...          ...   \n",
       "295          8.1    Akira Kurosawa    Toshirô Mifune        46678   \n",
       "296          7.6   Joel Schumacher   Michael Douglas       171640   \n",
       "297          7.6      Wes Anderson      Gene Hackman       266842   \n",
       "298          7.8  John Schlesinger    Dustin Hoffman       101124   \n",
       "299          7.7   Abhishek Kapoor         Amit Sadh        32628   \n",
       "\n",
       "           Gross  Metascore  \n",
       "0     29000000.0       92.0  \n",
       "1    102515793.0       71.0  \n",
       "2      1221261.0       80.0  \n",
       "3    132088635.0       90.0  \n",
       "4    335451311.0       59.0  \n",
       "..           ...        ...  \n",
       "295  612604239.0        NaN  \n",
       "296   40903593.0       56.0  \n",
       "297   52364010.0       76.0  \n",
       "298   44785053.0       79.0  \n",
       "299    1122527.0       40.0  \n",
       "\n",
       "[300 rows x 10 columns]"
      ]
     },
     "execution_count": 15,
     "metadata": {},
     "output_type": "execute_result"
    }
   ],
   "source": [
    "df"
   ]
  },
  {
   "cell_type": "code",
   "execution_count": 16,
   "id": "7125eacc-51e4-48ca-9d24-447f40795c63",
   "metadata": {},
   "outputs": [],
   "source": [
    "grouped=df.groupby('Genre')"
   ]
  },
  {
   "cell_type": "code",
   "execution_count": 17,
   "id": "7b862a6a-905b-46b5-8ac7-464ebb3af82c",
   "metadata": {},
   "outputs": [
    {
     "data": {
      "text/plain": [
       "<pandas.core.groupby.generic.DataFrameGroupBy object at 0x0000019033B5B0E0>"
      ]
     },
     "execution_count": 17,
     "metadata": {},
     "output_type": "execute_result"
    }
   ],
   "source": [
    "grouped"
   ]
  },
  {
   "cell_type": "code",
   "execution_count": 18,
   "id": "99042de2-30f9-4619-968a-4c857150b01b",
   "metadata": {},
   "outputs": [
    {
     "data": {
      "text/plain": [
       "Genre\n",
       "Action       7.964000\n",
       "Adventure    7.907692\n",
       "Animation    7.982759\n",
       "Biography    7.951724\n",
       "Comedy       7.842000\n",
       "Crime        8.137838\n",
       "Drama        7.965116\n",
       "Fantasy      8.100000\n",
       "Film-Noir    8.100000\n",
       "Horror       7.700000\n",
       "Mystery      7.600000\n",
       "Western      8.500000\n",
       "Name: IMDB_Rating, dtype: float64"
      ]
     },
     "execution_count": 18,
     "metadata": {},
     "output_type": "execute_result"
    }
   ],
   "source": [
    "grouped['IMDB_Rating'].mean()"
   ]
  },
  {
   "cell_type": "code",
   "execution_count": 19,
   "id": "f8ff9e9e-be34-434c-924f-3a8f0f1857d0",
   "metadata": {},
   "outputs": [
    {
     "data": {
      "text/plain": [
       "Genre\n",
       "Western      8.500000\n",
       "Crime        8.137838\n",
       "Fantasy      8.100000\n",
       "Film-Noir    8.100000\n",
       "Animation    7.982759\n",
       "Drama        7.965116\n",
       "Action       7.964000\n",
       "Biography    7.951724\n",
       "Adventure    7.907692\n",
       "Comedy       7.842000\n",
       "Horror       7.700000\n",
       "Mystery      7.600000\n",
       "Name: IMDB_Rating, dtype: float64"
      ]
     },
     "execution_count": 19,
     "metadata": {},
     "output_type": "execute_result"
    }
   ],
   "source": [
    "grouped['IMDB_Rating'].mean().sort_values(ascending=False)"
   ]
  },
  {
   "cell_type": "code",
   "execution_count": 20,
   "id": "0a131a3c-bc58-4a98-ba04-8ea84f5bcfed",
   "metadata": {},
   "outputs": [
    {
     "data": {
      "text/plain": [
       "Genre\n",
       "Western      8.500000\n",
       "Crime        8.137838\n",
       "Fantasy      8.100000\n",
       "Film-Noir    8.100000\n",
       "Animation    7.982759\n",
       "Name: IMDB_Rating, dtype: float64"
      ]
     },
     "execution_count": 20,
     "metadata": {},
     "output_type": "execute_result"
    }
   ],
   "source": [
    "grouped['IMDB_Rating'].mean().sort_values(ascending=False).head()"
   ]
  },
  {
   "cell_type": "code",
   "execution_count": 21,
   "id": "db1ba7fd-6627-430e-8105-51ba90e94a75",
   "metadata": {},
   "outputs": [
    {
     "data": {
      "text/plain": [
       "<Axes: xlabel='Genre'>"
      ]
     },
     "execution_count": 21,
     "metadata": {},
     "output_type": "execute_result"
    },
    {
     "data": {
      "image/png": "[encoded data removed]",
      "text/plain": [
       "<Figure size 640x480 with 1 Axes>"
      ]
     },
     "metadata": {},
     "output_type": "display_data"
    }
   ],
   "source": [
    "grouped['IMDB_Rating'].mean().sort_values(ascending=False).head().plot(kind='bar')"
   ]
  },
  {
   "cell_type": "markdown",
   "id": "1d607fb2-0513-4060-981a-27d771485b0d",
   "metadata": {},
   "source": [
    "#### Average runtime of different genre"
   ]
  },
  {
   "cell_type": "code",
   "execution_count": 22,
   "id": "456ad543-21f3-425f-90bb-830cf97697e0",
   "metadata": {},
   "outputs": [
    {
     "data": {
      "text/plain": [
       "Genre\n",
       "Action       136.860000\n",
       "Adventure    136.692308\n",
       "Animation     98.448276\n",
       "Biography    137.000000\n",
       "Comedy       112.180000\n",
       "Crime        130.054054\n",
       "Drama        123.941860\n",
       "Fantasy       76.000000\n",
       "Film-Noir    104.000000\n",
       "Horror       101.500000\n",
       "Mystery      100.000000\n",
       "Western      165.000000\n",
       "Name: Runtime, dtype: float64"
      ]
     },
     "execution_count": 22,
     "metadata": {},
     "output_type": "execute_result"
    }
   ],
   "source": [
    "grouped['Runtime'].mean()"
   ]
  },
  {
   "cell_type": "code",
   "execution_count": 23,
   "id": "adcc823e-a79a-4ce4-943a-4a570dc58b06",
   "metadata": {},
   "outputs": [
    {
     "data": {
      "text/plain": [
       "Genre\n",
       "Western      165.000000\n",
       "Biography    137.000000\n",
       "Action       136.860000\n",
       "Adventure    136.692308\n",
       "Crime        130.054054\n",
       "Name: Runtime, dtype: float64"
      ]
     },
     "execution_count": 23,
     "metadata": {},
     "output_type": "execute_result"
    }
   ],
   "source": [
    "grouped['Runtime'].mean().sort_values(ascending=False).head()"
   ]
  },
  {
   "cell_type": "code",
   "execution_count": 24,
   "id": "4ff83d82-f6e7-4260-b844-1332507af722",
   "metadata": {},
   "outputs": [
    {
     "data": {
      "text/plain": [
       "<Axes: xlabel='Genre'>"
      ]
     },
     "execution_count": 24,
     "metadata": {},
     "output_type": "execute_result"
    },
    {
     "data": {
      "image/png": "[encoded data removed]",
      "text/plain": [
       "<Figure size 640x480 with 1 Axes>"
      ]
     },
     "metadata": {},
     "output_type": "display_data"
    }
   ],
   "source": [
    "grouped['Runtime'].mean().sort_values(ascending=False).head().plot(kind='bar')"
   ]
  },
  {
   "cell_type": "code",
   "execution_count": 27,
   "id": "1a281bfe-a048-4387-a14d-5eeb1d2b1f5f",
   "metadata": {},
   "outputs": [
    {
     "data": {
      "text/plain": [
       "Genre\n",
       "Action       50\n",
       "Adventure    13\n",
       "Animation    29\n",
       "Biography    29\n",
       "Comedy       50\n",
       "Crime        37\n",
       "Drama        86\n",
       "Fantasy       1\n",
       "Film-Noir     1\n",
       "Horror        2\n",
       "Mystery       1\n",
       "Western       1\n",
       "Name: count, dtype: int64"
      ]
     },
     "execution_count": 27,
     "metadata": {},
     "output_type": "execute_result"
    }
   ],
   "source": [
    "df.Genre.value_counts().sort_index()"
   ]
  },
  {
   "cell_type": "code",
   "execution_count": 28,
   "id": "c1a06369-85b1-4232-bcd6-3ca16ce2aa38",
   "metadata": {},
   "outputs": [
    {
     "data": {
      "text/plain": [
       "<Axes: xlabel='Genre'>"
      ]
     },
     "execution_count": 28,
     "metadata": {},
     "output_type": "execute_result"
    },
    {
     "data": {
      "image/png": "[encoded data removed]",
      "text/plain": [
       "<Figure size 640x480 with 1 Axes>"
      ]
     },
     "metadata": {},
     "output_type": "display_data"
    }
   ],
   "source": [
    "df.Genre.value_counts().sort_index().plot(kind='bar')"
   ]
  },
  {
   "cell_type": "code",
   "execution_count": 29,
   "id": "760ee7ad-9a36-4517-8a1d-4a80873e5b39",
   "metadata": {},
   "outputs": [
    {
     "data": {
      "text/plain": [
       "Genre\n",
       "Action       321\n",
       "Adventure    212\n",
       "Animation    137\n",
       "Biography    186\n",
       "Comedy       188\n",
       "Crime        189\n",
       "Drama        238\n",
       "Fantasy       76\n",
       "Film-Noir    104\n",
       "Horror       103\n",
       "Mystery      100\n",
       "Western      165\n",
       "Name: Runtime, dtype: int64"
      ]
     },
     "execution_count": 29,
     "metadata": {},
     "output_type": "execute_result"
    }
   ],
   "source": [
    "grouped['Runtime'].max()"
   ]
  },
  {
   "cell_type": "markdown",
   "id": "9680d317-088d-4dbc-a7d1-0d418a73c14e",
   "metadata": {},
   "source": [
    "#### aggregate result on 2 or more columns"
   ]
  },
  {
   "cell_type": "code",
   "execution_count": null,
   "id": "798b5755-786f-4dcb-ae0c-bb3e038d49ba",
   "metadata": {},
   "outputs": [],
   "source": [
    "# groupd.agg({'column2':'sum','Column3':'mean'})"
   ]
  },
  {
   "cell_type": "code",
   "execution_count": 30,
   "id": "8ddcee25-54c4-479c-94b7-0cb91441621e",
   "metadata": {},
   "outputs": [
    {
     "data": {
      "text/html": [
       "<div>\n",
       "<style scoped>\n",
       "    .dataframe tbody tr th:only-of-type {\n",
       "        vertical-align: middle;\n",
       "    }\n",
       "\n",
       "    .dataframe tbody tr th {\n",
       "        vertical-align: top;\n",
       "    }\n",
       "\n",
       "    .dataframe thead th {\n",
       "        text-align: right;\n",
       "    }\n",
       "</style>\n",
       "<table border=\"1\" class=\"dataframe\">\n",
       "  <thead>\n",
       "    <tr style=\"text-align: right;\">\n",
       "      <th></th>\n",
       "      <th>Runtime</th>\n",
       "      <th>IMDB_Rating</th>\n",
       "      <th>Gross</th>\n",
       "    </tr>\n",
       "    <tr>\n",
       "      <th>Genre</th>\n",
       "      <th></th>\n",
       "      <th></th>\n",
       "      <th></th>\n",
       "    </tr>\n",
       "  </thead>\n",
       "  <tbody>\n",
       "    <tr>\n",
       "      <th>Action</th>\n",
       "      <td>136.860000</td>\n",
       "      <td>9.0</td>\n",
       "      <td>100119.0</td>\n",
       "    </tr>\n",
       "    <tr>\n",
       "      <th>Adventure</th>\n",
       "      <td>136.692308</td>\n",
       "      <td>8.3</td>\n",
       "      <td>1037847.0</td>\n",
       "    </tr>\n",
       "    <tr>\n",
       "      <th>Animation</th>\n",
       "      <td>98.448276</td>\n",
       "      <td>8.6</td>\n",
       "      <td>151086.0</td>\n",
       "    </tr>\n",
       "    <tr>\n",
       "      <th>Biography</th>\n",
       "      <td>137.000000</td>\n",
       "      <td>8.6</td>\n",
       "      <td>21877.0</td>\n",
       "    </tr>\n",
       "    <tr>\n",
       "      <th>Comedy</th>\n",
       "      <td>112.180000</td>\n",
       "      <td>8.3</td>\n",
       "      <td>1305.0</td>\n",
       "    </tr>\n",
       "    <tr>\n",
       "      <th>Crime</th>\n",
       "      <td>130.054054</td>\n",
       "      <td>9.2</td>\n",
       "      <td>28877.0</td>\n",
       "    </tr>\n",
       "    <tr>\n",
       "      <th>Drama</th>\n",
       "      <td>123.941860</td>\n",
       "      <td>8.8</td>\n",
       "      <td>50690.0</td>\n",
       "    </tr>\n",
       "    <tr>\n",
       "      <th>Fantasy</th>\n",
       "      <td>76.000000</td>\n",
       "      <td>8.1</td>\n",
       "      <td>337574718.0</td>\n",
       "    </tr>\n",
       "    <tr>\n",
       "      <th>Film-Noir</th>\n",
       "      <td>104.000000</td>\n",
       "      <td>8.1</td>\n",
       "      <td>449191.0</td>\n",
       "    </tr>\n",
       "    <tr>\n",
       "      <th>Horror</th>\n",
       "      <td>101.500000</td>\n",
       "      <td>7.8</td>\n",
       "      <td>2616000.0</td>\n",
       "    </tr>\n",
       "    <tr>\n",
       "      <th>Mystery</th>\n",
       "      <td>100.000000</td>\n",
       "      <td>7.6</td>\n",
       "      <td>14378331.0</td>\n",
       "    </tr>\n",
       "    <tr>\n",
       "      <th>Western</th>\n",
       "      <td>165.000000</td>\n",
       "      <td>8.5</td>\n",
       "      <td>5321508.0</td>\n",
       "    </tr>\n",
       "  </tbody>\n",
       "</table>\n",
       "</div>"
      ],
      "text/plain": [
       "              Runtime  IMDB_Rating        Gross\n",
       "Genre                                          \n",
       "Action     136.860000          9.0     100119.0\n",
       "Adventure  136.692308          8.3    1037847.0\n",
       "Animation   98.448276          8.6     151086.0\n",
       "Biography  137.000000          8.6      21877.0\n",
       "Comedy     112.180000          8.3       1305.0\n",
       "Crime      130.054054          9.2      28877.0\n",
       "Drama      123.941860          8.8      50690.0\n",
       "Fantasy     76.000000          8.1  337574718.0\n",
       "Film-Noir  104.000000          8.1     449191.0\n",
       "Horror     101.500000          7.8    2616000.0\n",
       "Mystery    100.000000          7.6   14378331.0\n",
       "Western    165.000000          8.5    5321508.0"
      ]
     },
     "execution_count": 30,
     "metadata": {},
     "output_type": "execute_result"
    }
   ],
   "source": [
    "grouped.agg({'Runtime':'mean','IMDB_Rating':'max','Gross':'min'})"
   ]
  },
  {
   "cell_type": "code",
   "execution_count": 31,
   "id": "19d3be34-0755-4ea7-88a9-69a0d82846eb",
   "metadata": {},
   "outputs": [
    {
     "data": {
      "text/html": [
       "<div>\n",
       "<style scoped>\n",
       "    .dataframe tbody tr th:only-of-type {\n",
       "        vertical-align: middle;\n",
       "    }\n",
       "\n",
       "    .dataframe tbody tr th {\n",
       "        vertical-align: top;\n",
       "    }\n",
       "\n",
       "    .dataframe thead th {\n",
       "        text-align: right;\n",
       "    }\n",
       "</style>\n",
       "<table border=\"1\" class=\"dataframe\">\n",
       "  <thead>\n",
       "    <tr style=\"text-align: right;\">\n",
       "      <th></th>\n",
       "      <th>Runtime</th>\n",
       "      <th>IMDB_Rating</th>\n",
       "      <th>Gross</th>\n",
       "    </tr>\n",
       "    <tr>\n",
       "      <th>Genre</th>\n",
       "      <th></th>\n",
       "      <th></th>\n",
       "      <th></th>\n",
       "    </tr>\n",
       "  </thead>\n",
       "  <tbody>\n",
       "    <tr>\n",
       "      <th>Action</th>\n",
       "      <td>136.860000</td>\n",
       "      <td>9.0</td>\n",
       "      <td>100119.0</td>\n",
       "    </tr>\n",
       "    <tr>\n",
       "      <th>Adventure</th>\n",
       "      <td>136.692308</td>\n",
       "      <td>8.3</td>\n",
       "      <td>1037847.0</td>\n",
       "    </tr>\n",
       "    <tr>\n",
       "      <th>Animation</th>\n",
       "      <td>98.448276</td>\n",
       "      <td>8.6</td>\n",
       "      <td>151086.0</td>\n",
       "    </tr>\n",
       "    <tr>\n",
       "      <th>Biography</th>\n",
       "      <td>137.000000</td>\n",
       "      <td>8.6</td>\n",
       "      <td>21877.0</td>\n",
       "    </tr>\n",
       "    <tr>\n",
       "      <th>Comedy</th>\n",
       "      <td>112.180000</td>\n",
       "      <td>8.3</td>\n",
       "      <td>1305.0</td>\n",
       "    </tr>\n",
       "  </tbody>\n",
       "</table>\n",
       "</div>"
      ],
      "text/plain": [
       "              Runtime  IMDB_Rating      Gross\n",
       "Genre                                        \n",
       "Action     136.860000          9.0   100119.0\n",
       "Adventure  136.692308          8.3  1037847.0\n",
       "Animation   98.448276          8.6   151086.0\n",
       "Biography  137.000000          8.6    21877.0\n",
       "Comedy     112.180000          8.3     1305.0"
      ]
     },
     "execution_count": 31,
     "metadata": {},
     "output_type": "execute_result"
    }
   ],
   "source": [
    "grouped.agg({'Runtime':'mean','IMDB_Rating':'max','Gross':'min'}).head()"
   ]
  },
  {
   "cell_type": "code",
   "execution_count": 32,
   "id": "2b6cbedd-9fab-4b22-9c69-c9cce796e9df",
   "metadata": {},
   "outputs": [
    {
     "data": {
      "text/html": [
       "<div>\n",
       "<style scoped>\n",
       "    .dataframe tbody tr th:only-of-type {\n",
       "        vertical-align: middle;\n",
       "    }\n",
       "\n",
       "    .dataframe tbody tr th {\n",
       "        vertical-align: top;\n",
       "    }\n",
       "\n",
       "    .dataframe thead th {\n",
       "        text-align: right;\n",
       "    }\n",
       "</style>\n",
       "<table border=\"1\" class=\"dataframe\">\n",
       "  <thead>\n",
       "    <tr style=\"text-align: right;\">\n",
       "      <th></th>\n",
       "      <th>Genre</th>\n",
       "      <th>Runtime</th>\n",
       "      <th>IMDB_Rating</th>\n",
       "      <th>Gross</th>\n",
       "    </tr>\n",
       "  </thead>\n",
       "  <tbody>\n",
       "    <tr>\n",
       "      <th>0</th>\n",
       "      <td>Action</td>\n",
       "      <td>136.860000</td>\n",
       "      <td>9.0</td>\n",
       "      <td>100119.0</td>\n",
       "    </tr>\n",
       "    <tr>\n",
       "      <th>1</th>\n",
       "      <td>Adventure</td>\n",
       "      <td>136.692308</td>\n",
       "      <td>8.3</td>\n",
       "      <td>1037847.0</td>\n",
       "    </tr>\n",
       "    <tr>\n",
       "      <th>2</th>\n",
       "      <td>Animation</td>\n",
       "      <td>98.448276</td>\n",
       "      <td>8.6</td>\n",
       "      <td>151086.0</td>\n",
       "    </tr>\n",
       "    <tr>\n",
       "      <th>3</th>\n",
       "      <td>Biography</td>\n",
       "      <td>137.000000</td>\n",
       "      <td>8.6</td>\n",
       "      <td>21877.0</td>\n",
       "    </tr>\n",
       "    <tr>\n",
       "      <th>4</th>\n",
       "      <td>Comedy</td>\n",
       "      <td>112.180000</td>\n",
       "      <td>8.3</td>\n",
       "      <td>1305.0</td>\n",
       "    </tr>\n",
       "    <tr>\n",
       "      <th>5</th>\n",
       "      <td>Crime</td>\n",
       "      <td>130.054054</td>\n",
       "      <td>9.2</td>\n",
       "      <td>28877.0</td>\n",
       "    </tr>\n",
       "    <tr>\n",
       "      <th>6</th>\n",
       "      <td>Drama</td>\n",
       "      <td>123.941860</td>\n",
       "      <td>8.8</td>\n",
       "      <td>50690.0</td>\n",
       "    </tr>\n",
       "    <tr>\n",
       "      <th>7</th>\n",
       "      <td>Fantasy</td>\n",
       "      <td>76.000000</td>\n",
       "      <td>8.1</td>\n",
       "      <td>337574718.0</td>\n",
       "    </tr>\n",
       "    <tr>\n",
       "      <th>8</th>\n",
       "      <td>Film-Noir</td>\n",
       "      <td>104.000000</td>\n",
       "      <td>8.1</td>\n",
       "      <td>449191.0</td>\n",
       "    </tr>\n",
       "    <tr>\n",
       "      <th>9</th>\n",
       "      <td>Horror</td>\n",
       "      <td>101.500000</td>\n",
       "      <td>7.8</td>\n",
       "      <td>2616000.0</td>\n",
       "    </tr>\n",
       "    <tr>\n",
       "      <th>10</th>\n",
       "      <td>Mystery</td>\n",
       "      <td>100.000000</td>\n",
       "      <td>7.6</td>\n",
       "      <td>14378331.0</td>\n",
       "    </tr>\n",
       "    <tr>\n",
       "      <th>11</th>\n",
       "      <td>Western</td>\n",
       "      <td>165.000000</td>\n",
       "      <td>8.5</td>\n",
       "      <td>5321508.0</td>\n",
       "    </tr>\n",
       "  </tbody>\n",
       "</table>\n",
       "</div>"
      ],
      "text/plain": [
       "        Genre     Runtime  IMDB_Rating        Gross\n",
       "0      Action  136.860000          9.0     100119.0\n",
       "1   Adventure  136.692308          8.3    1037847.0\n",
       "2   Animation   98.448276          8.6     151086.0\n",
       "3   Biography  137.000000          8.6      21877.0\n",
       "4      Comedy  112.180000          8.3       1305.0\n",
       "5       Crime  130.054054          9.2      28877.0\n",
       "6       Drama  123.941860          8.8      50690.0\n",
       "7     Fantasy   76.000000          8.1  337574718.0\n",
       "8   Film-Noir  104.000000          8.1     449191.0\n",
       "9      Horror  101.500000          7.8    2616000.0\n",
       "10    Mystery  100.000000          7.6   14378331.0\n",
       "11    Western  165.000000          8.5    5321508.0"
      ]
     },
     "execution_count": 32,
     "metadata": {},
     "output_type": "execute_result"
    }
   ],
   "source": [
    "grouped.agg({'Runtime':'mean','IMDB_Rating':'max','Gross':'min'}).reset_index()"
   ]
  },
  {
   "cell_type": "code",
   "execution_count": 35,
   "id": "1365f5ee-0e16-4609-801b-91a19a8607a0",
   "metadata": {},
   "outputs": [],
   "source": [
    "agg_data=grouped.agg({'Runtime':['mean','max','mean'],'IMDB_Rating':['mean','max']})"
   ]
  },
  {
   "cell_type": "code",
   "execution_count": 36,
   "id": "fb870f6a-9c38-4924-8d3f-a1fb7cfeb594",
   "metadata": {},
   "outputs": [],
   "source": [
    "agg_data.to_csv('agg_result.csv')"
   ]
  },
  {
   "cell_type": "code",
   "execution_count": 38,
   "id": "6bb7fc12-d6b3-4ea3-83c3-512cc34abbc5",
   "metadata": {},
   "outputs": [
    {
     "data": {
      "text/html": [
       "<div>\n",
       "<style scoped>\n",
       "    .dataframe tbody tr th:only-of-type {\n",
       "        vertical-align: middle;\n",
       "    }\n",
       "\n",
       "    .dataframe tbody tr th {\n",
       "        vertical-align: top;\n",
       "    }\n",
       "\n",
       "    .dataframe thead th {\n",
       "        text-align: right;\n",
       "    }\n",
       "</style>\n",
       "<table border=\"1\" class=\"dataframe\">\n",
       "  <thead>\n",
       "    <tr style=\"text-align: right;\">\n",
       "      <th></th>\n",
       "      <th>Unnamed: 0</th>\n",
       "      <th>Runtime</th>\n",
       "      <th>Runtime.1</th>\n",
       "      <th>Runtime.2</th>\n",
       "      <th>IMDB_Rating</th>\n",
       "      <th>IMDB_Rating.1</th>\n",
       "    </tr>\n",
       "  </thead>\n",
       "  <tbody>\n",
       "    <tr>\n",
       "      <th>0</th>\n",
       "      <td>NaN</td>\n",
       "      <td>mean</td>\n",
       "      <td>max</td>\n",
       "      <td>mean</td>\n",
       "      <td>mean</td>\n",
       "      <td>max</td>\n",
       "    </tr>\n",
       "    <tr>\n",
       "      <th>1</th>\n",
       "      <td>Genre</td>\n",
       "      <td>NaN</td>\n",
       "      <td>NaN</td>\n",
       "      <td>NaN</td>\n",
       "      <td>NaN</td>\n",
       "      <td>NaN</td>\n",
       "    </tr>\n",
       "    <tr>\n",
       "      <th>2</th>\n",
       "      <td>Action</td>\n",
       "      <td>136.86</td>\n",
       "      <td>321</td>\n",
       "      <td>136.86</td>\n",
       "      <td>7.9639999999999995</td>\n",
       "      <td>9.0</td>\n",
       "    </tr>\n",
       "    <tr>\n",
       "      <th>3</th>\n",
       "      <td>Adventure</td>\n",
       "      <td>136.69230769230768</td>\n",
       "      <td>212</td>\n",
       "      <td>136.69230769230768</td>\n",
       "      <td>7.907692307692307</td>\n",
       "      <td>8.3</td>\n",
       "    </tr>\n",
       "    <tr>\n",
       "      <th>4</th>\n",
       "      <td>Animation</td>\n",
       "      <td>98.44827586206897</td>\n",
       "      <td>137</td>\n",
       "      <td>98.44827586206897</td>\n",
       "      <td>7.982758620689655</td>\n",
       "      <td>8.6</td>\n",
       "    </tr>\n",
       "    <tr>\n",
       "      <th>5</th>\n",
       "      <td>Biography</td>\n",
       "      <td>137.0</td>\n",
       "      <td>186</td>\n",
       "      <td>137.0</td>\n",
       "      <td>7.951724137931034</td>\n",
       "      <td>8.6</td>\n",
       "    </tr>\n",
       "    <tr>\n",
       "      <th>6</th>\n",
       "      <td>Comedy</td>\n",
       "      <td>112.18</td>\n",
       "      <td>188</td>\n",
       "      <td>112.18</td>\n",
       "      <td>7.8420000000000005</td>\n",
       "      <td>8.3</td>\n",
       "    </tr>\n",
       "    <tr>\n",
       "      <th>7</th>\n",
       "      <td>Crime</td>\n",
       "      <td>130.05405405405406</td>\n",
       "      <td>189</td>\n",
       "      <td>130.05405405405406</td>\n",
       "      <td>8.13783783783784</td>\n",
       "      <td>9.2</td>\n",
       "    </tr>\n",
       "    <tr>\n",
       "      <th>8</th>\n",
       "      <td>Drama</td>\n",
       "      <td>123.94186046511628</td>\n",
       "      <td>238</td>\n",
       "      <td>123.94186046511628</td>\n",
       "      <td>7.965116279069767</td>\n",
       "      <td>8.8</td>\n",
       "    </tr>\n",
       "    <tr>\n",
       "      <th>9</th>\n",
       "      <td>Fantasy</td>\n",
       "      <td>76.0</td>\n",
       "      <td>76</td>\n",
       "      <td>76.0</td>\n",
       "      <td>8.1</td>\n",
       "      <td>8.1</td>\n",
       "    </tr>\n",
       "    <tr>\n",
       "      <th>10</th>\n",
       "      <td>Film-Noir</td>\n",
       "      <td>104.0</td>\n",
       "      <td>104</td>\n",
       "      <td>104.0</td>\n",
       "      <td>8.1</td>\n",
       "      <td>8.1</td>\n",
       "    </tr>\n",
       "    <tr>\n",
       "      <th>11</th>\n",
       "      <td>Horror</td>\n",
       "      <td>101.5</td>\n",
       "      <td>103</td>\n",
       "      <td>101.5</td>\n",
       "      <td>7.699999999999999</td>\n",
       "      <td>7.8</td>\n",
       "    </tr>\n",
       "    <tr>\n",
       "      <th>12</th>\n",
       "      <td>Mystery</td>\n",
       "      <td>100.0</td>\n",
       "      <td>100</td>\n",
       "      <td>100.0</td>\n",
       "      <td>7.6</td>\n",
       "      <td>7.6</td>\n",
       "    </tr>\n",
       "    <tr>\n",
       "      <th>13</th>\n",
       "      <td>Western</td>\n",
       "      <td>165.0</td>\n",
       "      <td>165</td>\n",
       "      <td>165.0</td>\n",
       "      <td>8.5</td>\n",
       "      <td>8.5</td>\n",
       "    </tr>\n",
       "  </tbody>\n",
       "</table>\n",
       "</div>"
      ],
      "text/plain": [
       "   Unnamed: 0             Runtime Runtime.1           Runtime.2  \\\n",
       "0         NaN                mean       max                mean   \n",
       "1       Genre                 NaN       NaN                 NaN   \n",
       "2      Action              136.86       321              136.86   \n",
       "3   Adventure  136.69230769230768       212  136.69230769230768   \n",
       "4   Animation   98.44827586206897       137   98.44827586206897   \n",
       "5   Biography               137.0       186               137.0   \n",
       "6      Comedy              112.18       188              112.18   \n",
       "7       Crime  130.05405405405406       189  130.05405405405406   \n",
       "8       Drama  123.94186046511628       238  123.94186046511628   \n",
       "9     Fantasy                76.0        76                76.0   \n",
       "10  Film-Noir               104.0       104               104.0   \n",
       "11     Horror               101.5       103               101.5   \n",
       "12    Mystery               100.0       100               100.0   \n",
       "13    Western               165.0       165               165.0   \n",
       "\n",
       "           IMDB_Rating IMDB_Rating.1  \n",
       "0                 mean           max  \n",
       "1                  NaN           NaN  \n",
       "2   7.9639999999999995           9.0  \n",
       "3    7.907692307692307           8.3  \n",
       "4    7.982758620689655           8.6  \n",
       "5    7.951724137931034           8.6  \n",
       "6   7.8420000000000005           8.3  \n",
       "7     8.13783783783784           9.2  \n",
       "8    7.965116279069767           8.8  \n",
       "9                  8.1           8.1  \n",
       "10                 8.1           8.1  \n",
       "11   7.699999999999999           7.8  \n",
       "12                 7.6           7.6  \n",
       "13                 8.5           8.5  "
      ]
     },
     "execution_count": 38,
     "metadata": {},
     "output_type": "execute_result"
    }
   ],
   "source": [
    "pd.read_csv(r\"C:\\Users\\DELL\\Desktop\\Sipalaya Data Science\\day_9\\agg_result.csv\")"
   ]
  },
  {
   "cell_type": "markdown",
   "id": "4b88940f-b3ce-4533-bae8-3c6c2bd056d9",
   "metadata": {},
   "source": [
    "### Director with maximum number of movies"
   ]
  },
  {
   "cell_type": "code",
   "execution_count": 39,
   "id": "fe110be7-0c37-4ea4-94d6-149e49e6c818",
   "metadata": {},
   "outputs": [
    {
     "data": {
      "text/plain": [
       "Director\n",
       "Aamir Khan             1\n",
       "Abdellatif Kechiche    1\n",
       "Abhishek Kapoor        1\n",
       "Adam McKay             1\n",
       "Aditya Dhar            1\n",
       "                      ..\n",
       "Yash Chopra            1\n",
       "Yasujirô Ozu           1\n",
       "Yimou Zhang            1\n",
       "Yoshiaki Kawajiri      1\n",
       "Zoya Akhtar            2\n",
       "Name: Runtime, Length: 222, dtype: int64"
      ]
     },
     "execution_count": 39,
     "metadata": {},
     "output_type": "execute_result"
    }
   ],
   "source": [
    "df.groupby('Director')['Runtime'].count()"
   ]
  },
  {
   "cell_type": "code",
   "execution_count": 41,
   "id": "427512fb-3574-4b6b-9ca8-2293f7401d4c",
   "metadata": {},
   "outputs": [
    {
     "data": {
      "text/plain": [
       "<Axes: xlabel='Director'>"
      ]
     },
     "execution_count": 41,
     "metadata": {},
     "output_type": "execute_result"
    },
    {
     "data": {
      "image/png": "[encoded data removed]",
      "text/plain": [
       "<Figure size 640x480 with 1 Axes>"
      ]
     },
     "metadata": {},
     "output_type": "display_data"
    }
   ],
   "source": [
    "df.groupby('Director')['Runtime'].count().sort_values(ascending=False).head(10).plot(kind='bar')"
   ]
  },
  {
   "cell_type": "markdown",
   "id": "b534b556-eff7-439c-8427-0d91be10d85e",
   "metadata": {},
   "source": [
    "### Pivotings"
   ]
  },
  {
   "cell_type": "code",
   "execution_count": 43,
   "id": "a95635dc-c507-49fe-8375-4d5500ba9112",
   "metadata": {},
   "outputs": [
    {
     "data": {
      "text/html": [
       "<div>\n",
       "<style scoped>\n",
       "    .dataframe tbody tr th:only-of-type {\n",
       "        vertical-align: middle;\n",
       "    }\n",
       "\n",
       "    .dataframe tbody tr th {\n",
       "        vertical-align: top;\n",
       "    }\n",
       "\n",
       "    .dataframe thead th {\n",
       "        text-align: right;\n",
       "    }\n",
       "</style>\n",
       "<table border=\"1\" class=\"dataframe\">\n",
       "  <thead>\n",
       "    <tr style=\"text-align: right;\">\n",
       "      <th></th>\n",
       "      <th>IMDB_Rating</th>\n",
       "      <th>Runtime</th>\n",
       "    </tr>\n",
       "    <tr>\n",
       "      <th>Genre</th>\n",
       "      <th></th>\n",
       "      <th></th>\n",
       "    </tr>\n",
       "  </thead>\n",
       "  <tbody>\n",
       "    <tr>\n",
       "      <th>Action</th>\n",
       "      <td>9.0</td>\n",
       "      <td>321</td>\n",
       "    </tr>\n",
       "    <tr>\n",
       "      <th>Adventure</th>\n",
       "      <td>8.3</td>\n",
       "      <td>212</td>\n",
       "    </tr>\n",
       "    <tr>\n",
       "      <th>Animation</th>\n",
       "      <td>8.6</td>\n",
       "      <td>137</td>\n",
       "    </tr>\n",
       "    <tr>\n",
       "      <th>Biography</th>\n",
       "      <td>8.6</td>\n",
       "      <td>186</td>\n",
       "    </tr>\n",
       "    <tr>\n",
       "      <th>Comedy</th>\n",
       "      <td>8.3</td>\n",
       "      <td>188</td>\n",
       "    </tr>\n",
       "    <tr>\n",
       "      <th>Crime</th>\n",
       "      <td>9.2</td>\n",
       "      <td>189</td>\n",
       "    </tr>\n",
       "    <tr>\n",
       "      <th>Drama</th>\n",
       "      <td>8.8</td>\n",
       "      <td>238</td>\n",
       "    </tr>\n",
       "    <tr>\n",
       "      <th>Fantasy</th>\n",
       "      <td>8.1</td>\n",
       "      <td>76</td>\n",
       "    </tr>\n",
       "    <tr>\n",
       "      <th>Film-Noir</th>\n",
       "      <td>8.1</td>\n",
       "      <td>104</td>\n",
       "    </tr>\n",
       "    <tr>\n",
       "      <th>Horror</th>\n",
       "      <td>7.8</td>\n",
       "      <td>103</td>\n",
       "    </tr>\n",
       "    <tr>\n",
       "      <th>Mystery</th>\n",
       "      <td>7.6</td>\n",
       "      <td>100</td>\n",
       "    </tr>\n",
       "    <tr>\n",
       "      <th>Western</th>\n",
       "      <td>8.5</td>\n",
       "      <td>165</td>\n",
       "    </tr>\n",
       "    <tr>\n",
       "      <th>All</th>\n",
       "      <td>9.2</td>\n",
       "      <td>321</td>\n",
       "    </tr>\n",
       "  </tbody>\n",
       "</table>\n",
       "</div>"
      ],
      "text/plain": [
       "           IMDB_Rating  Runtime\n",
       "Genre                          \n",
       "Action             9.0      321\n",
       "Adventure          8.3      212\n",
       "Animation          8.6      137\n",
       "Biography          8.6      186\n",
       "Comedy             8.3      188\n",
       "Crime              9.2      189\n",
       "Drama              8.8      238\n",
       "Fantasy            8.1       76\n",
       "Film-Noir          8.1      104\n",
       "Horror             7.8      103\n",
       "Mystery            7.6      100\n",
       "Western            8.5      165\n",
       "All                9.2      321"
      ]
     },
     "execution_count": 43,
     "metadata": {},
     "output_type": "execute_result"
    }
   ],
   "source": [
    "df.pivot_table(values=['Runtime','IMDB_Rating'],index='Genre',aggfunc='max',margins=True)"
   ]
  },
  {
   "cell_type": "code",
   "execution_count": 45,
   "id": "b1c4c771-a05b-4290-a409-94d3dc3c0b97",
   "metadata": {},
   "outputs": [
    {
     "data": {
      "text/html": [
       "<div>\n",
       "<style scoped>\n",
       "    .dataframe tbody tr th:only-of-type {\n",
       "        vertical-align: middle;\n",
       "    }\n",
       "\n",
       "    .dataframe tbody tr th {\n",
       "        vertical-align: top;\n",
       "    }\n",
       "\n",
       "    .dataframe thead th {\n",
       "        text-align: right;\n",
       "    }\n",
       "</style>\n",
       "<table border=\"1\" class=\"dataframe\">\n",
       "  <thead>\n",
       "    <tr style=\"text-align: right;\">\n",
       "      <th></th>\n",
       "      <th>Series_Title</th>\n",
       "      <th>Released_Year</th>\n",
       "      <th>Genre</th>\n",
       "    </tr>\n",
       "  </thead>\n",
       "  <tbody>\n",
       "    <tr>\n",
       "      <th>10</th>\n",
       "      <td>Casablanca</td>\n",
       "      <td>1942</td>\n",
       "      <td>Drama</td>\n",
       "    </tr>\n",
       "    <tr>\n",
       "      <th>21</th>\n",
       "      <td>Stagecoach</td>\n",
       "      <td>1939</td>\n",
       "      <td>Adventure</td>\n",
       "    </tr>\n",
       "    <tr>\n",
       "      <th>27</th>\n",
       "      <td>Un long dimanche de fiançailles</td>\n",
       "      <td>2004</td>\n",
       "      <td>Drama</td>\n",
       "    </tr>\n",
       "    <tr>\n",
       "      <th>47</th>\n",
       "      <td>Being John Malkovich</td>\n",
       "      <td>1999</td>\n",
       "      <td>Comedy</td>\n",
       "    </tr>\n",
       "  </tbody>\n",
       "</table>\n",
       "</div>"
      ],
      "text/plain": [
       "                       Series_Title  Released_Year      Genre\n",
       "10                       Casablanca           1942      Drama\n",
       "21                       Stagecoach           1939  Adventure\n",
       "27  Un long dimanche de fiançailles           2004      Drama\n",
       "47             Being John Malkovich           1999     Comedy"
      ]
     },
     "execution_count": 45,
     "metadata": {},
     "output_type": "execute_result"
    }
   ],
   "source": [
    "#fancy indexing\n",
    "df.iloc[[10,21,27,47],[0,1,3,]]"
   ]
  },
  {
   "cell_type": "code",
   "execution_count": 46,
   "id": "1686722c-d8be-4ade-b212-41035edcc69e",
   "metadata": {},
   "outputs": [
    {
     "data": {
      "text/plain": [
       "Series_Title          Casablanca\n",
       "Released_Year               1942\n",
       "Runtime                      102\n",
       "Genre                      Drama\n",
       "IMDB_Rating                  8.5\n",
       "Director          Michael Curtiz\n",
       "Star1            Humphrey Bogart\n",
       "No_of_Votes               522093\n",
       "Gross                  1024560.0\n",
       "Metascore                  100.0\n",
       "Name: 10, dtype: object"
      ]
     },
     "execution_count": 46,
     "metadata": {},
     "output_type": "execute_result"
    }
   ],
   "source": [
    "df.iloc[10]"
   ]
  },
  {
   "cell_type": "code",
   "execution_count": 47,
   "id": "641564ed-ef4f-43af-bd29-a7e71c2712df",
   "metadata": {},
   "outputs": [
    {
     "data": {
      "text/plain": [
       "{'Series_Title': 'Casablanca',\n",
       " 'Released_Year': np.int64(1942),\n",
       " 'Runtime': np.int64(102),\n",
       " 'Genre': 'Drama',\n",
       " 'IMDB_Rating': np.float64(8.5),\n",
       " 'Director': 'Michael Curtiz',\n",
       " 'Star1': 'Humphrey Bogart',\n",
       " 'No_of_Votes': np.int64(522093),\n",
       " 'Gross': np.float64(1024560.0),\n",
       " 'Metascore': np.float64(100.0)}"
      ]
     },
     "execution_count": 47,
     "metadata": {},
     "output_type": "execute_result"
    }
   ],
   "source": [
    "dict(df.iloc[10])"
   ]
  },
  {
   "cell_type": "code",
   "execution_count": null,
   "id": "3503f26d-5b4b-4d22-a974-260ee22e44af",
   "metadata": {},
   "outputs": [],
   "source": []
  }
 ],
 "metadata": {
  "kernelspec": {
   "display_name": "Python 3 (ipykernel)",
   "language": "python",
   "name": "python3"
  },
  "language_info": {
   "codemirror_mode": {
    "name": "ipython",
    "version": 3
   },
   "file_extension": ".py",
   "mimetype": "text/x-python",
   "name": "python",
   "nbconvert_exporter": "python",
   "pygments_lexer": "ipython3",
   "version": "3.13.1"
  }
 },
 "nbformat": 4,
 "nbformat_minor": 5
}
