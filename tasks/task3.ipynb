{
 "cells": [
  {
   "cell_type": "code",
   "execution_count": 1,
   "id": "1650b269-d6ba-488e-a7cd-d06e50cdcd45",
   "metadata": {},
   "outputs": [],
   "source": [
    "import pandas as pd"
   ]
  },
  {
   "cell_type": "code",
   "execution_count": 2,
   "id": "fcf0c49e-85ce-4d96-8dc3-0642769ea22d",
   "metadata": {},
   "outputs": [
    {
     "data": {
      "text/html": [
       "<div>\n",
       "<style scoped>\n",
       "    .dataframe tbody tr th:only-of-type {\n",
       "        vertical-align: middle;\n",
       "    }\n",
       "\n",
       "    .dataframe tbody tr th {\n",
       "        vertical-align: top;\n",
       "    }\n",
       "\n",
       "    .dataframe thead th {\n",
       "        text-align: right;\n",
       "    }\n",
       "</style>\n",
       "<table border=\"1\" class=\"dataframe\">\n",
       "  <thead>\n",
       "    <tr style=\"text-align: right;\">\n",
       "      <th></th>\n",
       "      <th>work_year</th>\n",
       "      <th>experience_level</th>\n",
       "      <th>employment_type</th>\n",
       "      <th>job_title</th>\n",
       "      <th>salary</th>\n",
       "      <th>salary_currency</th>\n",
       "      <th>salary_in_usd</th>\n",
       "      <th>employee_residence</th>\n",
       "      <th>remote_ratio</th>\n",
       "      <th>company_location</th>\n",
       "      <th>company_size</th>\n",
       "    </tr>\n",
       "  </thead>\n",
       "  <tbody>\n",
       "    <tr>\n",
       "      <th>0</th>\n",
       "      <td>2024</td>\n",
       "      <td>SE</td>\n",
       "      <td>FT</td>\n",
       "      <td>AI Engineer</td>\n",
       "      <td>90000</td>\n",
       "      <td>USD</td>\n",
       "      <td>90000</td>\n",
       "      <td>AE</td>\n",
       "      <td>0</td>\n",
       "      <td>AE</td>\n",
       "      <td>L</td>\n",
       "    </tr>\n",
       "    <tr>\n",
       "      <th>1</th>\n",
       "      <td>2024</td>\n",
       "      <td>SE</td>\n",
       "      <td>FT</td>\n",
       "      <td>Machine Learning Engineer</td>\n",
       "      <td>180500</td>\n",
       "      <td>USD</td>\n",
       "      <td>180500</td>\n",
       "      <td>US</td>\n",
       "      <td>0</td>\n",
       "      <td>US</td>\n",
       "      <td>M</td>\n",
       "    </tr>\n",
       "    <tr>\n",
       "      <th>2</th>\n",
       "      <td>2024</td>\n",
       "      <td>SE</td>\n",
       "      <td>FT</td>\n",
       "      <td>Machine Learning Engineer</td>\n",
       "      <td>96200</td>\n",
       "      <td>USD</td>\n",
       "      <td>96200</td>\n",
       "      <td>US</td>\n",
       "      <td>0</td>\n",
       "      <td>US</td>\n",
       "      <td>M</td>\n",
       "    </tr>\n",
       "    <tr>\n",
       "      <th>3</th>\n",
       "      <td>2024</td>\n",
       "      <td>SE</td>\n",
       "      <td>FT</td>\n",
       "      <td>Machine Learning Engineer</td>\n",
       "      <td>235000</td>\n",
       "      <td>USD</td>\n",
       "      <td>235000</td>\n",
       "      <td>AU</td>\n",
       "      <td>0</td>\n",
       "      <td>AU</td>\n",
       "      <td>M</td>\n",
       "    </tr>\n",
       "    <tr>\n",
       "      <th>4</th>\n",
       "      <td>2024</td>\n",
       "      <td>SE</td>\n",
       "      <td>FT</td>\n",
       "      <td>Machine Learning Engineer</td>\n",
       "      <td>175000</td>\n",
       "      <td>USD</td>\n",
       "      <td>175000</td>\n",
       "      <td>AU</td>\n",
       "      <td>0</td>\n",
       "      <td>AU</td>\n",
       "      <td>M</td>\n",
       "    </tr>\n",
       "    <tr>\n",
       "      <th>...</th>\n",
       "      <td>...</td>\n",
       "      <td>...</td>\n",
       "      <td>...</td>\n",
       "      <td>...</td>\n",
       "      <td>...</td>\n",
       "      <td>...</td>\n",
       "      <td>...</td>\n",
       "      <td>...</td>\n",
       "      <td>...</td>\n",
       "      <td>...</td>\n",
       "      <td>...</td>\n",
       "    </tr>\n",
       "    <tr>\n",
       "      <th>13967</th>\n",
       "      <td>2020</td>\n",
       "      <td>SE</td>\n",
       "      <td>FT</td>\n",
       "      <td>Data Scientist</td>\n",
       "      <td>412000</td>\n",
       "      <td>USD</td>\n",
       "      <td>412000</td>\n",
       "      <td>US</td>\n",
       "      <td>100</td>\n",
       "      <td>US</td>\n",
       "      <td>L</td>\n",
       "    </tr>\n",
       "    <tr>\n",
       "      <th>13968</th>\n",
       "      <td>2021</td>\n",
       "      <td>MI</td>\n",
       "      <td>FT</td>\n",
       "      <td>Principal Data Scientist</td>\n",
       "      <td>151000</td>\n",
       "      <td>USD</td>\n",
       "      <td>151000</td>\n",
       "      <td>US</td>\n",
       "      <td>100</td>\n",
       "      <td>US</td>\n",
       "      <td>L</td>\n",
       "    </tr>\n",
       "    <tr>\n",
       "      <th>13969</th>\n",
       "      <td>2020</td>\n",
       "      <td>EN</td>\n",
       "      <td>FT</td>\n",
       "      <td>Data Scientist</td>\n",
       "      <td>105000</td>\n",
       "      <td>USD</td>\n",
       "      <td>105000</td>\n",
       "      <td>US</td>\n",
       "      <td>100</td>\n",
       "      <td>US</td>\n",
       "      <td>S</td>\n",
       "    </tr>\n",
       "    <tr>\n",
       "      <th>13970</th>\n",
       "      <td>2020</td>\n",
       "      <td>EN</td>\n",
       "      <td>CT</td>\n",
       "      <td>Business Data Analyst</td>\n",
       "      <td>100000</td>\n",
       "      <td>USD</td>\n",
       "      <td>100000</td>\n",
       "      <td>US</td>\n",
       "      <td>100</td>\n",
       "      <td>US</td>\n",
       "      <td>L</td>\n",
       "    </tr>\n",
       "    <tr>\n",
       "      <th>13971</th>\n",
       "      <td>2021</td>\n",
       "      <td>SE</td>\n",
       "      <td>FT</td>\n",
       "      <td>Data Science Manager</td>\n",
       "      <td>7000000</td>\n",
       "      <td>INR</td>\n",
       "      <td>94665</td>\n",
       "      <td>IN</td>\n",
       "      <td>50</td>\n",
       "      <td>IN</td>\n",
       "      <td>L</td>\n",
       "    </tr>\n",
       "  </tbody>\n",
       "</table>\n",
       "<p>13972 rows × 11 columns</p>\n",
       "</div>"
      ],
      "text/plain": [
       "       work_year experience_level employment_type                  job_title  \\\n",
       "0           2024               SE              FT                AI Engineer   \n",
       "1           2024               SE              FT  Machine Learning Engineer   \n",
       "2           2024               SE              FT  Machine Learning Engineer   \n",
       "3           2024               SE              FT  Machine Learning Engineer   \n",
       "4           2024               SE              FT  Machine Learning Engineer   \n",
       "...          ...              ...             ...                        ...   \n",
       "13967       2020               SE              FT             Data Scientist   \n",
       "13968       2021               MI              FT   Principal Data Scientist   \n",
       "13969       2020               EN              FT             Data Scientist   \n",
       "13970       2020               EN              CT      Business Data Analyst   \n",
       "13971       2021               SE              FT       Data Science Manager   \n",
       "\n",
       "        salary salary_currency  salary_in_usd employee_residence  \\\n",
       "0        90000             USD          90000                 AE   \n",
       "1       180500             USD         180500                 US   \n",
       "2        96200             USD          96200                 US   \n",
       "3       235000             USD         235000                 AU   \n",
       "4       175000             USD         175000                 AU   \n",
       "...        ...             ...            ...                ...   \n",
       "13967   412000             USD         412000                 US   \n",
       "13968   151000             USD         151000                 US   \n",
       "13969   105000             USD         105000                 US   \n",
       "13970   100000             USD         100000                 US   \n",
       "13971  7000000             INR          94665                 IN   \n",
       "\n",
       "       remote_ratio company_location company_size  \n",
       "0                 0               AE            L  \n",
       "1                 0               US            M  \n",
       "2                 0               US            M  \n",
       "3                 0               AU            M  \n",
       "4                 0               AU            M  \n",
       "...             ...              ...          ...  \n",
       "13967           100               US            L  \n",
       "13968           100               US            L  \n",
       "13969           100               US            S  \n",
       "13970           100               US            L  \n",
       "13971            50               IN            L  \n",
       "\n",
       "[13972 rows x 11 columns]"
      ]
     },
     "execution_count": 2,
     "metadata": {},
     "output_type": "execute_result"
    }
   ],
   "source": [
    "df=pd.read_csv(r\"C:\\Users\\DELL\\Desktop\\Sipalaya Data Science\\datas\\salaries.csv\")\n",
    "df"
   ]
  },
  {
   "cell_type": "markdown",
   "id": "e060de48-017b-4a1f-9b61-9921b6c373b8",
   "metadata": {},
   "source": [
    "### 1.How many unique job titles are there in the dataset?"
   ]
  },
  {
   "cell_type": "code",
   "execution_count": 4,
   "id": "e811e0f2-8f54-465d-bb4d-5562adca1c7d",
   "metadata": {},
   "outputs": [
    {
     "data": {
      "text/plain": [
       "146"
      ]
     },
     "execution_count": 4,
     "metadata": {},
     "output_type": "execute_result"
    }
   ],
   "source": [
    "len(df['job_title'].unique())"
   ]
  },
  {
   "cell_type": "markdown",
   "id": "a22af851-3d81-4182-8071-c1ea70e90d45",
   "metadata": {},
   "source": [
    "### 2.How many employees are working remotely(remote_ratio=100)?"
   ]
  },
  {
   "cell_type": "code",
   "execution_count": 6,
   "id": "50b5f4cb-f0ed-4fb0-ab51-922f74243673",
   "metadata": {},
   "outputs": [
    {
     "name": "stdout",
     "output_type": "stream",
     "text": [
      "4537\n"
     ]
    }
   ],
   "source": [
    "count=(df['remote_ratio']==100).sum()\n",
    "print(count)"
   ]
  },
  {
   "cell_type": "markdown",
   "id": "efc8ea2d-1d33-4275-adfe-bbfe2e873229",
   "metadata": {},
   "source": [
    "### 3.Which job title has the highest frequency in the dataset?"
   ]
  },
  {
   "cell_type": "code",
   "execution_count": 9,
   "id": "af985070-c82d-474c-b3a4-77e0c786ee0d",
   "metadata": {},
   "outputs": [
    {
     "data": {
      "text/plain": [
       "job_title\n",
       "Data Engineer    3017\n",
       "Name: count, dtype: int64"
      ]
     },
     "execution_count": 9,
     "metadata": {},
     "output_type": "execute_result"
    }
   ],
   "source": [
    "df['job_title'].value_counts().head(1)"
   ]
  },
  {
   "cell_type": "markdown",
   "id": "c9972f9c-c0dd-48d7-a3cb-850a25a336b2",
   "metadata": {},
   "source": [
    "### 4.How many companies are located in the US?"
   ]
  },
  {
   "cell_type": "code",
   "execution_count": 17,
   "id": "39954e40-05f0-41f3-8038-317aa6780e70",
   "metadata": {},
   "outputs": [
    {
     "data": {
      "text/plain": [
       "12220"
      ]
     },
     "execution_count": 17,
     "metadata": {},
     "output_type": "execute_result"
    }
   ],
   "source": [
    "len(df[df['company_location']=='US'])"
   ]
  },
  {
   "cell_type": "markdown",
   "id": "8984f565-e2c0-43dc-aaae-84c295b8044f",
   "metadata": {},
   "source": [
    "### 5.What is the distribution of company sizes in the dataset?"
   ]
  },
  {
   "cell_type": "code",
   "execution_count": 20,
   "id": "41fe7a5c-ee2e-4984-b328-6c9902341b5e",
   "metadata": {},
   "outputs": [
    {
     "data": {
      "text/plain": [
       "<Axes: xlabel='company_size'>"
      ]
     },
     "execution_count": 20,
     "metadata": {},
     "output_type": "execute_result"
    },
    {
     "data": {
      "image/png": "[encoded data removed]",
      "text/plain": [
       "<Figure size 640x480 with 1 Axes>"
      ]
     },
     "metadata": {},
     "output_type": "display_data"
    }
   ],
   "source": [
    "df['company_size'].value_counts().plot(kind='bar')"
   ]
  },
  {
   "cell_type": "markdown",
   "id": "06e07077-1bd6-4f81-b088-7e5fdb1a1ef3",
   "metadata": {},
   "source": [
    "### 6.Which employee residence has the highest average salary?"
   ]
  },
  {
   "cell_type": "code",
   "execution_count": 23,
   "id": "d512907f-7c43-4da9-9d5c-a4be84f7252e",
   "metadata": {},
   "outputs": [
    {
     "data": {
      "text/plain": [
       "'CL'"
      ]
     },
     "execution_count": 23,
     "metadata": {},
     "output_type": "execute_result"
    }
   ],
   "source": [
    "df.groupby('employee_residence')['salary'].mean().idxmax()"
   ]
  },
  {
   "cell_type": "code",
   "execution_count": 24,
   "id": "9c52f677-b4d2-47e4-9679-a367ce908744",
   "metadata": {},
   "outputs": [
    {
     "data": {
      "text/plain": [
       "np.float64(15252500.0)"
      ]
     },
     "execution_count": 24,
     "metadata": {},
     "output_type": "execute_result"
    }
   ],
   "source": [
    "df.groupby('employee_residence')['salary'].mean().max()"
   ]
  },
  {
   "cell_type": "markdown",
   "id": "262f211f-6eab-4770-9044-a6bfc887fe1f",
   "metadata": {},
   "source": [
    "### 7.What is the average salary for each employement type?"
   ]
  },
  {
   "cell_type": "code",
   "execution_count": 25,
   "id": "0488b59e-02f0-4f7c-884d-dfd94f32386a",
   "metadata": {},
   "outputs": [
    {
     "data": {
      "text/plain": [
       "employment_type\n",
       "CT    115330.615385\n",
       "FL    249379.583333\n",
       "FT    166168.233539\n",
       "PT     74737.454545\n",
       "Name: salary, dtype: float64"
      ]
     },
     "execution_count": 25,
     "metadata": {},
     "output_type": "execute_result"
    }
   ],
   "source": [
    "df.groupby('employment_type')['salary'].mean()"
   ]
  },
  {
   "cell_type": "markdown",
   "id": "c2d812d4-d2a7-47d2-950e-3a764b7ec98a",
   "metadata": {},
   "source": [
    "### 8.What is the relationship between the 'salary_in_usd' and 'remote_ratio'?Does being remote impact salary?"
   ]
  },
  {
   "cell_type": "code",
   "execution_count": 27,
   "id": "a763af8f-af6c-48eb-bfe9-45983ce8b135",
   "metadata": {},
   "outputs": [
    {
     "data": {
      "text/html": [
       "<div>\n",
       "<style scoped>\n",
       "    .dataframe tbody tr th:only-of-type {\n",
       "        vertical-align: middle;\n",
       "    }\n",
       "\n",
       "    .dataframe tbody tr th {\n",
       "        vertical-align: top;\n",
       "    }\n",
       "\n",
       "    .dataframe thead th {\n",
       "        text-align: right;\n",
       "    }\n",
       "</style>\n",
       "<table border=\"1\" class=\"dataframe\">\n",
       "  <thead>\n",
       "    <tr style=\"text-align: right;\">\n",
       "      <th></th>\n",
       "      <th>salary_in_usd</th>\n",
       "      <th>remote_ratio</th>\n",
       "    </tr>\n",
       "  </thead>\n",
       "  <tbody>\n",
       "    <tr>\n",
       "      <th>salary_in_usd</th>\n",
       "      <td>1.000000</td>\n",
       "      <td>-0.065133</td>\n",
       "    </tr>\n",
       "    <tr>\n",
       "      <th>remote_ratio</th>\n",
       "      <td>-0.065133</td>\n",
       "      <td>1.000000</td>\n",
       "    </tr>\n",
       "  </tbody>\n",
       "</table>\n",
       "</div>"
      ],
      "text/plain": [
       "               salary_in_usd  remote_ratio\n",
       "salary_in_usd       1.000000     -0.065133\n",
       "remote_ratio       -0.065133      1.000000"
      ]
     },
     "execution_count": 27,
     "metadata": {},
     "output_type": "execute_result"
    }
   ],
   "source": [
    "df[['salary_in_usd','remote_ratio']].corr()"
   ]
  },
  {
   "cell_type": "markdown",
   "id": "210714b3-06f0-4cf4-9463-26bca8edfa50",
   "metadata": {},
   "source": [
    "##### The correlation between salary_in_usd and remote_ratio is -0.065133, which is very close to 0. This suggests that there is a very weak negative relationship between the two variables. In other words, the data shows that being in a remote job does not significantly impact the salary based on the correlation value."
   ]
  }
 ],
 "metadata": {
  "kernelspec": {
   "display_name": "Python 3 (ipykernel)",
   "language": "python",
   "name": "python3"
  },
  "language_info": {
   "codemirror_mode": {
    "name": "ipython",
    "version": 3
   },
   "file_extension": ".py",
   "mimetype": "text/x-python",
   "name": "python",
   "nbconvert_exporter": "python",
   "pygments_lexer": "ipython3",
   "version": "3.13.1"
  }
 },
 "nbformat": 4,
 "nbformat_minor": 5
}
